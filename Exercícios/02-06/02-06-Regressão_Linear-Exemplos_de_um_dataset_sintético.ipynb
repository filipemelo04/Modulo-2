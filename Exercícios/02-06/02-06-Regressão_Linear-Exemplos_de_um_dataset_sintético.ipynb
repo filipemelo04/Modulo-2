{
 "cells": [
  {
   "cell_type": "markdown",
   "metadata": {},
   "source": [
    "# Regressão linear: Exemplo sobre dataset sintético\n",
    "\n",
    "## O que vamos fazer?\n",
    "\n",
    "- Usar um dataset sintético gerado automaticamente para comprovar a nossa implementação \n",
    "- Formar um modelo ML de regressão linear multivariável\n",
    "- Comprovar a evolução da formação do modelo \n",
    "- Avaliar o modelo de uma forma simples\n",
    "- Fazer previsões sobre novos exemplos futuros"
   ]
  },
  {
   "cell_type": "code",
   "execution_count": 2,
   "metadata": {},
   "outputs": [],
   "source": [
    "import time\n",
    "import numpy as np\n",
    "from matplotlib import pyplot as plt"
   ]
  },
  {
   "cell_type": "markdown",
   "metadata": {},
   "source": [
    "## Criação do dataset sintético\n",
    "\n",
    "Vamos criar um dataset sintético para comprovar a nossa implementação.\n",
    "\n",
    "Segundo os métodos que usámos em exercícios anteriores, criar um dataset sintéticos usando o método Numpy.\n",
    "\n",
    "Incluir um termo de erro controlável nesse dataset mas iniciar a 0, uma vez que para fazer a primeira implementação deste modelo ML de regressão linear multivariável queremos que não haja nenhum erro nos dados que possam ocultar um erro no nosso modelo.\n",
    "\n",
    "Mais tarde vamos introduzir um termo de erro com um valor distinto de zero, para comprovar que a nossa implementação pode \n",
    "também formar o modelo nestas circunstâncias mais reais.\n",
    "\n",
    "### O termo de bias ou intercept\n",
    "\n",
    "Desta vez, vamos gerar o dataset sintético com uma pequena modificação: vamos adicionar uma primeira coluna de 1s a X, ou um 1 \n",
    "como primeiro valor das características de cada exemplo.\n",
    "\n",
    "Além disso, uma vez que adicionamos mais uma característica à matriz X, adicionamos mais uma característica ou valor ao vetor Theta.\n",
    "\n",
    "Porque é que adicionamos esta coluna, este novo termo ou característica?\n",
    "\n",
    "Porque é a forma mais simples de implementar a equação linear numa única operação de álgebra linear\n",
    "\n",
    "Desta forma convertemos então $Y = m \\times X + b$ em $Y = X \\times \\Theta$, poupando-nos uma operação de soma e implementando a equação numa única operação de multiplicação da matriz.\n",
    "\n",
    "O termo b é, portanto, incorporado como o primeiro termo do vetor Theta, que quando multiplicado pela primeira coluna de X, sendo de valor 1 para todas as linhas, permite-nos adicionar o termo b a cada exemplo."
   ]
  },
  {
   "cell_type": "code",
   "execution_count": 3,
   "metadata": {},
   "outputs": [
    {
     "name": "stdout",
     "output_type": "stream",
     "text": [
      "X:\n",
      " [[-0.29074106  0.42076186  0.52977401 -0.23278022]\n",
      " [-0.38226129  0.5559814  -0.12368817  0.99935244]\n",
      " [-0.27137835  0.19653114 -0.60616634  0.95323991]]\n",
      "Novo X:\n",
      " [[ 1.         -0.29074106  0.42076186  0.52977401 -0.23278022]\n",
      " [ 1.         -0.38226129  0.5559814  -0.12368817  0.99935244]\n",
      " [ 1.         -0.27137835  0.19653114 -0.60616634  0.95323991]]\n",
      "Theta: \n",
      " [0.87923666 0.10398144 0.27770877 0.69732941 0.08071728]\n",
      "Y:\n",
      " [ 1.31649186  0.9883031   0.55984208  0.60605925  0.87471376  1.21586321\n",
      "  1.16997011  0.21519335  1.08083938  0.87555829  0.69440841  1.00046553\n",
      "  0.71388082  0.67042167  0.15513522  1.03630778  0.14754011  0.76339427\n",
      "  0.89636604  1.19921523  0.918885    0.65761805  1.1789776  -0.04770996\n",
      "  1.17709261  0.70604283  1.23055057  0.98065165  1.10612086  0.72395166\n",
      "  1.36583061  0.41961321  1.61524167  1.02693368  1.04761912  1.15720213\n",
      "  1.59789451  0.3528862   0.74225091  0.9684291   1.02732561  1.16347551\n",
      "  1.08781789  1.63034839  0.88233145  1.25947377  0.85113323  0.94214907\n",
      "  0.45524501  1.17397241  0.49883939  1.24463646  0.50163549  1.23488056\n",
      "  1.31299389  0.70196506  0.63358994  1.28374182  0.20587216  1.2547226\n",
      "  0.62428413  1.60418503  1.22377447  1.10103828  0.54800362  1.325036\n",
      "  0.82229963  0.46790289  0.7268358   0.4680863   0.7385748   1.10009103\n",
      "  1.07673912  0.64349581  0.09031768  1.48590627  0.11340685  1.37765406\n",
      "  1.51424779  1.19139388  0.68850942  0.99656081  0.77327515  1.33437623\n",
      "  1.20153956  0.85059501  1.32777962  0.51004153  0.38355523  0.15351211\n",
      "  0.39359763  1.32119819  0.67766844  0.07826904  1.39758235  1.32159963\n",
      "  0.58224897  0.43755824  1.72803181  0.71693937]\n",
      "Dimensão de X: (100, 5)\n",
      "Dimensão de Theta: (5,)\n",
      "Dimensão de Y: (100,)\n",
      "\n",
      "Primeiras 10 filas X e Y:\n",
      "X: [[ 1.         -0.29074106  0.42076186  0.52977401 -0.23278022]\n",
      " [ 1.         -0.38226129  0.5559814  -0.12368817  0.99935244]\n",
      " [ 1.         -0.27137835  0.19653114 -0.60616634  0.95323991]\n",
      " [ 1.         -0.79563629  0.59036829 -0.4592491  -0.4230638 ]\n",
      " [ 1.          0.19213149 -0.1089765  -0.04268646  0.44016901]\n",
      " [ 1.          0.91432008 -0.71005509  0.58296786  0.39919729]\n",
      " [ 1.          0.63672528  0.3415286   0.12822403  0.49885172]\n",
      " [ 1.          0.87737714 -0.92811002 -0.6340529  -0.68617561]\n",
      " [ 1.         -0.86974874  0.82709186  0.17652859 -0.75261209]\n",
      " [ 1.         -0.44393591 -0.25723916  0.22900455 -0.56705719]]\n",
      "Y: [1.31649186 0.9883031  0.55984208 0.60605925 0.87471376 1.21586321\n",
      " 1.16997011 0.21519335 1.08083938 0.87555829]\n",
      "\n"
     ]
    }
   ],
   "source": [
    "# TODO: Gerar um dataset sintético, com termo de erro inicialmente a 0, sob a forma que escolher\n",
    "m, n = 100, 4\n",
    "\n",
    "# Criar uma matriz de números aleatórios no intervalo [-1, 1)\n",
    "X = np.random.uniform(-1, 1, (m, n))\n",
    "print(\"X:\\n\", X[:3])\n",
    "\n",
    "# Inserir um vetor de 1s como primeira coluna de X\n",
    "# Dicas: np.insert(), np.ones(), índice 0, eixo 1...\n",
    "X = np.insert(X, 0, 1, axis=1)\n",
    "print(\"Novo X:\\n\", X[:3])\n",
    "\n",
    "# Gerar um vetor de números aleatórios no intervalo [0, 1) de tamanho n + 1 (ao adicionar o termo bias\n",
    "Theta_verd = np.random.rand(n + 1)\n",
    "print(\"Theta: \\n\", Theta_verd)\n",
    "\n",
    "# Gerar o vetor Y com um termo de erro aleatório em %, inicializado a 0\n",
    "error = 0.\n",
    "\n",
    "Y = np.matmul(X, Theta_verd.T) \n",
    "print(\"Y:\\n\", Y)\n",
    "Y = Y + error\n",
    "\n",
    "# Verificar os valores e dimensões dos vetores\n",
    "print(\"Dimensão de X:\", X.shape)\n",
    "print(\"Dimensão de Theta:\", Theta_verd.shape)\n",
    "print(\"Dimensão de Y:\", Y.shape)\n",
    "print()\n",
    "\n",
    "print('Primeiras 10 filas X e Y:') \n",
    "print('X:', X[:10])\n",
    "print('Y:', Y[:10])\n",
    "print()"
   ]
  },
  {
   "cell_type": "code",
   "execution_count": 7,
   "metadata": {},
   "outputs": [
    {
     "data": {
      "text/plain": [
       "\"alpha = 0.01\\ne = 1e-3\\niter_ = 1e5 \\ntheta_ini = [5.2, 10.5, 2.9, 20.2, 1.3]\\n\\nj_hist, theta_final = gradient_descent(X, Y, theta_ini, alpha, e, iter_) \\n\\n# TODO: completar\\nprint('\\nTamanho da função de custo') \\nprint(len(j_hist))\\nprint('\\nÚltimos 10 valores da função de custo') \\nprint(j_hist[-10:])\\nprint('\\nCusto final:') \\nprint(round(j_hist[-1], 2)) \\nprint('\\nTheta final:') \\nprint(theta_final)\""
      ]
     },
     "execution_count": 7,
     "metadata": {},
     "output_type": "execute_result"
    }
   ],
   "source": [
    "'''alpha = 0.01\n",
    "e = 1e-3\n",
    "iter_ = 1e5 \n",
    "theta_ini = [5.2, 10.5, 2.9, 20.2, 1.3]\n",
    "\n",
    "j_hist, theta_final = gradient_descent(X, Y, theta_ini, alpha, e, iter_) \n",
    "\n",
    "# TODO: completar\n",
    "print('\\nTamanho da função de custo') \n",
    "print(len(j_hist))\n",
    "print('\\nÚltimos 10 valores da função de custo') \n",
    "print(j_hist[-10:])\n",
    "print('\\nCusto final:') \n",
    "print(round(j_hist[-1], 2)) \n",
    "print('\\nTheta final:') \n",
    "print(theta_final)'''"
   ]
  },
  {
   "cell_type": "markdown",
   "metadata": {},
   "source": [
    "Fixar-se na operação de multiplicação da matriz implementada: $Y = X \\times \\Theta$\n",
    "\n",
    "Comprovar as dimensões de cada vetor: X, Y, Theta. \n",
    "\n",
    "Acredita que é uma operação possível em termos das regras da álgebra linear?\n",
    "\n",
    "E ainda assim, foi possível fazê-lo em Numpy? Se tiver dúvidas, pode consultar a documentação Numpy sobre a função np.matmul.\n",
    "\n",
    "Comprovar o resultado, talvez reduzindo o número original de exemplos e características, e assegurar-se de que é um resultado correto."
   ]
  },
  {
   "cell_type": "markdown",
   "metadata": {},
   "source": [
    "## Formação do modelo"
   ]
  },
  {
   "cell_type": "markdown",
   "metadata": {},
   "source": [
    "Cópia do exercício anterior, a sua implementação da função de custos e a sua otimização por gradient descent:"
   ]
  },
  {
   "cell_type": "code",
   "execution_count": 5,
   "metadata": {},
   "outputs": [],
   "source": [
    "# TODO: Copiar o código das suas funções de custo e descida do gradiente\n",
    "\n",
    "def cost_function(x, y, theta):\n",
    "    \n",
    "    \"\"\" Computar a função de custo para o dataset e coeficientes considerados.\n",
    "    \n",
    "    Argumentos posicionais:\n",
    "     x -- array 2D de Numpy com os valores das variáveis independentes dos exemplos, de tamanho m x n \n",
    "    y -- array 1D Numpy com a variável dependente/objetivo, de tamanho m x 1\n",
    "    theta -- array 1D Numpy com os pesos dos coeficientes do modelo, de tamanho 1 x n (vetor fila)\n",
    "    \n",
    "    Devolver:\n",
    "     j -- float com o custo para esse array theta \n",
    "     \"\"\"\n",
    "    \n",
    "    # Verificar se os dados estão de acordo\n",
    "    if not (x.ndim == 2 and theta.ndim == 1 and y.ndim == 1): \n",
    "        return False\n",
    "    \n",
    "    m = len(y)\n",
    "\n",
    "    # Calcular o produto escalar entre x e theta\n",
    "    h = np.dot(x, theta.T)  # Previsões\n",
    "    \n",
    "    # Calculando a função de custo\n",
    "    j = (1 / (2 * m)) * np.sum((h - y) ** 2)  \n",
    "\n",
    "    return j\n",
    "    \n",
    "\n",
    "def gradient_descent(x, y, theta, alpha, e, iter):\n",
    "    \n",
    "    \"\"\" Formar o modelo otimizando a sua função de custo por gradient descent\n",
    "    \n",
    "    Argumentos posicionais:\n",
    "    x -- array 2D de Numpu com os valores das variáveis independentes dos exemplos, de tamanho m x n \n",
    "    y -- array 1D Numpy com a variável dependente/objetivo, de tamanho m x 1\n",
    "    theta -- array 1D Numpy com os pesos dos coeficientes do modelo, de tamanho 1 x n (vetor fila) \n",
    "    alpha -- float, ratio de formação\n",
    "    \n",
    "    Argumentos numerados (keyword):\n",
    "    e -- float, diferença mínima entre iterações para declarar que a formação finalmente convergiu \n",
    "    iter_ -- int/float, número de iterações\n",
    "    \n",
    "    Devolver:\n",
    "    j_hist -- list/array com a evolução da função de custo durante a formação \n",
    "    theta -- array Numpy com o valor do theta na última iteração\n",
    "    \n",
    "    \"\"\"\n",
    "    iter_ = int(iter)  # Se declarou iter_ em notação científica (1e3) ou float (1000.), converter\n",
    "    \n",
    "    # Inicializar j_hist como uma list ou um array Numpy. Recordar que não sabemos que tamanho terá\n",
    "    j_hist = []\n",
    "    \n",
    "    m, n = x.shape  # Obter m e n a partir das dimensões de X\n",
    "    \n",
    "    for k in range(iter_):  # Iterar sobre o número máximo de iterações\n",
    "        theta_iter = np.copy(theta)  # Copiar theta para atualizar\n",
    "        \n",
    "        for j in range(n):  # Iterar sobre n.º de características\n",
    "            # Atualizar theta_iter para cada característica, de acordo com a derivada da função de custo\n",
    "            # Incluir a relação de formação alfa\n",
    "            theta_iter[j] = theta[j] - (alpha / (m)) * np.sum((x.dot(theta) - y) * x[:, j])\n",
    "        \n",
    "        theta = theta_iter\n",
    "            \n",
    "        cost = cost_function(x, y, theta)  # Calcular o custo para a atual iteração theta\n",
    "            \n",
    "        j_hist.append(cost)  # Adicionar o custo da iteração atual ao histórico de custos\n",
    "        \n",
    "        # Comprovar se a diferença entre o custo da iteração atual e o custo da última iteração em valor \n",
    "        # absoluto são inferiores que a diferença mínima para declarar a convergência\n",
    "        if k > 0 and abs(j_hist[-1] - j_hist[-2]) < e:\n",
    "            print('Convergir na iteração n.º: ', k)\n",
    "            break\n",
    "    else:\n",
    "        print('N.º máx. de iterações alcançado')\n",
    "        \n",
    "    return j_hist, theta"
   ]
  },
  {
   "cell_type": "markdown",
   "metadata": {},
   "source": [
    "Vamos utilizar estas funções para formar o nosso modelo ML. \n",
    "\n",
    "Recordamos os passos que vamos seguir:\n",
    "- Iniciar theta com valores aleatórios\n",
    "- Otimizar theta reduzindo o custo associado a cada iteração dos seus valores.\n",
    "- Quando tivermos encontrado o valor mínimo da função de custo, tomar o theta associado como os coeficientes do nosso modelo.\n",
    "\n",
    "Portanto, completar o código na seguinte célula:"
   ]
  },
  {
   "cell_type": "code",
   "execution_count": 7,
   "metadata": {},
   "outputs": [
    {
     "name": "stdout",
     "output_type": "stream",
     "text": [
      "Theta inicial:\n",
      "[5.2, 3.6, 1.7, 0.4, 3.8]\n",
      "Hiper-parâmetros a utilizar:\n",
      "Convergir na iteração n.º:  155\n",
      "Tempo de formação (s): 0.024960756301879883\n",
      "\n",
      "Últimos 10 valores da função de custo\n",
      "[0.003406907656170522, 0.0032697249729790995, 0.0031381208754437217, 0.003011864928065889, 0.0028907364486112784, 0.0027745240799025247, 0.002663025381420839, 0.002556046439734418, 0.0024534014968244666, 0.00235491259542954]\n",
      "\n",
      "Custo final:\n",
      "0.00235\n",
      "Valores verdadeiros de Theta e diferença com valores formados:\n",
      "\n",
      "Theta final: [0.9  0.19 0.35 0.6  0.1 ]\n",
      "Theta_verd: [0.88 0.1  0.28 0.7  0.08]\n",
      "Diferença de Thetas:  [ 0.02  0.09  0.07 -0.1   0.02]\n"
     ]
    }
   ],
   "source": [
    "# TODO: Formar o seu modelo ML otimizando os seus coeficientes theta por gradient descent\n",
    "\n",
    "# Inicializar theta com n + 1 valores aleatórios\n",
    "theta_ini = [5.2, 3.6, 1.7, 0.4, 3.8]\n",
    "\n",
    "print('Theta inicial:') \n",
    "print(theta_ini)\n",
    "\n",
    "alpha = 1e-1 \n",
    "e = 1e-4\n",
    "iter_ = 1e6\n",
    "\n",
    "print('Hiper-parâmetros a utilizar:')\n",
    "\n",
    "t = time.time()\n",
    "j_hist, theta = gradient_descent(X, Y, theta_ini, alpha, e, iter_)\n",
    "\n",
    "print('Tempo de formação (s):', time.time() - t)\n",
    "\n",
    "# TODO: completar\n",
    "print('\\nÚltimos 10 valores da função de custo') \n",
    "print(j_hist[-10:])\n",
    "print('\\nCusto final:') \n",
    "print(round(j_hist[-1], 5)) \n",
    "\n",
    "print('Valores verdadeiros de Theta e diferença com valores formados:') \n",
    "print('\\nTheta final:', np.round(theta, 2)) \n",
    "print(\"Theta_verd:\", np.round(Theta_verd, 2))\n",
    "print(\"Diferença de Thetas: \", np.round(theta - Theta_verd, 2))"
   ]
  },
  {
   "cell_type": "markdown",
   "metadata": {},
   "source": [
    "Comprovar que não se modificou a Theta inicial. A sua implementação deve copiar um novo objeto Python em cada iteração e não o \n",
    "modificar durante a formação."
   ]
  },
  {
   "cell_type": "code",
   "execution_count": 8,
   "metadata": {},
   "outputs": [
    {
     "name": "stdout",
     "output_type": "stream",
     "text": [
      "Theta inicial e theta final:\n",
      "Theta Inicial:  [0.87923666 0.10398144 0.27770877 0.69732941 0.08071728]\n",
      "Theta Final:  [0.89856784 0.19325052 0.35136159 0.60113322 0.09882812]\n",
      "Diferença de Thetas:  [-0.01933118 -0.08926908 -0.07365282  0.09619619 -0.01811084]\n"
     ]
    }
   ],
   "source": [
    "# TODO: Comprovar que não se modificou a Theta inicial\n",
    "\n",
    "print('Theta inicial e theta final:') \n",
    "print(\"Theta Inicial: \", Theta_verd)\n",
    "print(\"Theta Final: \", theta)\n",
    "print(\"Diferença de Thetas: \", Theta_verd - theta)"
   ]
  },
  {
   "cell_type": "markdown",
   "metadata": {},
   "source": [
    "### Comprovar a formação do modelo\n",
    "\n",
    "Para comprovar a formação do modelo, vamos representar graficamente a evolução da função de custo, para verificar que não houve \n",
    "qualquer grande salto e que este avançou firmemente para um valor mínimo:"
   ]
  },
  {
   "cell_type": "code",
   "execution_count": 9,
   "metadata": {},
   "outputs": [
    {
     "data": {
      "image/png": "[encoded data removed]",
      "text/plain": [
       "<Figure size 640x480 with 1 Axes>"
      ]
     },
     "metadata": {},
     "output_type": "display_data"
    }
   ],
   "source": [
    "# TODO: Representar a evolução da função de custo vs. o número de iterações\n",
    "\n",
    "plt.figure(1)\n",
    "\n",
    "plt.title('Função de custo') \n",
    "plt.xlabel('Iterações') \n",
    "plt.ylabel('Custo')\n",
    "\n",
    "plt.plot(range(len(j_hist)), j_hist) # Completar a função\n",
    "\n",
    "plt.show()"
   ]
  },
  {
   "cell_type": "markdown",
   "metadata": {},
   "source": [
    "## Fazer previsões\n",
    "\n",
    "Vamos utilizar o theta, o resultado do nosso processo de formação modelo, para fazer previsões sobre novos exemplos que virão no futuro.\n",
    "\n",
    "Vamos gerar um novo conjunto de dados X seguindo os mesmos passos que os acima referidos. Portanto, se X tiver o mesmo número de características e os seus valores estiverem na mesma gama que o X gerado anteriormente, irá comportar-se da mesma forma que os dados utilizados para formar o modelo."
   ]
  },
  {
   "cell_type": "code",
   "execution_count": 17,
   "metadata": {},
   "outputs": [
    {
     "name": "stdout",
     "output_type": "stream",
     "text": [
      "X_pred:\n",
      " [[ 1.00000000e+00  4.72852085e-01 -5.55387243e-01  2.06478908e-01\n",
      "   2.44884686e-01]\n",
      " [ 1.00000000e+00  2.53751971e-04 -8.89202815e-01 -2.98296611e-01\n",
      "   1.63179291e-01]\n",
      " [ 1.00000000e+00  8.58709207e-02  4.56623910e-01 -2.83291091e-01\n",
      "  -3.32936404e-01]]\n",
      "Previsões:\n",
      "[0.6515575  1.65743579 0.76782006 0.99767262 0.99556677 0.82766833\n",
      " 1.56177473 1.35845028 1.20597434 0.97356748 1.27088984 1.34673741\n",
      " 0.11962665 1.1814997  1.34445129 0.27889219 0.94283359 0.92061002\n",
      " 0.23185706 0.88871982 0.76790751 1.13936516 1.52657127 1.32829984\n",
      " 1.43594468]\n"
     ]
    }
   ],
   "source": [
    "# TODO: Fazer previsões utilizando o theta calculado.\n",
    "\n",
    "# Gerar uma nova matriz X com novos exemplos. Utilizar o mesmo número de características e a mesma gama de valores aleatórios, \n",
    "# mas um número menor de exemplos (por exemplo, 25% do original).\n",
    "# Recordar de acrescentar o termo bias, ou uma primeira coluna de 1s à matriz.\n",
    "# Criar uma matriz de números aleatórios no intervalo [-1, 1)\n",
    "\n",
    "X_pred = np.random.uniform(-1, 1, (int(m/4), n))\n",
    "X_pred = np.insert(X_pred, 0, 1, axis=1)\n",
    "print(\"X_pred:\\n\", X_pred[:3])\n",
    "\n",
    "# Calcular as previsões para estes novos dados\n",
    "y_pred_new = np.matmul(X_pred, theta)\n",
    "\n",
    "\n",
    "print('Previsões:')\n",
    "print(y_pred)    # Vamos imprimir todos os valores"
   ]
  },
  {
   "cell_type": "markdown",
   "metadata": {},
   "source": [
    "## Avaliação do modelo\n",
    "\n",
    "Há várias opções para avaliar o modelo. Neste momento, vamos fazer uma avaliação mais simples, mais rápida e mais informal do \n",
    "modelo. Nos próximos módulos do curso veremos como avaliar os nossos modelos de uma forma mais formal e precisa.\n",
    "\n",
    "Faremos uma avaliação gráfica, para simplesmente verificar se a nossa implementação está a funcionar como esperado."
   ]
  },
  {
   "cell_type": "code",
   "execution_count": 18,
   "metadata": {},
   "outputs": [
    {
     "data": {
      "image/png": "[encoded data removed]",
      "text/plain": [
       "<Figure size 640x480 with 1 Axes>"
      ]
     },
     "metadata": {},
     "output_type": "display_data"
    }
   ],
   "source": [
    "# TODO: Representar os valores do Y inicial vs X, e o Y previsto para o mesmo vs X.\n",
    "\n",
    "# Realizar previsões para cada valor do X original com o theta formado pelo modelo.\n",
    "Y_pred_original = np.matmul(X, theta)\n",
    "\n",
    "plt.figure(2)\n",
    "\n",
    "plt.title('Dataset original e previsões') \n",
    "plt.xlabel('X')\n",
    "plt.ylabel('Y')\n",
    "\n",
    "# Usar um gráfico de pontos com cores diferentes para o Y inicial e o Y previsto.\n",
    "plt.scatter(range(len(Y_pred_original)), Y_pred_original)\n",
    "plt.scatter(range(len(y_pred_new)), y_pred_new)\n",
    "\n",
    "plt.show()"
   ]
  },
  {
   "cell_type": "markdown",
   "metadata": {},
   "source": [
    "Representar também a diferença em valor absoluto entre o Y original e o Y previsto. \n",
    "\n",
    "Vamos chamar a esta diferença os **resíduos** do nosso modelo:"
   ]
  },
  {
   "cell_type": "code",
   "execution_count": 22,
   "metadata": {},
   "outputs": [
    {
     "name": "stdout",
     "output_type": "stream",
     "text": [
      "[-0.22151679  2.27505491 -1.07629    -1.09192096  1.8605876  -0.99940895\n",
      "  0.52271657  0.23379241  0.98485597 -0.19820071  0.25339307 -0.40534551\n",
      " -0.13899833  1.20876663 -0.62361293  0.19108483 -0.67709254  0.03821646\n",
      "  0.16268397  0.66503824  2.10440129  0.33069847 -0.23480529  0.45788331\n",
      "  1.33092467]\n"
     ]
    },
    {
     "data": {
      "image/png": "[encoded data removed]",
      "text/plain": [
       "<Figure size 640x480 with 1 Axes>"
      ]
     },
     "metadata": {},
     "output_type": "display_data"
    }
   ],
   "source": [
    "#  TODO: Calcular e fazer um gráfico dos resíduos do seu modelo no dataset de formação.\n",
    "\n",
    "resíduos = y_pred - Y[:25] \n",
    "print(resíduos)\n",
    "plt.figure(3)\n",
    "\n",
    "plt.title('Dataset original e previsões') \n",
    "plt.xlabel('X')\n",
    "plt.ylabel('Resíduos') \n",
    "\n",
    "plt.plot(resíduos) \n",
    "\n",
    "plt.show()"
   ]
  },
  {
   "cell_type": "markdown",
   "metadata": {},
   "source": [
    "Se a nossa implementação estiver correta, o nosso modelo deveria ter sido capaz de formar corretamente e ter um resíduo quase nulo, uma diferença quase nula entre os resultados originais (Y) e os resultados que o nosso modelo iria calcular.\n",
    "\n",
    "Contudo, como nos lembramos, no primeiro ponto criámos um conjunto de dados com o termo de erro a 0. Portanto, cada valor de Y \n",
    "não tem nenhuma diferença ou variação aleatória em relação ao seu verdadeiro valor.\n",
    "\n",
    "Na vida real, ou porque não tivemos em conta todas as características que iriam afetar a nossa variável alvo, ou porque os dados contêm algum pequeno erro, ou porque, em geral, os dados não seguem um comportamento completamente preciso, teremos sempre algum termo de erro, mais ou menos aleatório.\n",
    "\n",
    "Então, e se voltar à primeira célula e modificar o seu termo de erro, e executar novamente as seguintes células para formar e avaliar um novo modelo de regressão linear sobre dados mais próximos da realidade?\n",
    "\n",
    "Verifique a robustez da sua implementação desta forma."
   ]
  },
  {
   "cell_type": "code",
   "execution_count": null,
   "metadata": {},
   "outputs": [],
   "source": []
  }
 ],
 "metadata": {
  "environment": {
   "name": "common-cpu.m54",
   "type": "gcloud",
   "uri": "gcr.io/deeplearning-platform-release/base-cpu:m54"
  },
  "kernelspec": {
   "display_name": "Python 3 (ipykernel)",
   "language": "python",
   "name": "python3"
  },
  "language_info": {
   "codemirror_mode": {
    "name": "ipython",
    "version": 3
   },
   "file_extension": ".py",
   "mimetype": "text/x-python",
   "name": "python",
   "nbconvert_exporter": "python",
   "pygments_lexer": "ipython3",
   "version": "3.12.3"
  }
 },
 "nbformat": 4,
 "nbformat_minor": 4
}
