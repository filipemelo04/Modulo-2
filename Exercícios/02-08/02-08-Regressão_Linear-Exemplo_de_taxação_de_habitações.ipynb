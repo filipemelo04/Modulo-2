{
 "cells": [
  {
   "cell_type": "markdown",
   "metadata": {},
   "source": [
    "# Regressão linear: Exemplo de taxação de habitações\n",
    "\n",
    "## O que vamos fazer?\n",
    "\n",
    "- Formar um modelo de regressão linear multivariável\n",
    "- Criar um dataset sintético seguindo uma estrutura de dataset real"
   ]
  },
  {
   "cell_type": "code",
   "execution_count": 13,
   "metadata": {},
   "outputs": [],
   "source": [
    "import time\n",
    "import numpy as np\n",
    "from matplotlib import pyplot as plt"
   ]
  },
  {
   "cell_type": "markdown",
   "metadata": {},
   "source": [
    "## Set de dados de taxação de habitações sintético\n",
    "\n",
    "Nesta ocasião vamos explorar como criar um dataset sintético, mas que siga a estrutura que queremos, para simular um dataset real.\n",
    "\n",
    "Neste caso, vamos utilizar um dataset imobiliário como exemplo, com o objetivo de formar um dataset imobiliário.\n",
    "\n",
    "Vamos criar um dataset com as seguintes características: \n",
    "\n",
    "Variável objetiva ou dependente\n",
    "- Preço de venda (int)\n",
    "\n",
    "Características, variáveis explicativas ou independentes:\n",
    "- Superfície útil (int)\n",
    "- Localização (int, representando a vizinhança)\n",
    "- Tipo de habitação (int representando apartamento, chalé, casa geminada, penthouse, etc)\n",
    "- Nº de divisões (int)\n",
    "- N.º de quartos de banho (int)\n",
    "- Garagem (int, 0/1 representando se tem ou não uma) \n",
    "- Superfície de áreas comuns (int)\n",
    "- Ano de construção (int)\n",
    "\n",
    "O nosso modelo tentará aproximar uma função linear multivariável que nos permite interpretar o mercado habitacional e fazer previsões sobre o preço de venda de novas habitações, com base na função linear:\n",
    "\n",
    "$Y = h_\\Theta(x) = X \\times \\Theta^T$\n",
    "Onde $h_\\Theta(x)$ é a hipótese linear."
   ]
  },
  {
   "cell_type": "markdown",
   "metadata": {},
   "source": [
    "### Criação do dataset sintético\n",
    "\n",
    "Primeiro, vamos criar um exemplo de uma casa com dados conhecidos, com os valores das suas características e o preço de venda:"
   ]
  },
  {
   "cell_type": "code",
   "execution_count": 23,
   "metadata": {},
   "outputs": [
    {
     "name": "stdout",
     "output_type": "stream",
     "text": [
      "Preço de venda da habitação: 80000\n",
      "Superfície útil: 100\n",
      "Localização: 4\n",
      "Tipo de habitação: 2\n",
      "N.º de quartos: 2\n",
      "N.º de casas de banho: 1\n",
      "Garagem (sim/não): 0\n",
      "Superfície de zonas comuns: 30\n",
      "Antiguidade: 10\n"
     ]
    }
   ],
   "source": [
    "x_ej1 = np.asarray([100, 4, 2, 2, 1, 0, 30, 10]) \n",
    "y_ej1 = np.asarray([80000])\n",
    "\n",
    "print('Preço de venda da habitação:', y_ej1[0]) \n",
    "print('Superfície útil:', x_ej1[0]) \n",
    "print('Localização:', x_ej1[1])\n",
    "print('Tipo de habitação:', x_ej1[2]) \n",
    "print('N.º de quartos:', x_ej1[3]) \n",
    "print('N.º de casas de banho:', x_ej1[4]) \n",
    "print('Garagem (sim/não):', x_ej1[5])\n",
    "print('Superfície de zonas comuns:', x_ej1[6])\n",
    "print('Antiguidade:', x_ej1[7])"
   ]
  },
  {
   "cell_type": "markdown",
   "metadata": {},
   "source": [
    "Desta forma, podemos criar novos exemplos com os valores que desejamos, como desejamos. \n",
    "\n",
    "Modificar os valores da habitação anterior para gerar outras habitações manualmente.\n",
    "\n",
    "Da mesma forma que criámos um exemplo de casa manualmente, vamos criar múltiplos exemplos aleatórios \n",
    "automaticamente:\n",
    "\n",
    "Nota: Por uma questão de simplicidade ao gerar números aleatórios com código, utilizamos float em vez de int nas mesmas gamas lógicas para as características das habitações."
   ]
  },
  {
   "cell_type": "code",
   "execution_count": 24,
   "metadata": {},
   "outputs": [
    {
     "name": "stdout",
     "output_type": "stream",
     "text": [
      "Primeiros 10 exemplos de X:\n",
      "[[0.69374678 0.76872322 0.88215455 0.70033371 0.59099408 0.18182648\n",
      "  0.07222152 0.40364943]\n",
      " [0.12816815 0.27550071 0.62563443 0.62252281 0.82334241 0.6661668\n",
      "  0.47974794 0.26210813]\n",
      " [0.59465446 0.41770642 0.48572732 0.59230399 0.12603457 0.09170832\n",
      "  0.56811577 0.02110624]\n",
      " [0.17745966 0.55294684 0.13396297 0.82515016 0.66311426 0.26041241\n",
      "  0.47420401 0.08253547]\n",
      " [0.49600432 0.52745513 0.81242758 0.9866503  0.79885649 0.83117044\n",
      "  0.09654589 0.33914625]\n",
      " [0.77542241 0.40228853 0.37595951 0.03013618 0.60338203 0.59303593\n",
      "  0.14476764 0.1717688 ]\n",
      " [0.6409828  0.281471   0.9038894  0.18807627 0.09527054 0.92240136\n",
      "  0.71204879 0.26959088]\n",
      " [0.31911002 0.28756126 0.91473908 0.82905782 0.29191406 0.02811932\n",
      "  0.9657391  0.52372915]\n",
      " [0.40783158 0.6387597  0.56425422 0.4329529  0.86052472 0.17331494\n",
      "  0.04104741 0.98106801]\n",
      " [0.67947571 0.13914537 0.6125531  0.17359611 0.01404411 0.21365634\n",
      "  0.17871987 0.7799703 ]]\n",
      "Tamanho da matriz de exemplos:\n",
      "(100, 8)\n"
     ]
    }
   ],
   "source": [
    "m = 100          # nº de exemplos de habitações\n",
    "n = len(x_ej1)   # nº de características de cada casa\n",
    "\n",
    "X = np.random.rand(m, n)\n",
    "\n",
    "print('Primeiros 10 exemplos de X:') \n",
    "print(X[:10,:])\n",
    "print('Tamanho da matriz de exemplos:') \n",
    "print(X.shape)"
   ]
  },
  {
   "cell_type": "markdown",
   "metadata": {},
   "source": [
    "**Como podemos criar o vetor Y dos preços de venda do nosso conjunto de dados sintéticos, para que este siga a relação linear que queremos aproximar?**\n",
    "\n",
    "Para o fazer, devemos partir de um Theta_verd, como em exercícios anteriores.\n",
    "\n",
    "Por vezes, o problema é obter um Y no intervalo que desejamos, modificando cada valor do Theta_verd, o que pode ser bastante enfadonho.\n",
    "\n",
    "Em outros casos, uma alternativa seria criar X e Y manualmente, e depois calcular o Theta_verd correspondente a essas matrizes.\n",
    "\n",
    "Neste caso, iremos criar Theta_verd à mão para que possamos interpretar os seus valores:"
   ]
  },
  {
   "cell_type": "code",
   "execution_count": 25,
   "metadata": {},
   "outputs": [
    {
     "name": "stdout",
     "output_type": "stream",
     "text": [
      "Ex. de habit. com características aleatórias:\n",
      "[0.69374678 0.76872322 0.88215455 0.70033371 0.59099408 0.18182648\n",
      " 0.07222152 0.40364943]\n",
      "\n",
      "Ex. de pesos de características criados manualmente:\n",
      "[ 1000.  -500. 10000.  5000.  2500.  6000.    50. -1500.]\n",
      "\n",
      "O preço de venda de uma hab. é determinado pelas suas características::\n",
      "Por cada m2 de superfície útil: 1000.0\n",
      "Por cada km de distância ao centro: -500.0\n",
      "Segundo o tipo de habitação: 10000.0\n",
      "Segundo o nº de habitações: 5000.0\n",
      "Segundo o nº de casas de banho: 2500.0\n",
      "Segundo se tem garagem: 6000.0\n",
      "Por cada m2 de superfície de zonas comuns: 50.0\n",
      "Por cada ano de antiguidade: -1500.0\n"
     ]
    }
   ],
   "source": [
    "x  = X[0,:]\n",
    "\n",
    "print('Ex. de habit. com características aleatórias:') \n",
    "print(x)\n",
    "\n",
    "Theta_verd = np.asarray([1000.,-500,10000,5000,2500,6000,50,-1500])\n",
    "\n",
    "print('\\nEx. de pesos de características criados manualmente:') \n",
    "print(Theta_verd)\n",
    "\n",
    "print('\\nO preço de venda de uma hab. é determinado pelas suas características::') \n",
    "print('Por cada m2 de superfície útil:', Theta_verd[0])\n",
    "print('Por cada km de distância ao centro:', Theta_verd[1]) \n",
    "print('Segundo o tipo de habitação:', Theta_verd[2]) \n",
    "print('Segundo o nº de habitações:', Theta_verd[3]) \n",
    "print('Segundo o nº de casas de banho:', Theta_verd[4]) \n",
    "print('Segundo se tem garagem:', Theta_verd[5])\n",
    "print('Por cada m2 de superfície de zonas comuns:', Theta_verd[6]) \n",
    "print('Por cada ano de antiguidade:', Theta_verd[7])"
   ]
  },
  {
   "cell_type": "markdown",
   "metadata": {},
   "source": [
    "Cada um destes pesos irá multiplicar a sua característica correspondente, somando o restante ao preço total da casa.\n",
    "\n",
    "No entanto, o nosso set de dados sintético e ideal falta um termo muito importante, o bias ou intercept: O bias é o termo b de qualquer reta $y = m * x \\times b$, e o que representa a soma de todas as constantes que afetam o nosso modelo ou o preço base, antes de ver-se modificado pelo resto de características.\n",
    "\n",
    "Este bias é muito importante porque um modelo não deve apenas poder aproximar pesos ou coeficientes que multipliquem as características dadas, mas também a valores constantes que não dependam das características concretas de cada exemplo.\n",
    "\n",
    "Ou o que é o mesmo: preço = coeficientes * características + bias.\n",
    "\n",
    "P. ex., no caso de habitações, seria o preço de partida de todas as habitações, se o tiver, independentemente das suas características, as quais somam ou restam a partir do mesmo. No caso de um estúdio sem quartos independentes, WC partilhado, sem garagem, etc., etc., onde todas as suas características foram 0, nos iria permitir determinar o seu preço de venda, que não seria de 0 € seguramente.\n",
    "\n",
    "Adicionamos a theta_verd um bias ou preço de partida de"
   ]
  },
  {
   "cell_type": "code",
   "execution_count": 26,
   "metadata": {},
   "outputs": [
    {
     "name": "stdout",
     "output_type": "stream",
     "text": [
      "(8,)\n",
      "Theta verdadeiro e 10 primeiros exemplos (filas) de X:\n",
      "[25000.  1000.  -500. 10000.  5000.  2500.  6000.    50. -1500.]\n",
      "[[1.         0.69374678 0.76872322 0.88215455 0.70033371 0.59099408\n",
      "  0.18182648 0.07222152 0.40364943]\n",
      " [1.         0.12816815 0.27550071 0.62563443 0.62252281 0.82334241\n",
      "  0.6661668  0.47974794 0.26210813]\n",
      " [1.         0.59465446 0.41770642 0.48572732 0.59230399 0.12603457\n",
      "  0.09170832 0.56811577 0.02110624]\n",
      " [1.         0.17745966 0.55294684 0.13396297 0.82515016 0.66311426\n",
      "  0.26041241 0.47420401 0.08253547]\n",
      " [1.         0.49600432 0.52745513 0.81242758 0.9866503  0.79885649\n",
      "  0.83117044 0.09654589 0.33914625]\n",
      " [1.         0.77542241 0.40228853 0.37595951 0.03013618 0.60338203\n",
      "  0.59303593 0.14476764 0.1717688 ]\n",
      " [1.         0.6409828  0.281471   0.9038894  0.18807627 0.09527054\n",
      "  0.92240136 0.71204879 0.26959088]\n",
      " [1.         0.31911002 0.28756126 0.91473908 0.82905782 0.29191406\n",
      "  0.02811932 0.9657391  0.52372915]\n",
      " [1.         0.40783158 0.6387597  0.56425422 0.4329529  0.86052472\n",
      "  0.17331494 0.04104741 0.98106801]\n",
      " [1.         0.67947571 0.13914537 0.6125531  0.17359611 0.01404411\n",
      "  0.21365634 0.17871987 0.7799703 ]]\n",
      "Tamanhos de X e Tetha verdadeiro:\n",
      "(100, 9)\n"
     ]
    }
   ],
   "source": [
    "# Cuidado! Ao que executamos esta célula estamos a adicionar uma coluna\n",
    "# de 1s a Theta_verd e X, pelo que apenas devemos executá-la uma vez\n",
    "print(Theta_verd.shape)\n",
    "Theta_verd = np.insert(Theta_verd, 0, 25000)   # 25 000 € de preço de partida = theta[0]\n",
    "X = np.insert(X, 0, np.ones(m), axis=1)\n",
    "\n",
    "print('Theta verdadeiro e 10 primeiros exemplos (filas) de X:')\n",
    "print(Theta_verd) \n",
    "print(X[:10,:])\n",
    "print('Tamanhos de X e Tetha verdadeiro:') \n",
    "print(X.shape)"
   ]
  },
  {
   "cell_type": "markdown",
   "metadata": {},
   "source": [
    "Contando com esse Theta_verd, podemos estabelecer o vetor Y dos preços de venda para os nossos exemplos:"
   ]
  },
  {
   "cell_type": "code",
   "execution_count": 27,
   "metadata": {},
   "outputs": [
    {
     "name": "stdout",
     "output_type": "stream",
     "text": [
      "(100, 9) (9,)\n",
      "Preços de venda:\n",
      "[39599.18017944 40045.55818677 34066.67716001 33486.53389965\n",
      " 44770.07579862 34300.81004267 40883.32331711 38629.20362063\n",
      " 34617.41019114 32759.44347291 40487.8326841  31515.64605592\n",
      " 30383.07180476 31981.38045652 38119.99082792 31784.01161593\n",
      " 43857.12421494 35985.55173408 33683.76687574 32056.9276005\n",
      " 31191.03477327 36619.49407218 40710.12779393 42015.69489561\n",
      " 32426.87161715 37790.1857441  36720.84929884 36871.56754641\n",
      " 34468.97813804 29730.75002772 32000.33610586 42980.69686229\n",
      " 42578.51681732 38918.88714678 43530.92583181 33223.50804344\n",
      " 41721.37230057 36127.96387257 37318.62682346 32902.01474912\n",
      " 33854.57395065 29632.6347953  35343.53391812 31210.91157288\n",
      " 38047.48879994 38082.42207866 33232.21977912 35560.44765067\n",
      " 35483.8826284  34415.56529968 36015.77638374 40703.06323991\n",
      " 34357.17169415 37146.77038655 40490.96210277 36064.57359001\n",
      " 31203.03182945 42742.0255408  42805.49594592 32695.28023598\n",
      " 36729.84338433 31201.85915794 39709.41195472 36700.79669219\n",
      " 41152.28228608 36822.95794662 34624.2600279  34468.86346821\n",
      " 44046.05054113 28394.73210987 33217.71694554 45494.57334752\n",
      " 38470.74449745 37866.5469836  35729.35185938 34958.56134566\n",
      " 34818.44925857 34462.44747518 37653.25982752 39326.85348889\n",
      " 36103.71332303 39750.13820141 37347.7436419  45696.32206754\n",
      " 37148.12222354 40782.49962245 33171.29410792 32587.64843515\n",
      " 35507.66498517 42138.21078443 34226.87054888 32631.79642488\n",
      " 36660.47089547 35050.08563143 36876.55105746 33151.74277811\n",
      " 36384.65956648 34569.97060336 32011.62048873 27816.06380312]\n",
      "(100,)\n"
     ]
    }
   ],
   "source": [
    "# TODO: Modificar o seguinte código para adicionar um termo de erro aleatório a Y\n",
    "\n",
    "error = 0.1\n",
    "\n",
    "print(X.shape, Theta_verd.shape)\n",
    "\n",
    "Y = np.matmul(X, Theta_verd)\n",
    "\n",
    "print('Preços de venda:') \n",
    "print(Y)\n",
    "print(Y.shape)"
   ]
  },
  {
   "cell_type": "markdown",
   "metadata": {},
   "source": [
    "*Nota*: Como não foram finalmente utilizados valores int, os preços de venda são também valores float"
   ]
  },
  {
   "cell_type": "markdown",
   "metadata": {},
   "source": [
    "## Formação do modelo\n",
    "\n",
    "Assim que o nosso conjunto de dados de formação estiver pronto, vamos formar o modelo de regressão linear.\n",
    "\n",
    "Para tal, copiar as células correspondentes dos últimos exercícios para formar o modelo com estes dados e avaliar o seu comportamento:"
   ]
  },
  {
   "cell_type": "code",
   "execution_count": 9,
   "metadata": {},
   "outputs": [],
   "source": [
    "# TODO: Copiar as células correspondentes para treinar um modelo de regressão linear e avaliar a sua formação.\n"
   ]
  },
  {
   "cell_type": "markdown",
   "metadata": {},
   "source": [
    "## Previsões \n",
    "\n",
    "Assim, se criarmos manualmente uma nova casa de exemplo com características aleatórias, podemos fazer uma previsão sobre o seu preço de venda:"
   ]
  },
  {
   "cell_type": "code",
   "execution_count": null,
   "metadata": {},
   "outputs": [],
   "source": [
    "# TODO: Criar uma nova casa com características aleatórias e calcula o Y previsto\n",
    "# Recordar adicionar a X um termo de bias\n",
    "x_pred = [...]\n",
    "\n",
    "y_pred = np.matmul(x_pred, theta)\n",
    "\n",
    "print('Ej. de casa aleatório') \n",
    "print(x_pred)\n",
    "\n",
    "print('Preço previsto para essas habitações:')\n",
    "print(y_pred)"
   ]
  },
  {
   "cell_type": "markdown",
   "metadata": {},
   "source": [
    "E o nosso dataset sintético original? Que preço de venda teria? E que resíduos teria o nosso modelo sobre eles?"
   ]
  },
  {
   "cell_type": "code",
   "execution_count": null,
   "metadata": {},
   "outputs": [],
   "source": [
    "# TODO: Calcular e representar graficamente os resíduos do modelo\n",
    "\n",
    "Y_pred = [...]\n",
    "\n",
    "resíduos = [...] \n",
    "\n",
    "plt.figure()\n",
    "\n",
    "# Dar um título à gráfica e etiquetas aos seus eixos\n",
    "\n",
    "plt.show()"
   ]
  }
 ],
 "metadata": {
  "environment": {
   "name": "common-cpu.m54",
   "type": "gcloud",
   "uri": "gcr.io/deeplearning-platform-release/base-cpu:m54"
  },
  "kernelspec": {
   "display_name": "Python 3 (ipykernel)",
   "language": "python",
   "name": "python3"
  },
  "language_info": {
   "codemirror_mode": {
    "name": "ipython",
    "version": 3
   },
   "file_extension": ".py",
   "mimetype": "text/x-python",
   "name": "python",
   "nbconvert_exporter": "python",
   "pygments_lexer": "ipython3",
   "version": "3.12.3"
  }
 },
 "nbformat": 4,
 "nbformat_minor": 4
}
