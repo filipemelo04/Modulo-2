{
 "cells": [
  {
   "cell_type": "markdown",
   "metadata": {},
   "source": [
    "# Regressão linear multivariável: Função de custo e gradient descent"
   ]
  },
  {
   "cell_type": "markdown",
   "metadata": {},
   "source": [
    "## O que vamos fazer?\n",
    "\n",
    "- Implementar a função de custo para regressão linear multivariável \n",
    "- Implementar a otimização da função de custo por gradient descent"
   ]
  },
  {
   "cell_type": "code",
   "execution_count": 6,
   "metadata": {},
   "outputs": [],
   "source": [
    "import time\n",
    "import numpy as np\n",
    "\n",
    "from matplotlib import pyplot as plt"
   ]
  },
  {
   "cell_type": "markdown",
   "metadata": {},
   "source": [
    "## Tarefa 1: Implementar a função de custo para regressão linear multivariável\n",
    "\n",
    "Nesta tarefa, deve implementar a função de custo para regressão linear multivariável em Python usando o Numpy. A função de \n",
    "custo deve seguir a função incluída nos diapositivos e no manual do curso.\n",
    "\n",
    "Para o fazer, preencher o código na seguinte célula:"
   ]
  },
  {
   "cell_type": "code",
   "execution_count": 7,
   "metadata": {},
   "outputs": [],
   "source": [
    "#  TODO: Implementar a função de custo utilizando o seguinte modelo\n",
    "\n",
    "def cost_function(x, y, theta):\n",
    "    \"\"\" Computar a função de custo para o dataset e coeficientes considerados.\n",
    "    \n",
    "    Argumentos posicionais:\n",
    "    x -- array 2D de Numpy com os valores das variáveis independentes dos exemplos, de tamanho m x n \n",
    "    y -- array 1D Numpy com a variável dependente/objetivo, de tamanho m x 1\n",
    "    theta -- array 1D Numpy com os pesos dos coeficientes do modelo, de tamanho 1 x n (vetor fila)\n",
    "    \n",
    "    Devolver:j -- float com o custo para esse array theta \n",
    "    \"\"\"\n",
    "    # Verificar se os dados estão de acordo\n",
    "    if not (x.ndim == 2 and theta.ndim == 1 and y.ndim == 1): \n",
    "        return False\n",
    "    \n",
    "    m = len(y)\n",
    "\n",
    "    # Calcular o produto escalar entre x e theta\n",
    "    h = np.dot(x, theta.T)  # Previsões\n",
    "    \n",
    "    # Calculando a função de custo\n",
    "    j = (1 / (2 * m)) * np.sum((h - y) ** 2)  \n",
    "\n",
    "    return j"
   ]
  },
  {
   "cell_type": "markdown",
   "metadata": {},
   "source": [
    "Para comprovar a sua implementação, recuperar o seu código do notebook anterior sobre datasets sintéticos e seguir as \n",
    "instruções abaixo:"
   ]
  },
  {
   "cell_type": "code",
   "execution_count": 8,
   "metadata": {},
   "outputs": [
    {
     "name": "stdout",
     "output_type": "stream",
     "text": [
      "Theta a estimar\n",
      "Theta shape: (3,)\n",
      "[43.89714207  7.84563813  2.53507434]\n",
      "Primeiras 10 filas e 5 colunas de X e Y:\n",
      "X:\n",
      " [[-0.56228753 -1.01283112  0.31424733]\n",
      " [ 0.79103195 -0.90938745  1.40279431]\n",
      " [-0.90802408 -1.4123037   1.46564877]\n",
      " [ 0.09176078 -1.98756891 -0.21967189]\n",
      " [ 0.21645859  0.04557184 -0.65160035]\n",
      " [-1.37766937 -0.93782504  0.51503527]\n",
      " [-0.2257763   0.0675282  -1.42474819]\n",
      " [ 0.68626019 -1.61271587 -0.47193187]\n",
      " [-0.03582604  1.56464366 -2.6197451 ]\n",
      " [ 0.2766908   0.82718325  0.01300189]]\n",
      "\n",
      "Y:\n",
      " [-31.83248167  31.14550473 -47.22455704 -12.12259519   8.2075983\n",
      " -66.52793118 -12.99297505  16.27569357   4.06171861  18.66867653]\n",
      "\n",
      "\n",
      "Dimensões de X e Y:\n",
      "X shape: (80, 3)\n",
      "Y shape: (80,)\n"
     ]
    }
   ],
   "source": [
    "# TODO: Gerar um dataset sintético, sem termo de erro, sob a forma que escolher\n",
    "from sklearn.datasets import make_regression\n",
    "\n",
    "# Gerar dados de regressão linear multivariável\n",
    "X, Y, Theta_verd = make_regression(n_samples=80,  # Número de amostras\n",
    "                              n_features=3,  # Número de variáveis independentes (features)\n",
    "                              noise=0,       # Sem ruído\n",
    "                              coef=True,     # Retorna os coeficientes verdadeiros\n",
    "                              random_state=42)  # Para resultados reprodutíveis\n",
    "# Comprovar os valores e dimensões (forma ou \"shape\") dos vetores\n",
    "print('Theta a estimar') \n",
    "print(\"Theta shape:\", Theta_verd.shape)\n",
    "print(Theta_verd)\n",
    "\n",
    "print('Primeiras 10 filas e 5 colunas de X e Y:') \n",
    "print('X:\\n', X[:10])  # Primeiras 10 linhas e até 5 colunas de X\n",
    "print()\n",
    "print('Y:\\n', Y[:10])  # Primeiros 10 valores de Y\n",
    "print()\n",
    "print()\n",
    "\n",
    "print('Dimensões de X e Y:') \n",
    "print(\"X shape:\", X.shape)\n",
    "print(\"Y shape:\", Y.shape)"
   ]
  },
  {
   "cell_type": "markdown",
   "metadata": {},
   "source": [
    "Uma vez que o dataset sintético não tem termo de erro, a função de custo para o theta correto deve ser exatamente 0, aumentando \n",
    "o seu valor à medida que nos afastamos do mesmo.\n",
    "\n",
    "Comprovar a sua implementação da função de custo comprovando o seu valor com diferentes valores do seu argumento theta, \n",
    "comprovando vários valores desde o Theta errado até valores mais afastados do mesmo:"
   ]
  },
  {
   "cell_type": "code",
   "execution_count": 9,
   "metadata": {},
   "outputs": [
    {
     "name": "stdout",
     "output_type": "stream",
     "text": [
      "Custo do modelo:\n",
      "0.0\n",
      "Theta real:\n",
      "[43.89714207  7.84563813  2.53507434]\n",
      "\n",
      "Custo com o theta errado:\n",
      "482.4341600807497\n",
      "Theta errado:\n",
      "[5 2 3]\n"
     ]
    }
   ],
   "source": [
    "#TODO: Comprovar a implementação da sua função de custos\n",
    "\n",
    "# Verificando a função de custo com valores de theta reais\n",
    "j = cost_function(X, Y, Theta_verd)\n",
    "\n",
    "print('Custo do modelo:') \n",
    "print(j)\n",
    "print('Theta real:') \n",
    "print(Theta_verd)\n",
    "\n",
    "# Verificando a função de custo com valores de theta aleatórios\n",
    "theta_errado = np.array([5, 2, 3])  # Um theta dado aleatoriamente\n",
    "j_errado = cost_function(X, Y, theta_errado)\n",
    "\n",
    "print('\\nCusto com o theta errado:')\n",
    "print(j_errado)\n",
    "print('Theta errado:') \n",
    "print(theta_errado)"
   ]
  },
  {
   "cell_type": "markdown",
   "metadata": {},
   "source": [
    "## Tarefa 2: Implementar a otimização desta função de custo por gradient descent\n",
    "\n",
    "Agora vamos resolver a otimização dessa função de custo para formar o modelo, mediante o método de gradient descent. O \n",
    "modelo será considerado formado quando a sua função de custo tiver atingido um valor mínimo.\n",
    "\n",
    "Para o fazer, preencher novamente o modelo do código na seguinte célula:"
   ]
  },
  {
   "cell_type": "code",
   "execution_count": 10,
   "metadata": {},
   "outputs": [],
   "source": [
    "import numpy as np \n",
    "\n",
    "def gradient_descent(X, y, learning_rate=0.01, n_iters=100): \n",
    "    \"\"\" Executa o algoritmo de gradiente descendente para encontrar os coeficientes de um modelo de regressão linear. \n",
    "    Args: X:             Matriz numpy com os dados de entrada. \n",
    "          y:             Vetor numpy com os dados de saída. \n",
    "          learning_rate: Taxa de aprendizado do algoritmo. \n",
    "          n_iters:       Número de iterações do algoritmo. \n",
    "          Returns:       Um dicionário com os coeficientes do modelo e o histórico de custos. \n",
    "    \"\"\"\n",
    "    \n",
    "    # Inicializa os coeficientes com valores aleatórios np.random.seed(0) \n",
    "    w = np.random.randn(X.shape[1]) \n",
    "    \n",
    "    # Inicializa o histórico de custos \n",
    "    costs = [] \n",
    "    \n",
    "    # Executa o algoritmo de gradiente descendente \n",
    "    for i in range(n_iters): \n",
    "        # Calcula as previsões do modelo \n",
    "        y_pred = X @ w \n",
    "\n",
    "        # Calcula o erro do modelo \n",
    "        error = y_pred - y \n",
    "\n",
    "        # Calcula o gradiente da função de custo \n",
    "        grad = X.T @ error \n",
    "\n",
    "        # Atualiza os coeficientes \n",
    "        w = w - learning_rate * grad \n",
    "\n",
    "        # Calcula o custo \n",
    "        cost = np.mean(error**2) \n",
    "\n",
    "        # Armazena o custo no histórico \n",
    "        costs.append(cost) \n",
    "        \n",
    "        return {\"w\": w, \"costs\": costs}"
   ]
  },
  {
   "cell_type": "code",
   "execution_count": 11,
   "metadata": {},
   "outputs": [
    {
     "name": "stdout",
     "output_type": "stream",
     "text": [
      "Tempo de formação (s): 0.0\n",
      "Coeficiente: [220.97654944  38.85300474 -26.79266792]\n",
      "Custo final: [1284.2384177180243]\n"
     ]
    },
    {
     "data": {
      "text/plain": [
       "\"# TODO: completar\\nprint('\\nTamanho da função de custo') \\nprint(len(j_hist))\\nprint('\\nÚltimos 10 valores da função de custo') \\nprint(j_hist[-10:])\\nprint('\\nCusto final:') \\nprint(round(j_hist[-1], 2)) \\nprint('\\nTheta final:') \\nprint(theta_final)\\n\\nprint('Valores verdadeiros de Theta e diferença com valores formados:') \\nprint(Theta_verd)\\nprint(theta_final - Theta_verd)\""
      ]
     },
     "execution_count": 11,
     "metadata": {},
     "output_type": "execute_result"
    }
   ],
   "source": [
    "# TODO: Testar a sua implementação através da formação de um modelo no dataset sintético anteriormente criado.\n",
    "\n",
    "# Criar um theta inicial com um determinado valor.\n",
    "# Primeiro usar o valor theta correto, depois cada vez mais valores periféricos.\n",
    "# Finalmente, testar também a sua implementação com valores theta_ini aleatórios\n",
    "alpha = 0.1 \n",
    "iter_ = 1000 # Verificar se a sua função pode suportar valores de flutuação ou modificá-los.\n",
    "\n",
    "t = time.time()\n",
    "result = gradient_descent(X, Y, alpha, iter_) \n",
    "\n",
    "print('Tempo de formação (s):', time.time() - t)\n",
    "\n",
    "print(\"Coeficiente:\", result[\"w\"])\n",
    "print(\"Custo final:\", result[\"costs\"])"
   ]
  }
 ],
 "metadata": {
  "environment": {
   "name": "common-cpu.m54",
   "type": "gcloud",
   "uri": "gcr.io/deeplearning-platform-release/base-cpu:m54"
  },
  "kernelspec": {
   "display_name": "Python 3 (ipykernel)",
   "language": "python",
   "name": "python3"
  },
  "language_info": {
   "codemirror_mode": {
    "name": "ipython",
    "version": 3
   },
   "file_extension": ".py",
   "mimetype": "text/x-python",
   "name": "python",
   "nbconvert_exporter": "python",
   "pygments_lexer": "ipython3",
   "version": "3.12.3"
  }
 },
 "nbformat": 4,
 "nbformat_minor": 4
}
