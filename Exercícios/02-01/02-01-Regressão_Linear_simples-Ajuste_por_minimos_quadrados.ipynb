{
 "cells": [
  {
   "cell_type": "markdown",
   "metadata": {},
   "source": [
    "# Regressão linear simples: ajuste por mínimos quadrados"
   ]
  },
  {
   "cell_type": "markdown",
   "metadata": {},
   "source": [
    "## O que vamos fazer?\n",
    "- Importar datasets no ambiente de trabalho\n",
    "- Ajustar uma regressão linear simples por mínimos quadrados manualmente\n",
    "- Resolver essa regressão usando funções matemáticas de Numpy \n",
    "- Visualizar a regressão com o Matplotlib"
   ]
  },
  {
   "cell_type": "markdown",
   "metadata": {},
   "source": [
    "## Tarefa 1: Importar datasets"
   ]
  },
  {
   "cell_type": "markdown",
   "metadata": {},
   "source": [
    "Para este exercício deve importar os seguintes datasets para o ambiente local, usados num exercício anterior e disponíveis nessa unidade:\n",
    "- módulo1-unidade1-exercício1-dataset-tarefa2.csv\n",
    "-  módulo1-unidade1-exercício1-dataset-tarefa3.csv\n",
    "\n",
    "Em função do seu ambiente, terá de seguir passos diferentes para os importar. Pode importá-los tanto no Google Colab como no VM, usando a interface de JupyterLab ou as funcionalidades do seu VM. Como os ambientes são tão diferentes, não incluímos instruções passo a passo para isso, mas não deve ter dificuldade nenhuma para o fazer :).\n",
    "\n",
    "Deve aproveitar este tempo para se familiarizar com o seu ambiente de trabalho e descobrir as opções para importar datasets locais.\n",
    "\n",
    "**Nota:** Assegurar-se de que os importa ou que os move posteriormente para o diretório de soluções, na pasta para esta unidade/sessão"
   ]
  },
  {
   "cell_type": "markdown",
   "metadata": {},
   "source": [
    "## Tarefa 2: Ajustar a regressão linear simples por mínimos quadrados"
   ]
  },
  {
   "cell_type": "markdown",
   "metadata": {},
   "source": [
    "Para esta tarefa, vamos ajustar a regressão passo a passo, calculando cada valor com o Numpy para nos familiarizarmos com as suas funções\n",
    "\n",
    "**Nota:** Vamos utilizar unicamente a função de soma de Numpy. Na seguinte tarefa iremos usar as funções para calcular diretamente a média de um array, desvios típicos ou covariância"
   ]
  },
  {
   "cell_type": "code",
   "execution_count": 3,
   "metadata": {},
   "outputs": [],
   "source": [
    "import numpy as np"
   ]
  },
  {
   "cell_type": "markdown",
   "metadata": {},
   "source": [
    "### Importar o dataset no Numpy"
   ]
  },
  {
   "cell_type": "markdown",
   "metadata": {},
   "source": [
    "Executar a seguinte célula para importar o dataset com um array de Numpy, assegurando-se que o nome do dataset é correto e que o arquivo se encontra no mesmo diretório que o notebook"
   ]
  },
  {
   "cell_type": "code",
   "execution_count": 7,
   "metadata": {},
   "outputs": [
    {
     "name": "stdout",
     "output_type": "stream",
     "text": [
      "[[  0.    34.64]\n",
      " [  2.    25.59]\n",
      " [  4.    28.52]\n",
      " [  6.    40.42]\n",
      " [  8.    11.12]\n",
      " [ 10.    61.2 ]\n",
      " [ 12.    44.1 ]\n",
      " [ 14.    73.33]\n",
      " [ 16.    56.14]\n",
      " [ 18.    57.83]\n",
      " [ 20.    50.74]\n",
      " [ 22.    90.15]\n",
      " [ 24.   100.63]\n",
      " [ 26.    83.65]\n",
      " [ 28.   103.47]\n",
      " [ 30.    89.48]\n",
      " [ 32.   128.12]\n",
      " [ 34.   140.35]\n",
      " [ 36.   137.97]\n",
      " [ 38.   122.06]\n",
      " [ 40.   118.24]\n",
      " [ 42.   146.39]\n",
      " [ 44.   138.15]\n",
      " [ 46.   158.85]\n",
      " [ 48.   135.65]\n",
      " [ 50.   187.84]]\n"
     ]
    }
   ],
   "source": [
    "import csv\n",
    "\n",
    "with open('M1_U1_Ej1_dataset-tarea2.csv') as csvfile:\n",
    "    \n",
    "    #dataset_np = np.asarray(list(csv.reader(csvfile))[1:])\n",
    "    read_csv = list(csv.reader(csvfile))\n",
    "\n",
    "# Eliminar cabeçalho\n",
    "read_csv = read_csv[1:]\n",
    "\n",
    "# Mudar de caracter decimal de vírgula para ponto\n",
    "for line in read_csv:\n",
    "    for i in [0, 1]:\n",
    "        line[i] = line[i].replace(',', '.')\n",
    "\n",
    "# Carregar como array de Numpy\n",
    "dataset1 = np.asarray(read_csv).astype(float)\n",
    "print(dataset1)"
   ]
  },
  {
   "cell_type": "markdown",
   "metadata": {},
   "source": [
    "Já dispomos dos dados num array 2D de Numpy.\n",
    "\n",
    "\n",
    "Agora, deve completar o código das seguintes células para ajustar a regressão linear:"
   ]
  },
  {
   "cell_type": "code",
   "execution_count": 8,
   "metadata": {},
   "outputs": [
    {
     "name": "stdout",
     "output_type": "stream",
     "text": [
      "<class 'numpy.ndarray'>\n",
      "X\n",
      "[ 0.  2.  4.  6.  8. 10. 12. 14. 16. 18. 20. 22. 24. 26. 28. 30. 32. 34.\n",
      " 36. 38. 40. 42. 44. 46. 48. 50.]\n",
      "Y\n",
      "[ 34.64  25.59  28.52  40.42  11.12  61.2   44.1   73.33  56.14  57.83\n",
      "  50.74  90.15 100.63  83.65 103.47  89.48 128.12 140.35 137.97 122.06\n",
      " 118.24 146.39 138.15 158.85 135.65 187.84]\n",
      "26\n",
      "26\n"
     ]
    }
   ],
   "source": [
    "## TODO: Criar 2 arrays 1D a partir do dataset importado que correspondam às colunas X e Y do CSV\n",
    "\n",
    "X = dataset1[:, 0]\n",
    "Y = dataset1[:, 1]\n",
    "print(type(X))\n",
    "print(\"X\")\n",
    "print(X)\n",
    "print(\"Y\")\n",
    "print(Y)\n",
    "print(len(X))\n",
    "print(len(Y))"
   ]
  },
  {
   "cell_type": "code",
   "execution_count": 9,
   "metadata": {},
   "outputs": [
    {
     "data": {
      "image/png": "[encoded data removed]",
      "text/plain": [
       "<Figure size 640x480 with 1 Axes>"
      ]
     },
     "metadata": {},
     "output_type": "display_data"
    }
   ],
   "source": [
    "## TODO: Antes de formar o modelo, representar os dados numa gráfica de pontos de Matplotlib\n",
    "\n",
    "import matplotlib.pyplot as plt\n",
    "\n",
    "# Pode usar a função scatter()\n",
    "plt.scatter(X, Y)\n",
    "\n",
    "plt.show()"
   ]
  },
  {
   "cell_type": "code",
   "execution_count": 10,
   "metadata": {},
   "outputs": [
    {
     "name": "stdout",
     "output_type": "stream",
     "text": [
      "[   0.     51.18  114.08  242.52   88.96  612.    529.2  1026.62  898.24\n",
      " 1040.94 1014.8  1983.3  2415.12 2174.9  2897.16 2684.4  4099.84 4771.9\n",
      " 4966.92 4638.28 4729.6  6148.38 6078.6  7307.1  6511.2  9392.  ]\n"
     ]
    }
   ],
   "source": [
    "a = X*Y\n",
    "print(a)"
   ]
  },
  {
   "cell_type": "markdown",
   "metadata": {},
   "source": [
    "Recordar as equações da regressão linear:\n",
    "$Y = m \\times X + b$\n",
    "\n",
    "$m=\\frac{\\sum xy-\\frac{(\\sum x)(\\sum y)}{n}}{\\sum x^2-\\frac{(\\sum x)^2}{n}}$\n",
    "\n",
    "$b=\\overline{y}-m\\times\\overline{x}$"
   ]
  },
  {
   "cell_type": "code",
   "execution_count": 11,
   "metadata": {},
   "outputs": [
    {
     "name": "stdout",
     "output_type": "stream",
     "text": [
      "n =  26\n",
      "XY =  [   0.     51.18  114.08  242.52   88.96  612.    529.2  1026.62  898.24\n",
      " 1040.94 1014.8  1983.3  2415.12 2174.9  2897.16 2684.4  4099.84 4771.9\n",
      " 4966.92 4638.28 4729.6  6148.38 6078.6  7307.1  6511.2  9392.  ]\n",
      "X2 =  [   0.    4.   16.   36.   64.  100.  144.  196.  256.  324.  400.  484.\n",
      "  576.  676.  784.  900. 1024. 1156. 1296. 1444. 1600. 1764. 1936. 2116.\n",
      " 2304. 2500.]\n",
      "Y2 =  [ 1199.9296   654.8481   813.3904  1633.7764   123.6544  3745.44\n",
      "  1944.81    5377.2889  3151.6996  3344.3089  2574.5476  8127.0225\n",
      " 10126.3969  6997.3225 10706.0409  8006.6704 16414.7344 19698.1225\n",
      " 19035.7209 14898.6436 13980.6976 21430.0321 19085.4225 25233.3225\n",
      " 18400.9225 35283.8656]\n",
      "m =  2.9575196581196566\n"
     ]
    }
   ],
   "source": [
    "## TODO: Calcular m usando a função np.sum(ndarray) ou ndarray.sum(), onde ndarray é o array a somar\n",
    "n = len(X)\n",
    "print(\"n = \", n)\n",
    "\n",
    "XY = np.multiply(X, Y)    # Recordar, é uma multiplicação de vetores elemento-a-elemento. Usar a função np.multiply()\n",
    "print(\"XY = \", XY)\n",
    "\n",
    "X2 = X ** 2\n",
    "print(\"X2 = \", X2)\n",
    "\n",
    "Y2 = Y ** 2\n",
    "print(\"Y2 = \", Y2)\n",
    "\n",
    "m = (XY.sum() - ((X.sum() * Y.sum()) / n)) / (X2.sum() - ((X.sum()**2) / n))\n",
    "print(\"m = \", m)"
   ]
  },
  {
   "cell_type": "code",
   "execution_count": 12,
   "metadata": {},
   "outputs": [
    {
     "name": "stdout",
     "output_type": "stream",
     "text": [
      "y_avg =  90.9473076923077\n",
      "x_avg =  25.0\n",
      "b =  17.00931623931629\n",
      "Equação da reta: y =  2.96 x +  17.01\n"
     ]
    }
   ],
   "source": [
    "## TODO: Calcula b\n",
    "\n",
    "# TODO: Substituir \"sum_y\" e \"sum_x\" pelo código ou variáveis correspondentes\n",
    "y_avg = Y.sum() / n\n",
    "print(\"y_avg = \", y_avg) \n",
    "\n",
    "x_avg = X.sum() / n\n",
    "print(\"x_avg = \", x_avg) \n",
    "\n",
    "b = y_avg - m * x_avg\n",
    "print(\"b = \", b)\n",
    "\n",
    "print(\"Equação da reta: y = \", round(m, 2), \"x + \", round(b, 2))"
   ]
  },
  {
   "cell_type": "markdown",
   "metadata": {},
   "source": [
    "Avaliar o modelo calculando o seu R2.\n",
    "\n",
    "Recordar as equações para calcular o coeficiente de correlação:\n",
    "\n",
    "$R^2 = \\frac{\\sigma_{xy}}{\\sigma_x \\cdot \\sigma_y}$\n",
    "\n",
    "$\\sigma_{xy} = \\frac{\\overline{x \\cdot y}}{n}$\n",
    "\n",
    "$\\sigma_x = \\sqrt{\\frac{\\sum x^2}{n} - \\bar{x}^2}$\n",
    "\n",
    "$\\sigma_y = \\sqrt{\\frac{\\sum y^2}{n} - \\bar{y}^2}$"
   ]
  },
  {
   "cell_type": "code",
   "execution_count": 13,
   "metadata": {},
   "outputs": [
    {
     "name": "stdout",
     "output_type": "stream",
     "text": [
      "xy_avg =  2939.124615384615\n",
      "x_std =  15.0\n",
      "y_std =  46.79410675893773\n",
      "xy_cv =  113.0432544378698\n",
      "r2 =  0.1610505571000183\n"
     ]
    }
   ],
   "source": [
    "## TODO: Calcula r2\n",
    "\n",
    "xy_avg = XY.sum() / n   # media(x.y)\n",
    "print(\"xy_avg = \", xy_avg)\n",
    "\n",
    "x_std = np.sqrt((X2.sum() / n) - x_avg ** 2)\n",
    "print(\"x_std = \", x_std)\n",
    "\n",
    "y_std = np.sqrt((Y2.sum() / n) - y_avg ** 2)\n",
    "print(\"y_std = \", y_std)\n",
    "\n",
    "xy_cv = xy_avg / n    #covariança de xy\n",
    "print(\"xy_cv = \", xy_cv)\n",
    "\n",
    "r2 = xy_cv / (x_std * y_std)\n",
    "print(\"r2 = \", r2)"
   ]
  },
  {
   "cell_type": "markdown",
   "metadata": {},
   "source": [
    "Calcular as previsões de Y como y_pred para os valores de X originais, com os coeficientes do modelo ajustado:\n",
    "\n",
    "$y\\_pred = m \\times X + b$"
   ]
  },
  {
   "cell_type": "code",
   "execution_count": 14,
   "metadata": {},
   "outputs": [
    {
     "name": "stdout",
     "output_type": "stream",
     "text": [
      "y_pred =  [ 17.01  22.92  28.84  34.75  40.67  46.58  52.5   58.41  64.33  70.24\n",
      "  76.16  82.07  87.99  93.9   99.82 105.73 111.65 117.56 123.48 129.4\n",
      " 135.31 141.23 147.14 153.06 158.97 164.89]\n"
     ]
    }
   ],
   "source": [
    "## TODO: Calcular y_pred\n",
    "y_pred = X * m + b\n",
    "y_pred = np.round(y_pred, 2)\n",
    "print(\"y_pred = \", y_pred)"
   ]
  },
  {
   "cell_type": "code",
   "execution_count": 15,
   "metadata": {},
   "outputs": [
    {
     "data": {
      "text/plain": [
       "[<matplotlib.lines.Line2D at 0x145af1588c0>]"
      ]
     },
     "execution_count": 15,
     "metadata": {},
     "output_type": "execute_result"
    },
    {
     "data": {
      "image/png": "[encoded data removed]",
      "text/plain": [
       "<Figure size 640x480 with 1 Axes>"
      ]
     },
     "metadata": {},
     "output_type": "display_data"
    }
   ],
   "source": [
    "# TODO: Representar com Matplotlib um gráfico com 2 séries em cores diferentes: Y vs X, y_pred vs X\n",
    "\n",
    "# Criar o gráfico\n",
    "\n",
    "# Plotar a primeira série\n",
    "plt.plot(X, Y, label=\"Y vs X\", color=\"blue\", marker=\"o\")\n",
    "\n",
    "# Plotar a segunda série\n",
    "plt.plot(X, y_pred, label=\"y_pred vs X\", color=\"red\", marker=\"o\")"
   ]
  },
  {
   "cell_type": "markdown",
   "metadata": {},
   "source": [
    "## Tarefa 3:  Ajustar a regressão linear com as funções matemáticas de Numpy"
   ]
  },
  {
   "cell_type": "markdown",
   "metadata": {},
   "source": [
    "Agora, repetir os passos anteriores para ajustar a regressão linear aproveitando todas as capacidades de Numpy: as suas funções para calcular as somas, média, desvio típico e covariância de arrays"
   ]
  },
  {
   "cell_type": "code",
   "execution_count": 16,
   "metadata": {},
   "outputs": [
    {
     "name": "stdout",
     "output_type": "stream",
     "text": [
      "np_m =  2.9575196581196566\n",
      "np_b =  17.00931623931629\n",
      "np_x_std =  15.0\n",
      "np_y_std =  46.79410675893773\n",
      "np_xy_cv =  113.0432544378698\n",
      "np_r2 =  0.1610505571000183\n"
     ]
    }
   ],
   "source": [
    "## TODO: Resolver a regressão linear com as funções avançadas de Numpy\n",
    "## Usar novos nomes de variáveis como np_x_avg, np_x_std, np_r2, etc.\n",
    "\n",
    "np_m = (np.sum(X*Y) - (X.sum() * Y.sum() / n)) / (X2.sum() - (X.sum()**2) / n)\n",
    "print(\"np_m = \", np_m)\n",
    "\n",
    "np_b = np.average(Y) - m * np.average(X)\n",
    "print(\"np_b = \", np_b)\n",
    "\n",
    "np_x_std = np.sqrt((X2.sum() / n) - np.average(X)**2) \n",
    "print(\"np_x_std = \", np_x_std)\n",
    "\n",
    "np_y_std = np.sqrt((Y2.sum() / n) - np.average(Y)**2) \n",
    "print(\"np_y_std = \", np_y_std)\n",
    "\n",
    "np_xy_cv = np.average(XY) / n \n",
    "print(\"np_xy_cv = \", np_xy_cv)\n",
    "\n",
    "np_r2 = np_xy_cv / (np_x_std * np_y_std)\n",
    "print(\"np_r2 = \", np_r2)"
   ]
  },
  {
   "cell_type": "markdown",
   "metadata": {},
   "source": [
    "## Tarefa 4: calcular os resíduos e fazer previsões"
   ]
  },
  {
   "cell_type": "markdown",
   "metadata": {},
   "source": [
    "Calcular os resíduos do seu modelo:\n",
    "\n",
    "$residuos = Y - Y\\_pred$"
   ]
  },
  {
   "cell_type": "code",
   "execution_count": 23,
   "metadata": {},
   "outputs": [
    {
     "name": "stdout",
     "output_type": "stream",
     "text": [
      "[ 17.63   2.67  -0.32   5.67 -29.55  14.62  -8.4   14.92  -8.19 -12.41\n",
      " -25.42   8.08  12.64 -10.25   3.65 -16.25  16.47  22.79  14.49  -7.34\n",
      " -17.07   5.16  -8.99   5.79 -23.32  22.95]\n"
     ]
    },
    {
     "data": {
      "image/png": "[encoded data removed]",
      "text/plain": [
       "<Figure size 640x480 with 1 Axes>"
      ]
     },
     "metadata": {},
     "output_type": "display_data"
    }
   ],
   "source": [
    "## TODO: Calcular os resíduos e represente-os com Matplotlib num gráfico de pontos vs X\n",
    "res = Y - y_pred\n",
    "print(res)\n",
    "\n",
    "# Gráfico de Matplotlib\n",
    "# Pode usar a função scatter()\n",
    "plt.scatter(X, res)\n",
    "\n",
    "plt.show()"
   ]
  },
  {
   "cell_type": "markdown",
   "metadata": {},
   "source": [
    "Realizar previsões para 2 (ou mais) valores novos de X, 1 valor para interpolação e 1 valor para extrapolação"
   ]
  },
  {
   "cell_type": "code",
   "execution_count": 18,
   "metadata": {},
   "outputs": [
    {
     "name": "stdout",
     "output_type": "stream",
     "text": [
      "x_interpol =  [15.5 28.4]\n",
      "y_interpol =  [ 62.85087094 101.00287453]\n",
      "\n",
      "x_extrapol =  [40 52]\n",
      "y_extrapol =  [135.31010256 170.80033846]\n"
     ]
    }
   ],
   "source": [
    "# TODO: Fazer previsões com o modelo ajustado\n",
    "\n",
    "x_interpol = np.array([15.5, 28.4])\n",
    "print(\"x_interpol = \", x_interpol)\n",
    "y_interpol = x_interpol * np_m + np_b\n",
    "print(\"y_interpol = \", y_interpol)\n",
    "print()\n",
    "x_extrapol = np.array([40, 52])\n",
    "print(\"x_extrapol = \", x_extrapol)\n",
    "y_extrapol = x_extrapol * np_m + np_b\n",
    "print(\"y_extrapol = \", y_extrapol)\n"
   ]
  },
  {
   "cell_type": "markdown",
   "metadata": {},
   "source": [
    "## Tarefa 5: resolução com Scikit-learn\n",
    "\n",
    "*Atreve-se a resolver uma regressão linear simples usando Scikit-learn? E a avaliar e fazer previsões?*\n",
    "\n",
    "Rever o código deste notebook e adapte-o para usar os nossos dados: https://scikit-learn.org/stable/auto_examples/linear_model/plot_ols.html"
   ]
  },
  {
   "cell_type": "code",
   "execution_count": 21,
   "metadata": {},
   "outputs": [
    {
     "name": "stdout",
     "output_type": "stream",
     "text": [
      "X_train  [ 0.  2.  4.  6.  8. 10. 12. 14. 16. 18. 20. 22. 24. 26. 28. 30. 32. 34.\n",
      " 36. 38. 40.]\n",
      "X_test  [42. 44. 46. 48. 50.]\n",
      "Y_train  [ 34.64  25.59  28.52  40.42  11.12  61.2   44.1   73.33  56.14  57.83\n",
      "  50.74  90.15 100.63  83.65 103.47  89.48 128.12 140.35 137.97 122.06\n",
      " 118.24]\n",
      "Y_test  [146.39 138.15 158.85 135.65 187.84]\n",
      "X_train  [[ 0.]\n",
      " [ 2.]\n",
      " [ 4.]\n",
      " [ 6.]\n",
      " [ 8.]\n",
      " [10.]\n",
      " [12.]\n",
      " [14.]\n",
      " [16.]\n",
      " [18.]\n",
      " [20.]\n",
      " [22.]\n",
      " [24.]\n",
      " [26.]\n",
      " [28.]\n",
      " [30.]\n",
      " [32.]\n",
      " [34.]\n",
      " [36.]\n",
      " [38.]\n",
      " [40.]]\n",
      "X_test  [[42.]\n",
      " [44.]\n",
      " [46.]\n",
      " [48.]\n",
      " [50.]]\n"
     ]
    }
   ],
   "source": [
    "# TODO: Resolver a regressão linear simples usando Scikit-learn a partir desse exemplo\n",
    "from sklearn.model_selection import train_test_split\n",
    "\n",
    "X_train, X_test, Y_train, Y_test = train_test_split(X, Y, test_size=5, shuffle=False)\n",
    "print(\"X_train \", X_train)\n",
    "print(\"X_test \", X_test)\n",
    "print(\"Y_train \", Y_train)\n",
    "print(\"Y_test \", Y_test)\n",
    "\n",
    "X_train = X_train.reshape(-1, 1)\n",
    "X_test = X_test.reshape(-1, 1)\n",
    "print(\"X_train \", X_train)\n",
    "print(\"X_test \", X_test)\n",
    "    "
   ]
  },
  {
   "cell_type": "code",
   "execution_count": 135,
   "metadata": {},
   "outputs": [
    {
     "name": "stdout",
     "output_type": "stream",
     "text": [
      "Coeficiente (slope): [2.93018182]\n",
      "Intercepto: 17.479696969696974\n",
      "Score (R^2): 0.32703149882093174\n"
     ]
    }
   ],
   "source": [
    "from sklearn.linear_model import LinearRegression\n",
    "\n",
    "regressor = LinearRegression().fit(X_train, Y_train)\n",
    "\n",
    "print(\"Coeficiente (slope):\", regressor.coef_)\n",
    "print(\"Intercepto:\", regressor.intercept_)\n",
    "print(\"Score (R^2):\", regressor.score(X_test, Y_test))"
   ]
  },
  {
   "cell_type": "code",
   "execution_count": 136,
   "metadata": {},
   "outputs": [
    {
     "name": "stdout",
     "output_type": "stream",
     "text": [
      "Mean squared error: 243.96\n",
      "Coefficient of determination: 0.33\n"
     ]
    }
   ],
   "source": [
    "from sklearn.metrics import mean_squared_error, r2_score\n",
    "\n",
    "skl_y_pred = regressor.predict(X_test)\n",
    "\n",
    "print(f\"Mean squared error: {mean_squared_error(Y_test, skl_y_pred):.2f}\")\n",
    "print(f\"Coefficient of determination: {r2_score(Y_test, skl_y_pred):.2f}\")"
   ]
  }
 ],
 "metadata": {
  "environment": {
   "name": "common-cpu.m54",
   "type": "gcloud",
   "uri": "gcr.io/deeplearning-platform-release/base-cpu:m54"
  },
  "kernelspec": {
   "display_name": "Python 3 (ipykernel)",
   "language": "python",
   "name": "python3"
  },
  "language_info": {
   "codemirror_mode": {
    "name": "ipython",
    "version": 3
   },
   "file_extension": ".py",
   "mimetype": "text/x-python",
   "name": "python",
   "nbconvert_exporter": "python",
   "pygments_lexer": "ipython3",
   "version": "3.12.3"
  }
 },
 "nbformat": 4,
 "nbformat_minor": 4
}
