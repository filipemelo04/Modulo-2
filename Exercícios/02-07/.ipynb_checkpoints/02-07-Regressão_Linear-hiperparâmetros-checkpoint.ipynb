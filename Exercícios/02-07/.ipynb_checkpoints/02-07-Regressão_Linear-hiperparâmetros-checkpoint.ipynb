{
 "cells": [
  {
   "cell_type": "markdown",
   "metadata": {},
   "source": [
    "# Regressão linear: Hiper-parâmetros da formação\n",
    "\n",
    "O que vamos fazer?\n",
    "\n",
    "- Comprovar o efeito dos diferentes hiper-parâmetros na formação de um modelo\n",
    "\n",
    "## Efeito dos hiper-parâmetros\n",
    "\n",
    "Neste laboratório não vamos introduzir nenhum conceito novo, nem implementar nenhum código que não tenhamos implementado \n",
    "noutros exercícios prévios.\n",
    "\n",
    "O objetivo deste exercício é ter a oportunidade de comprovar como diferentes hiper-parâmetros e outras configurações afetam o nosso processo de formação.\n",
    "\n",
    "Para isso, basta copiar as suas células de código do exercício anterior (“regressão linear: Exemplo sobre dataset sintético”), vai modificar muitas vezes os hiper-parâmetros utilizados e comprovar o seu efeito sobre a formação, bem como validar novamente a sua implementação, que irá usar em múltiplos exercícios posteriores.\n",
    "\n",
    "Por certo, conhece já as hotkeys de JupyterLab? Irão ser muito úteis durante o curso: https://coderefinery.github.io/jupyter/02-interface/#keyboard-shortcuts"
   ]
  },
  {
   "cell_type": "code",
   "execution_count": 2,
   "metadata": {},
   "outputs": [],
   "source": [
    "import time\n",
    "import numpy as np\n",
    "from matplotlib import pyplot as plt"
   ]
  },
  {
   "cell_type": "markdown",
   "metadata": {},
   "source": [
    "## Criação do dataset sintético\n",
    "\n",
    "Copiar a célula do exercício anterior para criar um dataset sintético, com termo de bias e de erro. Dar um valor ao termo de erro distinto a 0."
   ]
  },
  {
   "cell_type": "code",
   "execution_count": 9,
   "metadata": {},
   "outputs": [
    {
     "name": "stdout",
     "output_type": "stream",
     "text": [
      "Primeiras 5 filas de X:'):\n",
      " [[ 1.         -0.5702944   0.9359262  -0.7817704  -0.26991152]\n",
      " [ 1.         -0.90540007 -0.9108166  -0.51781275 -0.60762849]\n",
      " [ 1.          0.65066341 -0.63008674 -0.85450735 -0.99356493]\n",
      " [ 1.          0.91131448 -0.44122196  0.97479716 -0.37684288]\n",
      " [ 1.         -0.49671266 -0.68821685 -0.35384527 -0.6565398 ]]\n",
      "Theta: \n",
      " [0.67356703 0.68887833 0.07114965 0.21285796 0.01273299]\n",
      "Primeiras 10 filas de Y:\n",
      " [0.67745157 0.36709477 1.38242477 1.97265404 0.69874757 0.96129138\n",
      " 1.78540379 1.24751258 1.14573165 1.13746787]\n",
      "Dimensão de X: (100, 5)\n",
      "Dimensão de Theta: (5,)\n",
      "Dimensão de Y: (100,)\n",
      "\n"
     ]
    }
   ],
   "source": [
    "# TODO: Copiar aqui o código da célula correspondente, ou copiar a célula completa e eliminar esta.\n",
    "\n",
    "# TODO: Gerar um dataset sintético, com termo de erro inicialmente a 0, sob a forma que escolher\n",
    "m, n = 100, 4\n",
    "\n",
    "# Criar uma matriz de números aleatórios no intervalo [-1, 1)\n",
    "X = np.random.uniform(-1, 1, (m, n))\n",
    "\n",
    "# Inserir um vetor de 1s como primeira coluna de X\n",
    "# Dicas: np.insert(), np.ones(), índice 0, eixo 1...\n",
    "X = np.insert(X, 0, 1, axis=1)\n",
    "print(\"Primeiras 5 filas de X:'):\\n\", X[:5])\n",
    "\n",
    "# Gerar um vetor de números aleatórios no intervalo [0, 1) de tamanho n + 1 (ao adicionar o termo bias\n",
    "Theta_verd = np.random.rand(n + 1)\n",
    "print(\"Theta: \\n\", Theta_verd)\n",
    "\n",
    "# Gerar o vetor Y com um termo de erro aleatório em %, inicializado a 0\n",
    "error = 0.5\n",
    "\n",
    "Y = np.matmul(X, Theta_verd.T) \n",
    "Y = Y + error\n",
    "print(\"Primeiras 10 filas de Y:\\n\", Y[:10])\n",
    "# Verificar os valores e dimensões dos vetores\n",
    "print(\"Dimensão de X:\", X.shape)\n",
    "print(\"Dimensão de Theta:\", Theta_verd.shape)\n",
    "print(\"Dimensão de Y:\", Y.shape)\n",
    "print()"
   ]
  },
  {
   "cell_type": "markdown",
   "metadata": {},
   "source": [
    "## Formação do modelo\n",
    "\n",
    "Copiar a célula com as funções de custo e o gradient descent e a célula que forma o modelo por gradient descent."
   ]
  },
  {
   "cell_type": "code",
   "execution_count": 10,
   "metadata": {},
   "outputs": [],
   "source": [
    "# TODO: Copiar o código das suas funções de custo e descida do gradiente\n",
    "\n",
    "def cost_function(x, y, theta):\n",
    "    \n",
    "    \"\"\" Computar a função de custo para o dataset e coeficientes considerados.\n",
    "    \n",
    "    Argumentos posicionais:\n",
    "     x -- array 2D de Numpy com os valores das variáveis independentes dos exemplos, de tamanho m x n \n",
    "    y -- array 1D Numpy com a variável dependente/objetivo, de tamanho m x 1\n",
    "    theta -- array 1D Numpy com os pesos dos coeficientes do modelo, de tamanho 1 x n (vetor fila)\n",
    "    \n",
    "    Devolver:\n",
    "     j -- float com o custo para esse array theta \n",
    "     \"\"\"\n",
    "    \n",
    "    # Verificar se os dados estão de acordo\n",
    "    if not (x.ndim == 2 and theta.ndim == 1 and y.ndim == 1): \n",
    "        return False\n",
    "    \n",
    "    m = len(y)\n",
    "\n",
    "    # Calcular o produto escalar entre x e theta\n",
    "    h = np.dot(x, theta.T)  # Previsões\n",
    "    \n",
    "    # Calculando a função de custo\n",
    "    j = (1 / (2 * m)) * np.sum((h - y) ** 2)  \n",
    "\n",
    "    return j\n",
    "    \n",
    "\n",
    "def gradient_descent(x, y, theta, alpha, e, iter):\n",
    "    \n",
    "    \"\"\" Formar o modelo otimizando a sua função de custo por gradient descent\n",
    "    \n",
    "    Argumentos posicionais:\n",
    "    x -- array 2D de Numpu com os valores das variáveis independentes dos exemplos, de tamanho m x n \n",
    "    y -- array 1D Numpy com a variável dependente/objetivo, de tamanho m x 1\n",
    "    theta -- array 1D Numpy com os pesos dos coeficientes do modelo, de tamanho 1 x n (vetor fila) \n",
    "    alpha -- float, ratio de formação\n",
    "    \n",
    "    Argumentos numerados (keyword):\n",
    "    e -- float, diferença mínima entre iterações para declarar que a formação finalmente convergiu \n",
    "    iter_ -- int/float, número de iterações\n",
    "    \n",
    "    Devolver:\n",
    "    j_hist -- list/array com a evolução da função de custo durante a formação \n",
    "    theta -- array Numpy com o valor do theta na última iteração\n",
    "    \n",
    "    \"\"\"\n",
    "    iter_ = int(iter)  # Se declarou iter_ em notação científica (1e3) ou float (1000.), converter\n",
    "    \n",
    "    # Inicializar j_hist como uma list ou um array Numpy. Recordar que não sabemos que tamanho terá\n",
    "    j_hist = []\n",
    "    \n",
    "    m, n = x.shape  # Obter m e n a partir das dimensões de X\n",
    "    \n",
    "    for k in range(iter_):  # Iterar sobre o número máximo de iterações\n",
    "        theta_iter = np.copy(theta)  # Copiar theta para atualizar\n",
    "        \n",
    "        for j in range(n):  # Iterar sobre n.º de características\n",
    "            # Atualizar theta_iter para cada característica, de acordo com a derivada da função de custo\n",
    "            # Incluir a relação de formação alfa\n",
    "            theta_iter[j] = theta[j] - (alpha / (m)) * np.sum((x.dot(theta) - y) * x[:, j])\n",
    "        \n",
    "        theta = theta_iter\n",
    "            \n",
    "        cost = cost_function(x, y, theta)  # Calcular o custo para a atual iteração theta\n",
    "            \n",
    "        j_hist.append(cost)  # Adicionar o custo da iteração atual ao histórico de custos\n",
    "        \n",
    "        # Comprovar se a diferença entre o custo da iteração atual e o custo da última iteração em valor \n",
    "        # absoluto são inferiores que a diferença mínima para declarar a convergência\n",
    "        if k > 0 and abs(j_hist[-1] - j_hist[-2]) < e:\n",
    "            print('Convergir na iteração n.º: ', k)\n",
    "            break\n",
    "    else:\n",
    "        print('N.º máx. de iterações alcançado')\n",
    "        \n",
    "    return j_hist, theta"
   ]
  },
  {
   "cell_type": "markdown",
   "metadata": {},
   "source": [
    "## Comprovar a formação do modelo\n",
    "\n",
    "Copiar a célula que representa graficamente o histórico da função de custo do seu modelo."
   ]
  },
  {
   "cell_type": "code",
   "execution_count": 12,
   "metadata": {},
   "outputs": [
    {
     "name": "stdout",
     "output_type": "stream",
     "text": [
      "Theta inicial:\n",
      "[5.2, 3.6, 1.7, 0.4, 3.8]\n",
      "Hiper-parâmetros a utilizar:\n",
      "Convergir na iteração n.º:  121\n",
      "Tempo de formação (s): 0.03652310371398926\n",
      "\n",
      "Últimos 10 valores da função de custo\n",
      "[0.0026837233589290543, 0.0025245974844594586, 0.0023750089920691895, 0.0022343792252540514, 0.002102165136154736, 0.0019778570577151725, 0.0018609766179499554, 0.0017510747870513699, 0.001647730048686715, 0.0015505466874138746]\n",
      "\n",
      "Custo final:\n",
      "0.00155\n",
      "Valores verdadeiros de Theta e diferença com valores formados:\n",
      "\n",
      "Theta final: [1.18 0.7  0.1  0.24 0.11]\n",
      "Theta_verd: [0.67 0.69 0.07 0.21 0.01]\n",
      "Diferença de Thetas:  [0.5  0.01 0.03 0.03 0.09]\n"
     ]
    },
    {
     "data": {
      "image/png": "[encoded data removed]",
      "text/plain": [
       "<Figure size 640x480 with 1 Axes>"
      ]
     },
     "metadata": {},
     "output_type": "display_data"
    }
   ],
   "source": [
    "# TODO: Formar o seu modelo ML otimizando os seus coeficientes theta por gradient descent\n",
    "\n",
    "# Inicializar theta com n + 1 valores aleatórios\n",
    "theta_ini = [5.2, 3.6, 1.7, 0.4, 3.8]\n",
    "\n",
    "print('Theta inicial:') \n",
    "print(theta_ini)\n",
    "\n",
    "alpha = 1e-1 \n",
    "e = 1e-4\n",
    "iter_ = 1e6\n",
    "\n",
    "print('Hiper-parâmetros a utilizar:')\n",
    "\n",
    "t = time.time()\n",
    "j_hist, theta = gradient_descent(X, Y, theta_ini, alpha, e, iter_)\n",
    "\n",
    "print('Tempo de formação (s):', time.time() - t)\n",
    "\n",
    "# TODO: completar\n",
    "print('\\nÚltimos 10 valores da função de custo') \n",
    "print(j_hist[-10:])\n",
    "print('\\nCusto final:') \n",
    "print(round(j_hist[-1], 5)) \n",
    "\n",
    "print('Valores verdadeiros de Theta e diferença com valores formados:') \n",
    "print('\\nTheta final:', np.round(theta, 2)) \n",
    "print(\"Theta_verd:\", np.round(Theta_verd, 2))\n",
    "print(\"Diferença de Thetas: \", np.round(theta - Theta_verd, 2))\n",
    "\n",
    "plt.figure(1)\n",
    "\n",
    "plt.title('Função de custo') \n",
    "\n",
    "plt.plot(range(len(j_hist)), j_hist) # Completar a função\n",
    "\n",
    "plt.show()"
   ]
  },
  {
   "cell_type": "markdown",
   "metadata": {},
   "source": [
    "## Avaliação do modelo\n",
    "\n",
    "Copiar a célula que calcula e representa graficamente os resíduos do seu modelo.\n",
    "\n",
    "Adicionar a essa célula o cálculo do Y previsto (Y_pred) da célula anterior, já que sem essa variável o seu código não irá \n",
    "funcionar corretamente"
   ]
  },
  {
   "cell_type": "code",
   "execution_count": 15,
   "metadata": {},
   "outputs": [
    {
     "name": "stdout",
     "output_type": "stream",
     "text": [
      "y_pred [0.65527299 0.2639536  1.25621805 1.96466166 0.60607908 1.01310212\n",
      " 1.82367903 1.22010541 1.17516388 1.09701759]\n",
      "Residuos: [-0.02217858 -0.10314117 -0.12620672 -0.00799238 -0.09266849  0.05181074\n",
      "  0.03827524 -0.02740717  0.02943223 -0.04045028]\n"
     ]
    },
    {
     "data": {
      "image/png": "[encoded data removed]",
      "text/plain": [
       "<Figure size 640x480 with 1 Axes>"
      ]
     },
     "metadata": {},
     "output_type": "display_data"
    }
   ],
   "source": [
    "y_pred = X @ theta\n",
    "print(\"y_pred\", y_pred[:10])\n",
    "\n",
    "residuos = y_pred - Y\n",
    "print(\"Residuos:\", residuos[:10])\n",
    "\n",
    "plt.figure(2)\n",
    "\n",
    "plt.title('Residuos') \n",
    "\n",
    "plt.scatter(range(len(residuos)), residuos)\n",
    "\n",
    "plt.show()"
   ]
  },
  {
   "cell_type": "markdown",
   "metadata": {},
   "source": [
    "## Modificar os hiper-parâmetros e comprovar o seu efeito.\n",
    "\n",
    "Agora proceder à modificação a cada um dos diferentes hiper-parâmetros e como um conjunto e comprovar o seu efeito. Os \n",
    "hiper-parâmetros de formação e outros parâmetros de configuração que vamos modificar são os seguintes:\n",
    "1. m e n\n",
    "1. Termo de erro do dataset, erro\n",
    "1. Ratio de formação, alfa\n",
    "1. Parâmetro de convergência, e\n",
    "1. Número máximo de iterações\n",
    "\n",
    "Queremos que nesta tarefa seja o mais autónomo possível, que dedique este tempo para poder experimentar, descobrir por si próprio o comportamento desses parâmetros, para aprender a modificá-los no futuro, quando precisarmos de os modificar para otimizar a formação de modelos mais complexos.\n",
    "\n",
    "Então, porque não aproveitar para desfrutar e descobrir por si próprio o que pode acontecer quando os modificamos, tanto \n",
    "individualmente como um conjunto?\n",
    "\n",
    "Quando estiver pronto para continuar, pode passar para a secção final"
   ]
  },
  {
   "cell_type": "markdown",
   "metadata": {},
   "source": [
    "## Modificação dos hiper-parâmetros: perguntas e conclusões\n",
    "\n",
    "Como objetivo de avaliação do exercício, vamos incluir algumas perguntas simples para que possa responder em função das suas \n",
    "apreciações no ponto anterior. Pode modificar esta célula de markdown e adicionar as suas respostas às mesmas.\n",
    "\n",
    "1. O que acontece quando aumentamos o número de exemplos?\n",
    "1. Como é que isso afeta o tempo de formação?\n",
    "1. Como é que afeta a precisão ou o custo final do modelo?\n",
    "1. O que acontece quando aumentamos o número de características? Como afeta o tempo de formação e a precisão do modelo?\n",
    "1. Como é que o termo de erro afeta a sua formação? A sua precisão, o número de iterações até convergir...\n",
    "1. Como o número máximo de iterações afeta a formação? Tem alguma coisa a ver com o tempo de formação, precisão final, etc.?\n",
    "1. Existe um limite para o número máximo de iterações? Podemos aumentar este número até ao infinito para conseguir, por exemplo,melhorar a precisão?\n",
    "1. O número máximo de iterações e o parâmetro de convergência da formação estão relacionados?\n",
    "1. O parâmetro de convergência e o custo final do modelo estão relacionados?\n",
    "1. Como é que o ratio de formação afeta o modelo? Será que afeta a sua velocidade, a sua precisão?\n",
    "1. Podemos aumentar a taxa de formação para o infinito? Há algum limite para além do qual deixe de funcionar, tanto em valor máximo como mínimo?\n",
    "\n",
    "Curiosidades: vamos testar o seu ambiente de trabalho atual. Irá dar-nos uma ideia do seu poder, mas também uma referência \n",
    "para si, para o recordar no futuro e para conhecer os seus limites:\n",
    "1. Qual é o número máximo de exemplos e características que os seus recursos do seu ambiente de trabalho atual admitem? Fazer vários testes, e quando alcançar o limite das características, modificar o número de exemplos. Tirar cerca de 3 pontos de combinações de ambos os valores acima dos quais o seu ambiente lhe irá dar um erro de recurso.\n",
    "\n",
    "\n",
    "1. Ter uma ideia do tempo de formação necessário para um modelo típico no seu ambiente para um algoritmo básico, tal como a regressão linear. Com um termo de erro de 15%, um limite de iterações, ratio de aprendizagem e um parâmetro de convergência suficiente, anotar o tempo que demora o seu equipamento a formar o modelo. Tentar vários valores para o número de exemplos e características, por exemplo, tamanho do dataset “pequeno”, “médio” e “grande”.\n",
    "\n",
    "\n",
    "Por último, há alguma conclusão adicional que tenha descoberto e que não esteja incluída nas perguntas anteriores? Aguardamos com expetativa a sua resposta!"
   ]
  }
 ],
 "metadata": {
  "environment": {
   "name": "common-cpu.m54",
   "type": "gcloud",
   "uri": "gcr.io/deeplearning-platform-release/base-cpu:m54"
  },
  "kernelspec": {
   "display_name": "Python 3 (ipykernel)",
   "language": "python",
   "name": "python3"
  },
  "language_info": {
   "codemirror_mode": {
    "name": "ipython",
    "version": 3
   },
   "file_extension": ".py",
   "mimetype": "text/x-python",
   "name": "python",
   "nbconvert_exporter": "python",
   "pygments_lexer": "ipython3",
   "version": "3.12.3"
  }
 },
 "nbformat": 4,
 "nbformat_minor": 4
}
