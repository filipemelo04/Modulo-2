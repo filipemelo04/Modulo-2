{
 "cells": [
  {
   "cell_type": "markdown",
   "id": "be97049a-c669-4904-b0a5-5d7b745aa6cf",
   "metadata": {},
   "source": [
    "# Exercico Pratico sobre Cross Validation"
   ]
  },
  {
   "cell_type": "markdown",
   "id": "3879e3e9-e22d-4e24-acd2-d00497944a36",
   "metadata": {},
   "source": [
    "### Importar Dataset "
   ]
  },
  {
   "cell_type": "markdown",
   "id": "ba09bc0d-c3ff-4f4b-8a3e-6db381930a67",
   "metadata": {},
   "source": [
    "### Atributos do Dataset Boston Housing\n",
    "\n",
    "- **MedInc**        rendimento mediano no grupo de blocos\n",
    "- **HouseAge**      idade média da casa no grupo de blocos\n",
    "- **AveRooms**      número médio de quartos por domicílio\n",
    "- **AveBedrms**     número médio de quartos por agregado familiar\n",
    "- **Population**    população do grupo de blocos\n",
    "- **AveOccup**      número médio de membros da família\n",
    "- **Latitude**      bloco latitude grupo\n",
    "- **Longitude**     grupo de blocos longitude\n",
    "- **MedHouseVal**   média do preço da casa"
   ]
  },
  {
   "cell_type": "code",
   "execution_count": 1,
   "id": "f9294cbe-2451-4b73-91ed-cf00798c9ddd",
   "metadata": {},
   "outputs": [],
   "source": [
    "from sklearn.datasets import fetch_california_housing\n",
    "import pandas as pd\n",
    "\n",
    "data = fetch_california_housing()\n",
    "df = pd.DataFrame(data.data, columns=data.feature_names)\n",
    "\n",
    "# Adiciona a variável target (preço das casas)\n",
    "df[data.target_names[0]] = data.target"
   ]
  },
  {
   "cell_type": "markdown",
   "id": "a26f336f-9ff1-49a8-8fe9-4106a763d574",
   "metadata": {},
   "source": [
    "### Informação do dataset"
   ]
  },
  {
   "cell_type": "code",
   "execution_count": 2,
   "id": "f54f4219-f407-43fe-8d17-f0e1d18754b4",
   "metadata": {},
   "outputs": [
    {
     "name": "stdout",
     "output_type": "stream",
     "text": [
      ".. _california_housing_dataset:\n",
      "\n",
      "California Housing dataset\n",
      "--------------------------\n",
      "\n",
      "**Data Set Characteristics:**\n",
      "\n",
      ":Number of Instances: 20640\n",
      "\n",
      ":Number of Attributes: 8 numeric, predictive attributes and the target\n",
      "\n",
      ":Attribute Information:\n",
      "    - MedInc        median income in block group\n",
      "    - HouseAge      median house age in block group\n",
      "    - AveRooms      average number of rooms per household\n",
      "    - AveBedrms     average number of bedrooms per household\n",
      "    - Population    block group population\n",
      "    - AveOccup      average number of household members\n",
      "    - Latitude      block group latitude\n",
      "    - Longitude     block group longitude\n",
      "\n",
      ":Missing Attribute Values: None\n",
      "\n",
      "This dataset was obtained from the StatLib repository.\n",
      "https://www.dcc.fc.up.pt/~ltorgo/Regression/cal_housing.html\n",
      "\n",
      "The target variable is the median house value for California districts,\n",
      "expressed in hundreds of thousands of dollars ($100,000).\n",
      "\n",
      "This dataset was derived from the 1990 U.S. census, using one row per census\n",
      "block group. A block group is the smallest geographical unit for which the U.S.\n",
      "Census Bureau publishes sample data (a block group typically has a population\n",
      "of 600 to 3,000 people).\n",
      "\n",
      "A household is a group of people residing within a home. Since the average\n",
      "number of rooms and bedrooms in this dataset are provided per household, these\n",
      "columns may take surprisingly large values for block groups with few households\n",
      "and many empty houses, such as vacation resorts.\n",
      "\n",
      "It can be downloaded/loaded using the\n",
      ":func:`sklearn.datasets.fetch_california_housing` function.\n",
      "\n",
      ".. topic:: References\n",
      "\n",
      "    - Pace, R. Kelley and Ronald Barry, Sparse Spatial Autoregressions,\n",
      "      Statistics and Probability Letters, 33 (1997) 291-297\n",
      "\n"
     ]
    }
   ],
   "source": [
    "print(data.DESCR)"
   ]
  },
  {
   "cell_type": "markdown",
   "id": "1d111a02-852f-439a-9169-a867dc39f704",
   "metadata": {},
   "source": [
    "### Visulaizar Dataset"
   ]
  },
  {
   "cell_type": "code",
   "execution_count": 3,
   "id": "b71da228-d194-4bfe-9bab-5373c22f6785",
   "metadata": {},
   "outputs": [
    {
     "data": {
      "text/html": [
       "<div>\n",
       "<style scoped>\n",
       "    .dataframe tbody tr th:only-of-type {\n",
       "        vertical-align: middle;\n",
       "    }\n",
       "\n",
       "    .dataframe tbody tr th {\n",
       "        vertical-align: top;\n",
       "    }\n",
       "\n",
       "    .dataframe thead th {\n",
       "        text-align: right;\n",
       "    }\n",
       "</style>\n",
       "<table border=\"1\" class=\"dataframe\">\n",
       "  <thead>\n",
       "    <tr style=\"text-align: right;\">\n",
       "      <th></th>\n",
       "      <th>MedInc</th>\n",
       "      <th>HouseAge</th>\n",
       "      <th>AveRooms</th>\n",
       "      <th>AveBedrms</th>\n",
       "      <th>Population</th>\n",
       "      <th>AveOccup</th>\n",
       "      <th>Latitude</th>\n",
       "      <th>Longitude</th>\n",
       "      <th>MedHouseVal</th>\n",
       "    </tr>\n",
       "  </thead>\n",
       "  <tbody>\n",
       "    <tr>\n",
       "      <th>0</th>\n",
       "      <td>8.3252</td>\n",
       "      <td>41.0</td>\n",
       "      <td>6.984127</td>\n",
       "      <td>1.023810</td>\n",
       "      <td>322.0</td>\n",
       "      <td>2.555556</td>\n",
       "      <td>37.88</td>\n",
       "      <td>-122.23</td>\n",
       "      <td>4.526</td>\n",
       "    </tr>\n",
       "    <tr>\n",
       "      <th>1</th>\n",
       "      <td>8.3014</td>\n",
       "      <td>21.0</td>\n",
       "      <td>6.238137</td>\n",
       "      <td>0.971880</td>\n",
       "      <td>2401.0</td>\n",
       "      <td>2.109842</td>\n",
       "      <td>37.86</td>\n",
       "      <td>-122.22</td>\n",
       "      <td>3.585</td>\n",
       "    </tr>\n",
       "    <tr>\n",
       "      <th>2</th>\n",
       "      <td>7.2574</td>\n",
       "      <td>52.0</td>\n",
       "      <td>8.288136</td>\n",
       "      <td>1.073446</td>\n",
       "      <td>496.0</td>\n",
       "      <td>2.802260</td>\n",
       "      <td>37.85</td>\n",
       "      <td>-122.24</td>\n",
       "      <td>3.521</td>\n",
       "    </tr>\n",
       "    <tr>\n",
       "      <th>3</th>\n",
       "      <td>5.6431</td>\n",
       "      <td>52.0</td>\n",
       "      <td>5.817352</td>\n",
       "      <td>1.073059</td>\n",
       "      <td>558.0</td>\n",
       "      <td>2.547945</td>\n",
       "      <td>37.85</td>\n",
       "      <td>-122.25</td>\n",
       "      <td>3.413</td>\n",
       "    </tr>\n",
       "    <tr>\n",
       "      <th>4</th>\n",
       "      <td>3.8462</td>\n",
       "      <td>52.0</td>\n",
       "      <td>6.281853</td>\n",
       "      <td>1.081081</td>\n",
       "      <td>565.0</td>\n",
       "      <td>2.181467</td>\n",
       "      <td>37.85</td>\n",
       "      <td>-122.25</td>\n",
       "      <td>3.422</td>\n",
       "    </tr>\n",
       "  </tbody>\n",
       "</table>\n",
       "</div>"
      ],
      "text/plain": [
       "   MedInc  HouseAge  AveRooms  AveBedrms  Population  AveOccup  Latitude  \\\n",
       "0  8.3252      41.0  6.984127   1.023810       322.0  2.555556     37.88   \n",
       "1  8.3014      21.0  6.238137   0.971880      2401.0  2.109842     37.86   \n",
       "2  7.2574      52.0  8.288136   1.073446       496.0  2.802260     37.85   \n",
       "3  5.6431      52.0  5.817352   1.073059       558.0  2.547945     37.85   \n",
       "4  3.8462      52.0  6.281853   1.081081       565.0  2.181467     37.85   \n",
       "\n",
       "   Longitude  MedHouseVal  \n",
       "0    -122.23        4.526  \n",
       "1    -122.22        3.585  \n",
       "2    -122.24        3.521  \n",
       "3    -122.25        3.413  \n",
       "4    -122.25        3.422  "
      ]
     },
     "execution_count": 3,
     "metadata": {},
     "output_type": "execute_result"
    }
   ],
   "source": [
    "df.head()"
   ]
  },
  {
   "cell_type": "markdown",
   "id": "470777c5-1793-45fa-a5cf-e36d9c4988d4",
   "metadata": {},
   "source": [
    "### Visualizar Correlações entre Variáveis"
   ]
  },
  {
   "cell_type": "code",
   "execution_count": 3,
   "id": "684066cb-d3a5-49ff-8db7-606537aa1b5a",
   "metadata": {},
   "outputs": [
    {
     "data": {
      "text/html": [
       "<div>\n",
       "<style scoped>\n",
       "    .dataframe tbody tr th:only-of-type {\n",
       "        vertical-align: middle;\n",
       "    }\n",
       "\n",
       "    .dataframe tbody tr th {\n",
       "        vertical-align: top;\n",
       "    }\n",
       "\n",
       "    .dataframe thead th {\n",
       "        text-align: right;\n",
       "    }\n",
       "</style>\n",
       "<table border=\"1\" class=\"dataframe\">\n",
       "  <thead>\n",
       "    <tr style=\"text-align: right;\">\n",
       "      <th></th>\n",
       "      <th>MedInc</th>\n",
       "      <th>HouseAge</th>\n",
       "      <th>AveRooms</th>\n",
       "      <th>AveBedrms</th>\n",
       "      <th>Population</th>\n",
       "      <th>AveOccup</th>\n",
       "      <th>Latitude</th>\n",
       "      <th>Longitude</th>\n",
       "      <th>MedHouseVal</th>\n",
       "    </tr>\n",
       "  </thead>\n",
       "  <tbody>\n",
       "    <tr>\n",
       "      <th>MedInc</th>\n",
       "      <td>1.000000</td>\n",
       "      <td>-0.147308</td>\n",
       "      <td>0.643671</td>\n",
       "      <td>-0.252426</td>\n",
       "      <td>0.006268</td>\n",
       "      <td>-0.044171</td>\n",
       "      <td>-0.088029</td>\n",
       "      <td>-0.009928</td>\n",
       "      <td>0.676778</td>\n",
       "    </tr>\n",
       "    <tr>\n",
       "      <th>HouseAge</th>\n",
       "      <td>-0.147308</td>\n",
       "      <td>1.000000</td>\n",
       "      <td>-0.231409</td>\n",
       "      <td>-0.120981</td>\n",
       "      <td>-0.283879</td>\n",
       "      <td>-0.024833</td>\n",
       "      <td>0.032440</td>\n",
       "      <td>-0.150752</td>\n",
       "      <td>0.074855</td>\n",
       "    </tr>\n",
       "    <tr>\n",
       "      <th>AveRooms</th>\n",
       "      <td>0.643671</td>\n",
       "      <td>-0.231409</td>\n",
       "      <td>1.000000</td>\n",
       "      <td>0.082046</td>\n",
       "      <td>-0.105385</td>\n",
       "      <td>0.018807</td>\n",
       "      <td>0.127134</td>\n",
       "      <td>-0.044783</td>\n",
       "      <td>0.263367</td>\n",
       "    </tr>\n",
       "    <tr>\n",
       "      <th>AveBedrms</th>\n",
       "      <td>-0.252426</td>\n",
       "      <td>-0.120981</td>\n",
       "      <td>0.082046</td>\n",
       "      <td>1.000000</td>\n",
       "      <td>0.027027</td>\n",
       "      <td>-0.132315</td>\n",
       "      <td>0.047197</td>\n",
       "      <td>0.010884</td>\n",
       "      <td>-0.125187</td>\n",
       "    </tr>\n",
       "    <tr>\n",
       "      <th>Population</th>\n",
       "      <td>0.006268</td>\n",
       "      <td>-0.283879</td>\n",
       "      <td>-0.105385</td>\n",
       "      <td>0.027027</td>\n",
       "      <td>1.000000</td>\n",
       "      <td>0.242337</td>\n",
       "      <td>-0.123626</td>\n",
       "      <td>0.123527</td>\n",
       "      <td>0.003839</td>\n",
       "    </tr>\n",
       "    <tr>\n",
       "      <th>AveOccup</th>\n",
       "      <td>-0.044171</td>\n",
       "      <td>-0.024833</td>\n",
       "      <td>0.018807</td>\n",
       "      <td>-0.132315</td>\n",
       "      <td>0.242337</td>\n",
       "      <td>1.000000</td>\n",
       "      <td>-0.150954</td>\n",
       "      <td>0.181468</td>\n",
       "      <td>-0.256594</td>\n",
       "    </tr>\n",
       "    <tr>\n",
       "      <th>Latitude</th>\n",
       "      <td>-0.088029</td>\n",
       "      <td>0.032440</td>\n",
       "      <td>0.127134</td>\n",
       "      <td>0.047197</td>\n",
       "      <td>-0.123626</td>\n",
       "      <td>-0.150954</td>\n",
       "      <td>1.000000</td>\n",
       "      <td>-0.879203</td>\n",
       "      <td>-0.165739</td>\n",
       "    </tr>\n",
       "    <tr>\n",
       "      <th>Longitude</th>\n",
       "      <td>-0.009928</td>\n",
       "      <td>-0.150752</td>\n",
       "      <td>-0.044783</td>\n",
       "      <td>0.010884</td>\n",
       "      <td>0.123527</td>\n",
       "      <td>0.181468</td>\n",
       "      <td>-0.879203</td>\n",
       "      <td>1.000000</td>\n",
       "      <td>-0.069667</td>\n",
       "    </tr>\n",
       "    <tr>\n",
       "      <th>MedHouseVal</th>\n",
       "      <td>0.676778</td>\n",
       "      <td>0.074855</td>\n",
       "      <td>0.263367</td>\n",
       "      <td>-0.125187</td>\n",
       "      <td>0.003839</td>\n",
       "      <td>-0.256594</td>\n",
       "      <td>-0.165739</td>\n",
       "      <td>-0.069667</td>\n",
       "      <td>1.000000</td>\n",
       "    </tr>\n",
       "  </tbody>\n",
       "</table>\n",
       "</div>"
      ],
      "text/plain": [
       "               MedInc  HouseAge  AveRooms  AveBedrms  Population  AveOccup  \\\n",
       "MedInc       1.000000 -0.147308  0.643671  -0.252426    0.006268 -0.044171   \n",
       "HouseAge    -0.147308  1.000000 -0.231409  -0.120981   -0.283879 -0.024833   \n",
       "AveRooms     0.643671 -0.231409  1.000000   0.082046   -0.105385  0.018807   \n",
       "AveBedrms   -0.252426 -0.120981  0.082046   1.000000    0.027027 -0.132315   \n",
       "Population   0.006268 -0.283879 -0.105385   0.027027    1.000000  0.242337   \n",
       "AveOccup    -0.044171 -0.024833  0.018807  -0.132315    0.242337  1.000000   \n",
       "Latitude    -0.088029  0.032440  0.127134   0.047197   -0.123626 -0.150954   \n",
       "Longitude   -0.009928 -0.150752 -0.044783   0.010884    0.123527  0.181468   \n",
       "MedHouseVal  0.676778  0.074855  0.263367  -0.125187    0.003839 -0.256594   \n",
       "\n",
       "             Latitude  Longitude  MedHouseVal  \n",
       "MedInc      -0.088029  -0.009928     0.676778  \n",
       "HouseAge     0.032440  -0.150752     0.074855  \n",
       "AveRooms     0.127134  -0.044783     0.263367  \n",
       "AveBedrms    0.047197   0.010884    -0.125187  \n",
       "Population  -0.123626   0.123527     0.003839  \n",
       "AveOccup    -0.150954   0.181468    -0.256594  \n",
       "Latitude     1.000000  -0.879203    -0.165739  \n",
       "Longitude   -0.879203   1.000000    -0.069667  \n",
       "MedHouseVal -0.165739  -0.069667     1.000000  "
      ]
     },
     "execution_count": 3,
     "metadata": {},
     "output_type": "execute_result"
    }
   ],
   "source": [
    "correlacoes = df.corr(method='spearman')\n",
    "correlacoes"
   ]
  },
  {
   "cell_type": "markdown",
   "id": "0486fb80-392c-4607-bd4f-e073fcfb97d2",
   "metadata": {},
   "source": [
    "### Separar os Dados do Target e vizualizar as respetivas dimensões"
   ]
  },
  {
   "cell_type": "code",
   "execution_count": 4,
   "id": "27150c57-fecd-46a9-9284-5fe9ce1214f9",
   "metadata": {},
   "outputs": [
    {
     "data": {
      "text/plain": [
       "((1000, 8), (1000,))"
      ]
     },
     "execution_count": 4,
     "metadata": {},
     "output_type": "execute_result"
    }
   ],
   "source": [
    "X = df.iloc[:1000, :-1].values\n",
    "Y = df.iloc[:1000, -1].values\n",
    "\n",
    "X.shape, Y.shape"
   ]
  },
  {
   "cell_type": "markdown",
   "id": "bf1e9827-f005-40ad-bf7a-24bf1b696a26",
   "metadata": {},
   "source": [
    "### Treinar Modelo de Regressão Linear com Cross Validation"
   ]
  },
  {
   "cell_type": "code",
   "execution_count": 5,
   "id": "7a78f9b2-f8af-4792-8104-5815c2ee8145",
   "metadata": {},
   "outputs": [],
   "source": [
    "from sklearn.model_selection import cross_val_score, KFold\n",
    "from sklearn.linear_model import LinearRegression\n",
    "import numpy as np\n",
    "\n",
    "linear_regression = LinearRegression()\n",
    "scores = cross_val_score(linear_regression, X, Y, cv=5)"
   ]
  },
  {
   "cell_type": "markdown",
   "id": "1695bcf9-e87c-435c-88f0-3c40f0f8b838",
   "metadata": {},
   "source": [
    "##### Métricas Obtidas"
   ]
  },
  {
   "cell_type": "code",
   "execution_count": 6,
   "id": "828092d9-ec80-4aff-a10e-fb9df9fa2d4c",
   "metadata": {},
   "outputs": [
    {
     "name": "stdout",
     "output_type": "stream",
     "text": [
      "Valores de R^2 para cada iteração: [0.65085152 0.14866723 0.27853963 0.32934572 0.29032607]\n",
      "Média dos resultados obtidos: 0.3395460339939757\n"
     ]
    }
   ],
   "source": [
    "print(\"Valores de R^2 para cada iteração:\", scores)\n",
    "print(\"Média dos resultados obtidos:\", np.mean(scores))"
   ]
  },
  {
   "cell_type": "markdown",
   "id": "6df6107f-f9b0-420b-a011-549ac91b0b4a",
   "metadata": {},
   "source": [
    "### Treinar Modelo de SVR com Cross Validation"
   ]
  },
  {
   "cell_type": "code",
   "execution_count": 7,
   "id": "8ec21712-9316-4d6e-b59f-a40166dcfe20",
   "metadata": {},
   "outputs": [],
   "source": [
    "from sklearn.preprocessing import StandardScaler\n",
    "from sklearn.svm import SVR\n",
    "\n",
    "# 2. Normalizar os dados utilizando um pipeline\n",
    "modelSVR = SVR(kernel='linear')\n",
    "\n",
    "scores = cross_val_score(modelSVR, X, Y, cv=5, scoring='neg_mean_squared_error')"
   ]
  },
  {
   "cell_type": "code",
   "execution_count": null,
   "id": "bfb01bab-116b-4436-8dcc-3f380612ec35",
   "metadata": {},
   "outputs": [],
   "source": [
    "print(scores)\n",
    "\n",
    "# 4. Converter os scores para valores positivos e calcular a média\n",
    "mse_scores = -scores\n",
    "print(\"Erro Quadrático Médio em cada fold:\", mse_scores)\n",
    "print(\"Erro Quadrático Médio médio:\", np.mean(mse_scores))"
   ]
  },
  {
   "cell_type": "markdown",
   "id": "8114b770-315e-4468-8737-7d9d33f6e76e",
   "metadata": {},
   "source": [
    "### Treinar Regressão de Ridge e Lasso com Cross Validation"
   ]
  },
  {
   "cell_type": "code",
   "execution_count": null,
   "id": "79afdc8c-048e-48f5-a795-1dee16bdaa6d",
   "metadata": {},
   "outputs": [],
   "source": [
    "from sklearn.linear_model import LassoCV, RidgeCV\n",
    "\n",
    "modelR = RidgeCV()\n",
    "modelR.fit(X, Y)\n",
    "\n",
    "modelL = LassoCV()\n",
    "modelL.fit(X, Y)\n",
    "\n",
    "print(\"Modelo Ridge:\")\n",
    "print(\"Coeficientes:\", modelR.coef_)\n",
    "print(\"Interceção:\", modelR.intercept_)\n",
    "print(\"Alpha:\", modelR.alpha_)\n",
    "\n",
    "print()\n",
    "\n",
    "print(\"Modelo Lasso:\")\n",
    "print(\"Coeficientes:\", modelL.coef_)\n",
    "print(\"Interceção:\", modelL.intercept_)\n",
    "print(\"Alpha:\", modelL.alpha_)"
   ]
  },
  {
   "cell_type": "markdown",
   "id": "8d56f036-3261-4b75-a30f-a72fd84430ce",
   "metadata": {},
   "source": [
    "### Fazer Previsões"
   ]
  },
  {
   "cell_type": "code",
   "execution_count": null,
   "id": "733940db-479f-4c6b-a208-1b36ca82256b",
   "metadata": {},
   "outputs": [],
   "source": [
    "previsaoRidge = modelR.predict(X)\n",
    "previsaoLasso = modelL.predict(X)"
   ]
  },
  {
   "cell_type": "markdown",
   "id": "6622cd84-8386-4e0f-835b-f4c7cefbecfb",
   "metadata": {},
   "source": [
    "### Métricas de desempenho"
   ]
  },
  {
   "cell_type": "code",
   "execution_count": null,
   "id": "e7bc3855-1439-4883-8ecf-64b235c04312",
   "metadata": {},
   "outputs": [],
   "source": [
    "from sklearn.metrics import mean_absolute_error, mean_squared_error, r2_score\n",
    "\n",
    "print(\"REGRESSÃO DE RIDGE\")\n",
    "# Erro médio absoluto\n",
    "print(\"Erro médio absoluto:\", mean_absolute_error(Y, previsaoRidge))\n",
    "# Erro quadrático médio\n",
    "print(\"Erro quadrático médio:\", mean_squared_error(Y, previsaoRidge))\n",
    "# Raiz do erro quadrático médio\n",
    "print(\"Raiz do erro quadrático médio:\", np.sqrt(mean_squared_error(Y, previsaoRidge)))\n",
    "\n",
    "print()\n",
    "\n",
    "print(\"REGRESSÃO DE LASSO\")\n",
    "# Erro médio absoluto\n",
    "print(\"Erro médio absoluto:\", mean_absolute_error(Y, previsaoLasso))\n",
    "# Erro quadrático médio\n",
    "print(\"Erro quadrático médio:\", mean_squared_error(Y, previsaoLasso))\n",
    "# Raiz do erro quadrático médio\n",
    "print(\"Raiz do erro quadrático médio:\", np.sqrt(mean_squared_error(Y, previsaoLasso)))"
   ]
  }
 ],
 "metadata": {
  "kernelspec": {
   "display_name": "Python 3 (ipykernel)",
   "language": "python",
   "name": "python3"
  },
  "language_info": {
   "codemirror_mode": {
    "name": "ipython",
    "version": 3
   },
   "file_extension": ".py",
   "mimetype": "text/x-python",
   "name": "python",
   "nbconvert_exporter": "python",
   "pygments_lexer": "ipython3",
   "version": "3.12.3"
  }
 },
 "nbformat": 4,
 "nbformat_minor": 5
}
