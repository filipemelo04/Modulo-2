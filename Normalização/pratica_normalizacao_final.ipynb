{
 "cells": [
  {
   "cell_type": "markdown",
   "id": "c146c322-4041-47a4-b77c-2dd205cdda0c",
   "metadata": {},
   "source": [
    "## Função da Equação Normal"
   ]
  },
  {
   "cell_type": "markdown",
   "id": "a2c4d025-1c39-482e-ba5a-8415a79722f9",
   "metadata": {},
   "source": [
    "## Importar do Dataset"
   ]
  },
  {
   "cell_type": "code",
   "execution_count": 1,
   "id": "520ca7a9-8a39-41bb-b7f9-c0d849076501",
   "metadata": {},
   "outputs": [
    {
     "name": "stdout",
     "output_type": "stream",
     "text": [
      ".. _california_housing_dataset:\n",
      "\n",
      "California Housing dataset\n",
      "--------------------------\n",
      "\n",
      "**Data Set Characteristics:**\n",
      "\n",
      ":Number of Instances: 20640\n",
      "\n",
      ":Number of Attributes: 8 numeric, predictive attributes and the target\n",
      "\n",
      ":Attribute Information:\n",
      "    - MedInc        median income in block group\n",
      "    - HouseAge      median house age in block group\n",
      "    - AveRooms      average number of rooms per household\n",
      "    - AveBedrms     average number of bedrooms per household\n",
      "    - Population    block group population\n",
      "    - AveOccup      average number of household members\n",
      "    - Latitude      block group latitude\n",
      "    - Longitude     block group longitude\n",
      "\n",
      ":Missing Attribute Values: None\n",
      "\n",
      "This dataset was obtained from the StatLib repository.\n",
      "https://www.dcc.fc.up.pt/~ltorgo/Regression/cal_housing.html\n",
      "\n",
      "The target variable is the median house value for California districts,\n",
      "expressed in hundreds of thousands of dollars ($100,000).\n",
      "\n",
      "This dataset was derived from the 1990 U.S. census, using one row per census\n",
      "block group. A block group is the smallest geographical unit for which the U.S.\n",
      "Census Bureau publishes sample data (a block group typically has a population\n",
      "of 600 to 3,000 people).\n",
      "\n",
      "A household is a group of people residing within a home. Since the average\n",
      "number of rooms and bedrooms in this dataset are provided per household, these\n",
      "columns may take surprisingly large values for block groups with few households\n",
      "and many empty houses, such as vacation resorts.\n",
      "\n",
      "It can be downloaded/loaded using the\n",
      ":func:`sklearn.datasets.fetch_california_housing` function.\n",
      "\n",
      ".. topic:: References\n",
      "\n",
      "    - Pace, R. Kelley and Ronald Barry, Sparse Spatial Autoregressions,\n",
      "      Statistics and Probability Letters, 33 (1997) 291-297\n",
      "\n"
     ]
    }
   ],
   "source": [
    "import matplotlib.pyplot as plt\n",
    "from sklearn.datasets import fetch_california_housing\n",
    "from sklearn.linear_model import LinearRegression\n",
    "import numpy as np\n",
    "import matplotlib.pyplot as plt\n",
    "import pandas as pd\n",
    "\n",
    "data = fetch_california_housing()\n",
    "print(data.DESCR)       # Informção do dataset "
   ]
  },
  {
   "cell_type": "markdown",
   "id": "29eef87a-043d-41f2-be3e-f72c1162e64d",
   "metadata": {},
   "source": [
    "## Dividir Dataset em X e Y"
   ]
  },
  {
   "cell_type": "code",
   "execution_count": 2,
   "id": "da2756fa-2d27-4e10-9913-a7cb7b22828c",
   "metadata": {},
   "outputs": [
    {
     "name": "stdout",
     "output_type": "stream",
     "text": [
      "Dimensão dos Dados de X: 20640 x 8\n",
      "Dimensão dos Dados de Y: 20640\n",
      "X [[ 8.32520000e+00  4.10000000e+01  6.98412698e+00  1.02380952e+00\n",
      "   3.22000000e+02  2.55555556e+00  3.78800000e+01 -1.22230000e+02]\n",
      " [ 8.30140000e+00  2.10000000e+01  6.23813708e+00  9.71880492e-01\n",
      "   2.40100000e+03  2.10984183e+00  3.78600000e+01 -1.22220000e+02]\n",
      " [ 7.25740000e+00  5.20000000e+01  8.28813559e+00  1.07344633e+00\n",
      "   4.96000000e+02  2.80225989e+00  3.78500000e+01 -1.22240000e+02]\n",
      " [ 5.64310000e+00  5.20000000e+01  5.81735160e+00  1.07305936e+00\n",
      "   5.58000000e+02  2.54794521e+00  3.78500000e+01 -1.22250000e+02]\n",
      " [ 3.84620000e+00  5.20000000e+01  6.28185328e+00  1.08108108e+00\n",
      "   5.65000000e+02  2.18146718e+00  3.78500000e+01 -1.22250000e+02]\n",
      " [ 4.03680000e+00  5.20000000e+01  4.76165803e+00  1.10362694e+00\n",
      "   4.13000000e+02  2.13989637e+00  3.78500000e+01 -1.22250000e+02]\n",
      " [ 3.65910000e+00  5.20000000e+01  4.93190661e+00  9.51361868e-01\n",
      "   1.09400000e+03  2.12840467e+00  3.78400000e+01 -1.22250000e+02]\n",
      " [ 3.12000000e+00  5.20000000e+01  4.79752705e+00  1.06182380e+00\n",
      "   1.15700000e+03  1.78825348e+00  3.78400000e+01 -1.22250000e+02]\n",
      " [ 2.08040000e+00  4.20000000e+01  4.29411765e+00  1.11764706e+00\n",
      "   1.20600000e+03  2.02689076e+00  3.78400000e+01 -1.22260000e+02]\n",
      " [ 3.69120000e+00  5.20000000e+01  4.97058824e+00  9.90196078e-01\n",
      "   1.55100000e+03  2.17226891e+00  3.78400000e+01 -1.22250000e+02]]\n",
      "Y [4.526 3.585 3.521 3.413 3.422 2.697 2.992 2.414 2.267 2.611]\n"
     ]
    }
   ],
   "source": [
    "# Definir X como as características \n",
    "X = data.data  \n",
    "\n",
    "# Definir Y como o target \n",
    "Y = data.target  \n",
    "\n",
    "print(\"Dimensão dos Dados de X:\", len(X), \"x\", len(X[0]))\n",
    "print(\"Dimensão dos Dados de Y:\", len(X))\n",
    "\n",
    "print(\"X\", X[:10])\n",
    "print(\"Y\", Y[:10])"
   ]
  },
  {
   "cell_type": "markdown",
   "id": "e74508c6-3c33-451d-be67-f61238306589",
   "metadata": {},
   "source": [
    "## Treinar o modelo de regressão linear com Scikit Learn"
   ]
  },
  {
   "cell_type": "code",
   "execution_count": 4,
   "id": "b5c46042-62f6-42fe-bb86-18d05f3e3e0b",
   "metadata": {},
   "outputs": [
    {
     "name": "stdout",
     "output_type": "stream",
     "text": [
      "            Coeficiente\n",
      "MedInc         0.436693\n",
      "HouseAge       0.009436\n",
      "AveRooms      -0.107322\n",
      "AveBedrms      0.645066\n",
      "Population    -0.000004\n",
      "AveOccup      -0.003787\n",
      "Latitude      -0.421314\n",
      "Longitude     -0.434514\n",
      "\n",
      "Coeficientes: [ 4.36693293e-01  9.43577803e-03 -1.07322041e-01  6.45065694e-01\n",
      " -3.97638942e-06 -3.78654265e-03 -4.21314378e-01 -4.34513755e-01]\n",
      "Interceção: -36.941920207184516\n",
      "R^2 treino: 0.6062326851998051\n"
     ]
    }
   ],
   "source": [
    "# Criar e treinar o modelo de regressão linear com Scikit Learn\n",
    "reg_linear = LinearRegression()\n",
    "reg_linear.fit(X, Y)\n",
    "\n",
    "# Obter os coeficientes\n",
    "coeficientes = pd.DataFrame(reg_linear.coef_, index=data.feature_names, columns=['Coeficiente'])\n",
    "\n",
    "# Exibir os coeficientes\n",
    "print(coeficientes)\n",
    "coeficientes = np.array(reg_linear.coef_)\n",
    "print(\"\\nCoeficientes:\", coeficientes)\n",
    "\n",
    "# Exibir interceção\n",
    "intercept = reg_linear.intercept_ \n",
    "print(\"Interceção:\", intercept)\n",
    "\n",
    "# Exibir R^2\n",
    "print(\"R^2 treino:\", reg_linear.score(X, Y))"
   ]
  },
  {
   "cell_type": "markdown",
   "id": "82c67859-b749-4dbe-a70b-c00f7b1d4954",
   "metadata": {},
   "source": [
    "## Calcular Y_prev "
   ]
  },
  {
   "cell_type": "code",
   "execution_count": 5,
   "id": "7ec627f2-310f-4788-8622-fce252af2538",
   "metadata": {},
   "outputs": [],
   "source": [
    "y_prev = reg_linear.predict(X)"
   ]
  },
  {
   "cell_type": "markdown",
   "id": "fc0c4c00-1dbf-4da3-9649-5840bf016e75",
   "metadata": {},
   "source": [
    "## Representar o Y Real e Y Previsto"
   ]
  },
  {
   "cell_type": "code",
   "execution_count": 6,
   "id": "a3b626ba-2e85-4bf5-a9eb-5781f257744a",
   "metadata": {},
   "outputs": [
    {
     "name": "stdout",
     "output_type": "stream",
     "text": [
      "Y Real [4.526 3.585 3.521 3.413 3.422 2.697 2.992 2.414 2.267 2.611]\n",
      "20640\n",
      "\n",
      "Y previsto: [4.13164983 3.97660644 3.67657094 3.2415985  2.41358744 2.67527702\n",
      " 2.39539429 2.24668752 1.79162667 2.42832807]\n"
     ]
    }
   ],
   "source": [
    "# Y_REAL\n",
    "print(\"Y Real\", Y[:10])\n",
    "print(len(Y))\n",
    "\n",
    "print()\n",
    "\n",
    "# Y_PREV_SCIKIT\n",
    "print(\"Y previsto:\", y_prev[:10])"
   ]
  },
  {
   "cell_type": "markdown",
   "id": "4af703e1-5f88-412d-a572-651c0a3dfb2c",
   "metadata": {},
   "source": [
    "## Calcular Residuos e represent-los num gráfico"
   ]
  },
  {
   "cell_type": "code",
   "execution_count": 7,
   "id": "41235bb2-471a-4896-a6b4-2560ca8117e7",
   "metadata": {},
   "outputs": [
    {
     "data": {
      "image/png": "[encoded data removed]",
      "text/plain": [
       "<Figure size 640x480 with 1 Axes>"
      ]
     },
     "metadata": {},
     "output_type": "display_data"
    }
   ],
   "source": [
    "# RESIDUOS GERADOS COM SCIKIT\n",
    "residuos = y_prev - Y\n",
    "\n",
    "plt.figure()\n",
    "\n",
    "plt.plot(range(len(residuos)), residuos, label=\"Residuos\", color=\"b\")\n",
    "\n",
    "plt.title(\"GRAFICO DE RESIDUOS GERADOS COM SCIKIT E QUAÇÃO NORMAL\")\n",
    "plt.legend()\n",
    "\n",
    "plt.show()"
   ]
  },
  {
   "cell_type": "markdown",
   "id": "29a05b4c-3906-4ccb-811a-fc01753b133b",
   "metadata": {},
   "source": [
    "## Métricas de desempenho"
   ]
  },
  {
   "cell_type": "code",
   "execution_count": 8,
   "id": "348860f0-d6a2-4bd8-84a1-f1089dbc00f0",
   "metadata": {},
   "outputs": [
    {
     "name": "stdout",
     "output_type": "stream",
     "text": [
      "Erro médio absoluto: 0.53116\n",
      "Erro quadrático médio: 0.52432\n",
      "Raiz do erro quadrático médio: 0.7241\n",
      "R^2: 0.60623\n"
     ]
    }
   ],
   "source": [
    "from sklearn.metrics import mean_absolute_error, mean_squared_error, r2_score\n",
    "# Erro médio absoluto\n",
    "print(\"Erro médio absoluto:\", round(mean_absolute_error(Y, y_prev), 5))\n",
    "# Erro quadrático médio\n",
    "print(\"Erro quadrático médio:\", round(mean_squared_error(Y, y_prev), 5))\n",
    "# Raiz do erro quadrático médio\n",
    "print(\"Raiz do erro quadrático médio:\", round(np.sqrt(mean_squared_error(Y, y_prev)), 5))\n",
    "# R^2 \n",
    "print(\"R^2:\", round(r2_score(Y, y_prev), 5))"
   ]
  },
  {
   "cell_type": "markdown",
   "id": "9834dc9f-da92-4584-9e0e-82b9c718c2c8",
   "metadata": {},
   "source": [
    "## Normalizar dados "
   ]
  },
  {
   "cell_type": "code",
   "execution_count": 16,
   "id": "c7fa5738-37f8-4ad8-9bdb-1926b4b022b5",
   "metadata": {},
   "outputs": [
    {
     "name": "stdout",
     "output_type": "stream",
     "text": [
      "X Inicial: [[ 8.32520000e+00  4.10000000e+01  6.98412698e+00  1.02380952e+00\n",
      "   3.22000000e+02  2.55555556e+00  3.78800000e+01 -1.22230000e+02]\n",
      " [ 8.30140000e+00  2.10000000e+01  6.23813708e+00  9.71880492e-01\n",
      "   2.40100000e+03  2.10984183e+00  3.78600000e+01 -1.22220000e+02]\n",
      " [ 7.25740000e+00  5.20000000e+01  8.28813559e+00  1.07344633e+00\n",
      "   4.96000000e+02  2.80225989e+00  3.78500000e+01 -1.22240000e+02]]\n",
      "X Normalizado: [[0.53966842 0.78431373 0.0435123  0.02046866 0.00894083 0.00149943\n",
      "  0.5674814  0.21115538]\n",
      " [0.53802706 0.39215686 0.03822395 0.01892926 0.0672104  0.00114074\n",
      "  0.565356   0.21215139]\n",
      " [0.46602805 1.         0.05275646 0.02194011 0.01381765 0.00169796\n",
      "  0.5642933  0.21015936]]\n"
     ]
    }
   ],
   "source": [
    "from sklearn.preprocessing import MinMaxScaler\n",
    "\n",
    "print(\"X Inicial:\", X[:3])\n",
    "scaler = MinMaxScaler().fit(X)\n",
    "X_Scaled = scaler.transform(X)\n",
    "print(\"X Normalizado:\", X_Scaled[:3])"
   ]
  },
  {
   "cell_type": "markdown",
   "id": "d303cb1d-0658-4745-abf3-c20e77d45ada",
   "metadata": {},
   "source": [
    "## Treinar os dados normalizados"
   ]
  },
  {
   "cell_type": "code",
   "execution_count": 17,
   "id": "9f3fb957-98c3-4e33-927f-02c18f72c263",
   "metadata": {},
   "outputs": [
    {
     "name": "stdout",
     "output_type": "stream",
     "text": [
      "            Coeficiente\n",
      "MedInc         6.332140\n",
      "HouseAge       0.481225\n",
      "AveRooms     -15.139162\n",
      "AveBedrms     21.760216\n",
      "Population    -0.141874\n",
      "AveOccup      -4.705313\n",
      "Latitude      -3.964568\n",
      "Longitude     -4.362518\n",
      "\n",
      "Coeficientes: [  6.33214009   0.48122468 -15.13916237  21.76021606  -0.1418736\n",
      "  -4.70531325  -3.96456829  -4.3625181 ]\n",
      "Interceção: 3.729611655126398\n",
      "R^2 treino: 0.6062326851998052\n"
     ]
    }
   ],
   "source": [
    "# Criar e treinar o modelo de regressão linear com Scikit Learn\n",
    "reg_linear_Scaled = LinearRegression()\n",
    "reg_linear_Scaled.fit(X_Scaled, Y)\n",
    "\n",
    "# Obter os coeficientes\n",
    "coeficientes_sclaled = pd.DataFrame(reg_linear_Scaled.coef_, index=data.feature_names, columns=['Coeficiente'])\n",
    "\n",
    "# Exibir os coeficientes dos dados normalizados\n",
    "print(coeficientes_sclaled)\n",
    "coeficientes_sclaled = np.array(reg_linear_Scaled.coef_)\n",
    "print(\"\\nCoeficientes:\", coeficientes_sclaled)\n",
    "\n",
    "# Exibir interceção\n",
    "intercept = reg_linear_Scaled.intercept_ \n",
    "print(\"Interceção:\", intercept)\n",
    "\n",
    "# Exibir R^2\n",
    "print(\"R^2 treino:\", reg_linear_Scaled.score(X_Scaled, Y))"
   ]
  },
  {
   "cell_type": "markdown",
   "id": "705a427d-d1de-4dd6-b634-54154ae5acef",
   "metadata": {},
   "source": [
    "## Calcular Y_prev_Scaled"
   ]
  },
  {
   "cell_type": "code",
   "execution_count": 18,
   "id": "5d27e2ae-817e-41ed-b79c-14be0f0c5f81",
   "metadata": {},
   "outputs": [],
   "source": [
    "y_prev_scaled = reg_linear_Scaled.predict(X_Scaled)"
   ]
  },
  {
   "cell_type": "markdown",
   "id": "6a012d58-9c72-4a20-a69d-100cfb66dc8d",
   "metadata": {},
   "source": [
    "## Calcular Residuos dos dados normalizados e represent-los num gráfico"
   ]
  },
  {
   "cell_type": "code",
   "execution_count": 47,
   "id": "8f1bc7e8-319a-4e24-895a-49251fa38d89",
   "metadata": {},
   "outputs": [
    {
     "data": {
      "image/png": "[encoded data removed]",
      "text/plain": [
       "<Figure size 640x480 with 1 Axes>"
      ]
     },
     "metadata": {},
     "output_type": "display_data"
    }
   ],
   "source": [
    "# RESIDUOS GERADOS COM SCIKIT\n",
    "residuos_scaled = y_prev_scaled - Y\n",
    "\n",
    "plt.figure()\n",
    "\n",
    "plt.plot(range(len(residuos_scaled)), residuos_scaled, label=\"Residuoss\", color=\"b\")\n",
    "\n",
    "plt.title(\"GRAFICO DE RESIDUOS GERADOS COM DADOS NORMALIZADOS\")\n",
    "plt.legend()\n",
    "\n",
    "plt.show()"
   ]
  },
  {
   "cell_type": "markdown",
   "id": "c1fcf44d-6b24-49fc-8ec1-0b03f473813f",
   "metadata": {},
   "source": [
    "## Metricas de desempenho dos dados normalizados"
   ]
  },
  {
   "cell_type": "code",
   "execution_count": 48,
   "id": "77989c49-5229-4249-8283-d29660225b09",
   "metadata": {},
   "outputs": [
    {
     "name": "stdout",
     "output_type": "stream",
     "text": [
      "Erro médio absoluto: 0.53116\n",
      "Erro quadrático médio: 0.52432\n",
      "Raiz do erro quadrático médio: 0.7241\n",
      "R^2: 0.60623\n"
     ]
    }
   ],
   "source": [
    "from sklearn.metrics import mean_absolute_error, mean_squared_error, r2_score\n",
    "# Erro médio absoluto\n",
    "print(\"Erro médio absoluto:\", round(mean_absolute_error(Y, y_prev_scaled), 5))\n",
    "# Erro quadrático médio\n",
    "print(\"Erro quadrático médio:\", round(mean_squared_error(Y, y_prev_scaled), 5))\n",
    "# Raiz do erro quadrático médio\n",
    "print(\"Raiz do erro quadrático médio:\", round(np.sqrt(mean_squared_error(Y, y_prev_scaled)), 5))\n",
    "# R^2 \n",
    "print(\"R^2:\", round(r2_score(Y, y_prev_scaled), 5))"
   ]
  }
 ],
 "metadata": {
  "kernelspec": {
   "display_name": "Python 3 (ipykernel)",
   "language": "python",
   "name": "python3"
  },
  "language_info": {
   "codemirror_mode": {
    "name": "ipython",
    "version": 3
   },
   "file_extension": ".py",
   "mimetype": "text/x-python",
   "name": "python",
   "nbconvert_exporter": "python",
   "pygments_lexer": "ipython3",
   "version": "3.12.3"
  }
 },
 "nbformat": 4,
 "nbformat_minor": 5
}
