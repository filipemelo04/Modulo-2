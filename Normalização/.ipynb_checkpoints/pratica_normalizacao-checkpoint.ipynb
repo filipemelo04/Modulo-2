{
 "cells": [
  {
   "cell_type": "markdown",
   "id": "c146c322-4041-47a4-b77c-2dd205cdda0c",
   "metadata": {},
   "source": [
    "## Função da Equação Normal"
   ]
  },
  {
   "cell_type": "code",
   "execution_count": 99,
   "id": "cbda7102-8f43-4c59-ba50-f432cc42d0af",
   "metadata": {},
   "outputs": [],
   "source": [
    "def normal_equation(x, y):\n",
    "    \"\"\" Calcular o theta ótimo usando a equação normal para regressão linear multivariável\n",
    "    \n",
    "    Argumentos posicionais:\n",
    "    x -- array 2D de Numpy com os valores das variáveis independentes dos exemplos, de tamanho m x n \n",
    "    y -- array 1D Numpy com a variável dependente/objetivo, de tamanho m x 1\n",
    "    \n",
    "    Devolver:\n",
    "    theta -- array 1D Numpy com os pesos dos coeficientes do modelo, de tamanho 1 x n (vetor fila) \"\"\"\n",
    "    \n",
    "    a = np.linalg.inv(np.dot(X.T, X))\n",
    "    b = np.dot(X.T, y)\n",
    "\n",
    "    theta = np.dot(a, b)\n",
    "    \n",
    "    return theta"
   ]
  },
  {
   "cell_type": "markdown",
   "id": "a2c4d025-1c39-482e-ba5a-8415a79722f9",
   "metadata": {},
   "source": [
    "## Importar do Dataset"
   ]
  },
  {
   "cell_type": "code",
   "execution_count": 100,
   "id": "520ca7a9-8a39-41bb-b7f9-c0d849076501",
   "metadata": {},
   "outputs": [
    {
     "name": "stdout",
     "output_type": "stream",
     "text": [
      ".. _california_housing_dataset:\n",
      "\n",
      "California Housing dataset\n",
      "--------------------------\n",
      "\n",
      "**Data Set Characteristics:**\n",
      "\n",
      ":Number of Instances: 20640\n",
      "\n",
      ":Number of Attributes: 8 numeric, predictive attributes and the target\n",
      "\n",
      ":Attribute Information:\n",
      "    - MedInc        median income in block group\n",
      "    - HouseAge      median house age in block group\n",
      "    - AveRooms      average number of rooms per household\n",
      "    - AveBedrms     average number of bedrooms per household\n",
      "    - Population    block group population\n",
      "    - AveOccup      average number of household members\n",
      "    - Latitude      block group latitude\n",
      "    - Longitude     block group longitude\n",
      "\n",
      ":Missing Attribute Values: None\n",
      "\n",
      "This dataset was obtained from the StatLib repository.\n",
      "https://www.dcc.fc.up.pt/~ltorgo/Regression/cal_housing.html\n",
      "\n",
      "The target variable is the median house value for California districts,\n",
      "expressed in hundreds of thousands of dollars ($100,000).\n",
      "\n",
      "This dataset was derived from the 1990 U.S. census, using one row per census\n",
      "block group. A block group is the smallest geographical unit for which the U.S.\n",
      "Census Bureau publishes sample data (a block group typically has a population\n",
      "of 600 to 3,000 people).\n",
      "\n",
      "A household is a group of people residing within a home. Since the average\n",
      "number of rooms and bedrooms in this dataset are provided per household, these\n",
      "columns may take surprisingly large values for block groups with few households\n",
      "and many empty houses, such as vacation resorts.\n",
      "\n",
      "It can be downloaded/loaded using the\n",
      ":func:`sklearn.datasets.fetch_california_housing` function.\n",
      "\n",
      ".. topic:: References\n",
      "\n",
      "    - Pace, R. Kelley and Ronald Barry, Sparse Spatial Autoregressions,\n",
      "      Statistics and Probability Letters, 33 (1997) 291-297\n",
      "\n"
     ]
    }
   ],
   "source": [
    "import matplotlib.pyplot as plt\n",
    "from sklearn.datasets import fetch_california_housing\n",
    "from sklearn.linear_model import LinearRegression\n",
    "import numpy as np\n",
    "import matplotlib.pyplot as plt\n",
    "\n",
    "data = fetch_california_housing()\n",
    "print(data.DESCR)       # Informção do dataset "
   ]
  },
  {
   "cell_type": "markdown",
   "id": "29eef87a-043d-41f2-be3e-f72c1162e64d",
   "metadata": {},
   "source": [
    "## Dividir Dataset em X e Y"
   ]
  },
  {
   "cell_type": "code",
   "execution_count": 101,
   "id": "da2756fa-2d27-4e10-9913-a7cb7b22828c",
   "metadata": {},
   "outputs": [
    {
     "name": "stdout",
     "output_type": "stream",
     "text": [
      "Dimensão dos Dados: 20640 x 8\n",
      "X [[ 8.32520000e+00  4.10000000e+01  6.98412698e+00  1.02380952e+00\n",
      "   3.22000000e+02  2.55555556e+00  3.78800000e+01 -1.22230000e+02]\n",
      " [ 8.30140000e+00  2.10000000e+01  6.23813708e+00  9.71880492e-01\n",
      "   2.40100000e+03  2.10984183e+00  3.78600000e+01 -1.22220000e+02]\n",
      " [ 7.25740000e+00  5.20000000e+01  8.28813559e+00  1.07344633e+00\n",
      "   4.96000000e+02  2.80225989e+00  3.78500000e+01 -1.22240000e+02]\n",
      " [ 5.64310000e+00  5.20000000e+01  5.81735160e+00  1.07305936e+00\n",
      "   5.58000000e+02  2.54794521e+00  3.78500000e+01 -1.22250000e+02]\n",
      " [ 3.84620000e+00  5.20000000e+01  6.28185328e+00  1.08108108e+00\n",
      "   5.65000000e+02  2.18146718e+00  3.78500000e+01 -1.22250000e+02]\n",
      " [ 4.03680000e+00  5.20000000e+01  4.76165803e+00  1.10362694e+00\n",
      "   4.13000000e+02  2.13989637e+00  3.78500000e+01 -1.22250000e+02]\n",
      " [ 3.65910000e+00  5.20000000e+01  4.93190661e+00  9.51361868e-01\n",
      "   1.09400000e+03  2.12840467e+00  3.78400000e+01 -1.22250000e+02]\n",
      " [ 3.12000000e+00  5.20000000e+01  4.79752705e+00  1.06182380e+00\n",
      "   1.15700000e+03  1.78825348e+00  3.78400000e+01 -1.22250000e+02]\n",
      " [ 2.08040000e+00  4.20000000e+01  4.29411765e+00  1.11764706e+00\n",
      "   1.20600000e+03  2.02689076e+00  3.78400000e+01 -1.22260000e+02]\n",
      " [ 3.69120000e+00  5.20000000e+01  4.97058824e+00  9.90196078e-01\n",
      "   1.55100000e+03  2.17226891e+00  3.78400000e+01 -1.22250000e+02]]\n",
      "Y [4.526 3.585 3.521 3.413 3.422 2.697 2.992 2.414 2.267 2.611]\n"
     ]
    }
   ],
   "source": [
    "# Definir X como as características \n",
    "X = data.data  \n",
    "\n",
    "# Definir Y como o target \n",
    "Y = data.target  \n",
    "\n",
    "print(\"Dimensão dos Dados:\", len(X), \"x\", len(X[0]))\n",
    "\n",
    "print(\"X\", X[:10])\n",
    "print(\"Y\", Y[:10])"
   ]
  },
  {
   "cell_type": "markdown",
   "id": "e74508c6-3c33-451d-be67-f61238306589",
   "metadata": {},
   "source": [
    "## Treinar o modelo de regressão linear com Scikit Learn"
   ]
  },
  {
   "cell_type": "code",
   "execution_count": 102,
   "id": "b5c46042-62f6-42fe-bb86-18d05f3e3e0b",
   "metadata": {},
   "outputs": [
    {
     "name": "stdout",
     "output_type": "stream",
     "text": [
      "            Coeficiente\n",
      "MedInc         0.436693\n",
      "HouseAge       0.009436\n",
      "AveRooms      -0.107322\n",
      "AveBedrms      0.645066\n",
      "Population    -0.000004\n",
      "AveOccup      -0.003787\n",
      "Latitude      -0.421314\n",
      "Longitude     -0.434514\n",
      "Coeficientes: [ 4.36693293e-01  9.43577803e-03 -1.07322041e-01  6.45065694e-01\n",
      " -3.97638942e-06 -3.78654265e-03 -4.21314378e-01 -4.34513755e-01]\n",
      "Interceção: -36.941920207184516\n"
     ]
    }
   ],
   "source": [
    "# Criar e treinar o modelo de regressão linear com Scikit Learn\n",
    "model = LinearRegression()\n",
    "model.fit(X, Y)\n",
    "\n",
    "# Obter os coeficientes\n",
    "coeficientes = pd.DataFrame(model.coef_, index=data.feature_names, columns=['Coeficiente'])\n",
    "\n",
    "# Exibir os coeficientes\n",
    "print(coeficientes)\n",
    "coeficientes = np.array(model.coef_)\n",
    "print(\"Coeficientes:\", coeficientes)\n",
    "\n",
    "# Exibir interceção\n",
    "intercept = model.intercept_ \n",
    "print(\"Interceção:\", intercept)"
   ]
  },
  {
   "cell_type": "markdown",
   "id": "7775cfbf-19fd-4d26-8a8b-14e6c759e363",
   "metadata": {},
   "source": [
    "## Treinar o modelo de regressão linear com Equação Normal"
   ]
  },
  {
   "cell_type": "code",
   "execution_count": 103,
   "id": "6f1e8a60-ba5f-4312-bce4-20dcb7f7b136",
   "metadata": {},
   "outputs": [
    {
     "name": "stdout",
     "output_type": "stream",
     "text": [
      "[ 5.13515163e-01  1.56511109e-02 -1.82528269e-01  8.65099057e-01\n",
      "  7.79230657e-06 -4.69928985e-03 -6.39458199e-02 -1.63827177e-02]\n"
     ]
    }
   ],
   "source": [
    "# Criar e treinar o modelo de regressão linear com Equação Normal\n",
    "theta = normal_equation(X, Y)\n",
    "print(theta)"
   ]
  },
  {
   "cell_type": "markdown",
   "id": "82c67859-b749-4dbe-a70b-c00f7b1d4954",
   "metadata": {},
   "source": [
    "## Calcular Y_prev com os coeficientes encontrados com Scikit e Eq. Normal"
   ]
  },
  {
   "cell_type": "code",
   "execution_count": 104,
   "id": "7ec627f2-310f-4788-8622-fce252af2538",
   "metadata": {},
   "outputs": [],
   "source": [
    "y_csikit = X.dot(coeficientes) + intercept\n",
    "y_en = X.dot(theta)"
   ]
  },
  {
   "cell_type": "markdown",
   "id": "fc0c4c00-1dbf-4da3-9649-5840bf016e75",
   "metadata": {},
   "source": [
    "## Representar o Y Real, Y_PREV_SCIKIT, Y_PREV_EQUAÇÃO_NORMAL"
   ]
  },
  {
   "cell_type": "code",
   "execution_count": 105,
   "id": "a3b626ba-2e85-4bf5-a9eb-5781f257744a",
   "metadata": {},
   "outputs": [
    {
     "name": "stdout",
     "output_type": "stream",
     "text": [
      "Y Real [4.526 3.585 3.521 3.413 3.422 2.697 2.992 2.414 2.267 2.611]\n",
      "20640\n",
      "\n",
      "Scikit [4.13164983 3.97660644 3.67657094 3.2415985  2.41358744 2.67527702\n",
      " 2.39539429 2.24668752 1.79162667 2.42832807]\n",
      "20640\n",
      "\n",
      "Equação Normal [4.09839978 3.88380622 3.52943155 3.15295924 2.15415547 2.54802539\n",
      " 2.19727118 2.04261313 1.49185497 2.24364492]\n",
      "20640\n"
     ]
    }
   ],
   "source": [
    "# Y_REAL\n",
    "print(\"Y Real\", Y[:10])\n",
    "print(len(Y))\n",
    "\n",
    "print()\n",
    "\n",
    "# Y_PREV_SCIKIT\n",
    "print(\"Scikit\", y_csikit[:10])\n",
    "print(len(y_csikit))\n",
    "\n",
    "print()\n",
    "\n",
    "# Y_PREV_EQUAÇÃO_NORMAL\n",
    "print(\"Equação Normal\", y_en[:10])\n",
    "print(len(y_en))"
   ]
  },
  {
   "cell_type": "markdown",
   "id": "4af703e1-5f88-412d-a572-651c0a3dfb2c",
   "metadata": {},
   "source": [
    "## Calcular Residuos e represent-los num gráfico"
   ]
  },
  {
   "cell_type": "code",
   "execution_count": 106,
   "id": "41235bb2-471a-4896-a6b4-2560ca8117e7",
   "metadata": {},
   "outputs": [
    {
     "data": {
      "image/png": "[encoded data removed]",
      "text/plain": [
       "<Figure size 600x400 with 1 Axes>"
      ]
     },
     "metadata": {},
     "output_type": "display_data"
    }
   ],
   "source": [
    "# RESIDUOS GERADOS COM SCIKIT\n",
    "res_scikit = y_csikit - Y\n",
    "# RESIDUOS GERADOS COM EQUAÇÃO NORMAL\n",
    "res_en = y_en - Y\n",
    "\n",
    "plt.figure(figsize=(6, 4))\n",
    "\n",
    "plt.plot(range(len(res_scikit)), res_scikit, label=\"Scikit\", color=\"b\")\n",
    "plt.plot(range(len(res_en)), res_en, label=\"Equação Normal\", color=\"r\")\n",
    "\n",
    "plt.title(\"GRAFICO DE RESIDUOS GERADOS COM SCIKIT E QUAÇÃO NORMAL\")\n",
    "plt.legend()\n",
    "\n",
    "plt.show()"
   ]
  },
  {
   "cell_type": "markdown",
   "id": "9834dc9f-da92-4584-9e0e-82b9c718c2c8",
   "metadata": {},
   "source": [
    "## Normalizar dados "
   ]
  },
  {
   "cell_type": "code",
   "execution_count": 107,
   "id": "c7fa5738-37f8-4ad8-9bdb-1926b4b022b5",
   "metadata": {},
   "outputs": [
    {
     "name": "stdout",
     "output_type": "stream",
     "text": [
      "X [[ 8.32520000e+00  4.10000000e+01  6.98412698e+00  1.02380952e+00\n",
      "   3.22000000e+02  2.55555556e+00  3.78800000e+01 -1.22230000e+02]\n",
      " [ 8.30140000e+00  2.10000000e+01  6.23813708e+00  9.71880492e-01\n",
      "   2.40100000e+03  2.10984183e+00  3.78600000e+01 -1.22220000e+02]\n",
      " [ 7.25740000e+00  5.20000000e+01  8.28813559e+00  1.07344633e+00\n",
      "   4.96000000e+02  2.80225989e+00  3.78500000e+01 -1.22240000e+02]]\n",
      "X Normalizado [[0.53966842 0.78431373 0.0435123  0.02046866 0.00894083 0.00149943\n",
      "  0.5674814  0.21115538]\n",
      " [0.53802706 0.39215686 0.03822395 0.01892926 0.0672104  0.00114074\n",
      "  0.565356   0.21215139]\n",
      " [0.46602805 1.         0.05275646 0.02194011 0.01381765 0.00169796\n",
      "  0.5642933  0.21015936]]\n"
     ]
    }
   ],
   "source": [
    "from sklearn.preprocessing import MinMaxScaler\n",
    "\n",
    "print(\"X\", X[:3])\n",
    "scaler = MinMaxScaler().fit(X)\n",
    "X_Scaled = scaler.transform(X)\n",
    "print(\"X Normalizado\", X_Scaled[:3])"
   ]
  },
  {
   "cell_type": "markdown",
   "id": "d303cb1d-0658-4745-abf3-c20e77d45ada",
   "metadata": {},
   "source": [
    "## Treinar os dados de novo com Scikit"
   ]
  },
  {
   "cell_type": "code",
   "execution_count": 108,
   "id": "9f3fb957-98c3-4e33-927f-02c18f72c263",
   "metadata": {},
   "outputs": [
    {
     "name": "stdout",
     "output_type": "stream",
     "text": [
      "            Coeficiente\n",
      "MedInc         6.332140\n",
      "HouseAge       0.481225\n",
      "AveRooms     -15.139162\n",
      "AveBedrms     21.760216\n",
      "Population    -0.141874\n",
      "AveOccup      -4.705313\n",
      "Latitude      -3.964568\n",
      "Longitude     -4.362518\n",
      "Novos coeficientes: [  6.33214009   0.48122468 -15.13916237  21.76021606  -0.1418736\n",
      "  -4.70531325  -3.96456829  -4.3625181 ]\n",
      "Interceção: 3.729611655126398\n"
     ]
    }
   ],
   "source": [
    "# Criar e treinar o modelo de regressão linear com Scikit Learn\n",
    "new_model = LinearRegression()\n",
    "new_model.fit(X_Scaled, Y)\n",
    "\n",
    "# Obter os coeficientes\n",
    "novos_coeficientes = pd.DataFrame(new_model.coef_, index=data.feature_names, columns=['Coeficiente'])\n",
    "print(novos_coeficientes)\n",
    "\n",
    "# Exibir os coeficientes\n",
    "novos_coeficientes = np.array(new_model.coef_)\n",
    "print(\"Novos coeficientes:\", novos_coeficientes)\n",
    "\n",
    "# Exibir interceção\n",
    "new_intercept = new_model.intercept_ \n",
    "print(\"Interceção:\", new_intercept)"
   ]
  },
  {
   "cell_type": "markdown",
   "id": "f6f0849a-e374-496b-8694-6c3ececbed1c",
   "metadata": {},
   "source": [
    "## Treinar de novo o modelo  Equação Normal"
   ]
  },
  {
   "cell_type": "code",
   "execution_count": 109,
   "id": "fc017427-5fb1-499d-a7c0-ca9c7cee9346",
   "metadata": {},
   "outputs": [
    {
     "name": "stdout",
     "output_type": "stream",
     "text": [
      "[ 5.13515163e-01  1.56511109e-02 -1.82528269e-01  8.65099057e-01\n",
      "  7.79230657e-06 -4.69928985e-03 -6.39458199e-02 -1.63827177e-02]\n"
     ]
    }
   ],
   "source": [
    "# Criar e treinar o modelo de regressão linear com Equação Normal\n",
    "new_theta = normal_equation(X_Scaled, Y)\n",
    "print(new_theta)"
   ]
  },
  {
   "cell_type": "markdown",
   "id": "705a427d-d1de-4dd6-b634-54154ae5acef",
   "metadata": {},
   "source": [
    "## Treinar de novo os dados"
   ]
  },
  {
   "cell_type": "code",
   "execution_count": 125,
   "id": "5d27e2ae-817e-41ed-b79c-14be0f0c5f81",
   "metadata": {},
   "outputs": [],
   "source": [
    "new_y_csikit = X_Scaled.dot(novos_coeficientes) + new_intercept\n",
    "new_y_en = X_Scaled.dot(new_theta) "
   ]
  },
  {
   "cell_type": "code",
   "execution_count": 126,
   "id": "8f1bc7e8-319a-4e24-895a-49251fa38d89",
   "metadata": {},
   "outputs": [
    {
     "data": {
      "image/png": "[encoded data removed]",
      "text/plain": [
       "<Figure size 600x400 with 1 Axes>"
      ]
     },
     "metadata": {},
     "output_type": "display_data"
    }
   ],
   "source": [
    "# RESIDUOS GERADOS COM SCIKIT\n",
    "new_res_scikit = new_y_csikit - Y\n",
    "# RESIDUOS GERADOS COM EQUAÇÃO NORMAL\n",
    "new_res_en = new_y_en - Y\n",
    "\n",
    "plt.figure(figsize=(6, 4))\n",
    "\n",
    "plt.plot(range(len(new_res_scikit)), new_res_scikit, label=\"Scikit\", color=\"b\")\n",
    "plt.plot(range(len(new_res_en)), new_res_en, label=\"Equação Normal\", color=\"r\")\n",
    "\n",
    "plt.title(\"GRAFICO DE RESIDUOS GERADOS COM SCIKIT E EQUAÇÃO NORMAL\")\n",
    "plt.legend()\n",
    "\n",
    "plt.show()"
   ]
  }
 ],
 "metadata": {
  "kernelspec": {
   "display_name": "Python 3 (ipykernel)",
   "language": "python",
   "name": "python3"
  },
  "language_info": {
   "codemirror_mode": {
    "name": "ipython",
    "version": 3
   },
   "file_extension": ".py",
   "mimetype": "text/x-python",
   "name": "python",
   "nbconvert_exporter": "python",
   "pygments_lexer": "ipython3",
   "version": "3.12.3"
  }
 },
 "nbformat": 4,
 "nbformat_minor": 5
}
