{
 "cells": [
  {
   "cell_type": "code",
   "execution_count": 1,
   "id": "73261fc3-aa9f-4545-aae0-ff3091cf9e95",
   "metadata": {},
   "outputs": [],
   "source": [
    "import numpy as np\n",
    "import pandas as pd\n",
    "from sklearn.model_selection import train_test_split\n",
    "from sklearn.linear_model import LinearRegression"
   ]
  },
  {
   "cell_type": "markdown",
   "id": "e1820015-1bdb-444e-8b6c-3fac7098a2cb",
   "metadata": {},
   "source": [
    "## Criar dataset"
   ]
  },
  {
   "cell_type": "code",
   "execution_count": 48,
   "id": "388253bb-8f68-4229-b3f8-11f229faa15f",
   "metadata": {},
   "outputs": [
    {
     "name": "stdout",
     "output_type": "stream",
     "text": [
      "          x1           x2          x3           y\n",
      "0   3.768127   344.056048  159.103935  530.808270\n",
      "1   3.289534   703.710786   69.621288  406.800055\n",
      "2  14.654321  1128.760670   36.119217  624.188256\n",
      "3   1.181017   308.777584   70.014911  897.199339\n",
      "4   9.552842   651.102761   41.411940   68.414382\n",
      "          x1           x2          x3\n",
      "0   3.768127   344.056048  159.103935\n",
      "1   3.289534   703.710786   69.621288\n",
      "2  14.654321  1128.760670   36.119217\n",
      "3   1.181017   308.777584   70.014911\n",
      "4   9.552842   651.102761   41.411940\n",
      "0    530.808270\n",
      "1    406.800055\n",
      "2    624.188256\n",
      "3    897.199339\n",
      "4     68.414382\n",
      "Name: y, dtype: float64\n"
     ]
    }
   ],
   "source": [
    "# Definir número de amostras\n",
    "n_samples = 500\n",
    "\n",
    "# Gerar características com diferentes intervalos de valores\n",
    "x1 = np.random.uniform(0, 20, n_samples)  \n",
    "x2 = np.random.uniform(100, 1500, n_samples) \n",
    "x3 = np.random.uniform(0, 200, n_samples)  \n",
    "\n",
    "#y = np.random.choice([0, 1], size=n_samples)\n",
    "y = np.random.uniform(0, 1000, n_samples)  \n",
    "\n",
    "\n",
    "# Criar dataframe\n",
    "data = pd.DataFrame({\n",
    "    'x1': x1,\n",
    "    'x2': x2,\n",
    "    'x3': x3,\n",
    "    'y': y\n",
    "})\n",
    "\n",
    "X = data[['x1', 'x2', 'x3']]\n",
    "y = data['y']\n",
    "\n",
    "# Exibir as primeiras linhas do dataset\n",
    "print(data.head())\n",
    "print(X.head())\n",
    "print(y.head())"
   ]
  },
  {
   "cell_type": "markdown",
   "id": "cc7d4d8b-33df-42ff-829d-38d803ef529a",
   "metadata": {},
   "source": [
    "# Normal Equation"
   ]
  },
  {
   "cell_type": "code",
   "execution_count": 9,
   "id": "5cee7e79-f78f-4926-8138-bf61f8da385d",
   "metadata": {},
   "outputs": [
    {
     "ename": "NameError",
     "evalue": "name 'mean_squared_error' is not defined",
     "output_type": "error",
     "traceback": [
      "\u001b[1;31m---------------------------------------------------------------------------\u001b[0m",
      "\u001b[1;31mNameError\u001b[0m                                 Traceback (most recent call last)",
      "Cell \u001b[1;32mIn[9], line 15\u001b[0m\n\u001b[0;32m     12\u001b[0m y_pred_test \u001b[38;5;241m=\u001b[39m model\u001b[38;5;241m.\u001b[39mpredict(X_test)\n\u001b[0;32m     14\u001b[0m \u001b[38;5;66;03m# 5. Avaliar o desempenho do modelo\u001b[39;00m\n\u001b[1;32m---> 15\u001b[0m mse_train \u001b[38;5;241m=\u001b[39m mean_squared_error(y_train, y_pred_train)\n\u001b[0;32m     16\u001b[0m mae_train \u001b[38;5;241m=\u001b[39m mean_absolute_error(y_train, y_pred_train)\n\u001b[0;32m     17\u001b[0m mse_test \u001b[38;5;241m=\u001b[39m mean_squared_error(y_test, y_pred_test)\n",
      "\u001b[1;31mNameError\u001b[0m: name 'mean_squared_error' is not defined"
     ]
    }
   ],
   "source": [
    "# 2. Dividir em treino e teste\n",
    "\n",
    "X_train, X_test, y_train, y_test = train_test_split(X, y, test_size=0.33, random_state=42)\n",
    "\n",
    "# 3. Treinar o modelo de regressão linear\n",
    "model = LinearRegression()\n",
    "model.fit(X_train, y_train)\n",
    "\n",
    "# 4. Fazer previsões\n",
    "y_pred_train = model.predict(X_train)\n",
    "y_pred_test = model.predict(X_test)\n",
    "\n",
    "# 5. Avaliar o desempenho do modelo\n",
    "mse_train = mean_squared_error(y_train, y_pred_train)\n",
    "mae_train = mean_absolute_error(y_train, y_pred_train)\n",
    "mse_test = mean_squared_error(y_test, y_pred_test)\n",
    "mae_test = mean_absolute_error(y_test, y_pred_test)\n",
    "\n",
    "# Exibir resultados\n",
    "print(\"Desempenho no Conjunto de Treino:\")\n",
    "print(f\"MSE: {mse_train:.2f}, MAE: {mae_train:.2f}\")\n",
    "\n",
    "print(\"\\nDesempenho no Conjunto de Teste:\")\n",
    "print(f\"MSE: {mse_test:.2f}, MAE: {mae_test:.2f}\")"
   ]
  }
 ],
 "metadata": {
  "kernelspec": {
   "display_name": "Python 3 (ipykernel)",
   "language": "python",
   "name": "python3"
  },
  "language_info": {
   "codemirror_mode": {
    "name": "ipython",
    "version": 3
   },
   "file_extension": ".py",
   "mimetype": "text/x-python",
   "name": "python",
   "nbconvert_exporter": "python",
   "pygments_lexer": "ipython3",
   "version": "3.12.3"
  }
 },
 "nbformat": 4,
 "nbformat_minor": 5
}
