{
 "cells": [
  {
   "cell_type": "code",
   "execution_count": 6,
   "id": "b54bd865-dc34-4f5a-bf93-780f535d6e77",
   "metadata": {},
   "outputs": [],
   "source": [
    "import pywhatkit as kit\n",
    "import pyautogui\n",
    "import time"
   ]
  },
  {
   "cell_type": "code",
   "execution_count": 7,
   "id": "ec82a9e3-58dd-4bb9-a0bd-c76b5b329ae0",
   "metadata": {},
   "outputs": [],
   "source": [
    "# Envia imediatamente para o número especificado\n",
    "kit.sendwhatmsg_instantly(\"+351910653893\", \"Olá, mensagem enviada instantaneamente!\", wait_time=10, tab_close=True)\n",
    "\n",
    "# Pequeno delay para garantir que a mensagem seja enviada (opcional)\n",
    "time.sleep(15)"
   ]
  }
 ],
 "metadata": {
  "kernelspec": {
   "display_name": "Python 3 (ipykernel)",
   "language": "python",
   "name": "python3"
  },
  "language_info": {
   "codemirror_mode": {
    "name": "ipython",
    "version": 3
   },
   "file_extension": ".py",
   "mimetype": "text/x-python",
   "name": "python",
   "nbconvert_exporter": "python",
   "pygments_lexer": "ipython3",
   "version": "3.12.3"
  }
 },
 "nbformat": 4,
 "nbformat_minor": 5
}
