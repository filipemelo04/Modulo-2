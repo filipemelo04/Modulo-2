{
 "cells": [
  {
   "cell_type": "markdown",
   "metadata": {},
   "source": [
    "# SVM: Scikit-learn sobre dataset Digits\n",
    "\n",
    "## O que vamos fazer?\n",
    "- Descarregar o dataset Digits para o classificar por OCR. \n",
    "- Pré-processar o dataset com métodos de Scikit-learn.\n",
    "- Formar um modelo de classificação multiclasse com SVM por CV. \n",
    "- Avaliar a precisão do modelo e representá-la graficamente.\n",
    "\n",
    "Num exercício anterior, resolvemos o problema da classificação dos dígitos escritos à mão por OCR através de regressão logística usando Scikit-learn.\n",
    "\n",
    "Este dataset pode ser complexo, pelo que esperamos que um modelo de classificação SVM seja mais preciso sobre o mesmo. \n",
    "\n",
    "Repetir os passos para formar um modelo SVM em tal dataset, otimizá-lo por CV com K-fold e finalmente avaliá-lo.\n",
    "\n",
    "\n",
    "Referências:\n",
    "- As características do dataset encontram-se aqui: [Optical recognition of handwritten digits dataset](https://scikit-learn.org/stable/datasets/index.html#digits-dataset)\n",
    "- Pode carregá-lo com esta função:  [sklearn.datasets.load_digits](https://scikit-learn.org/stable/modules/generated/sklearn.datasets.load_digits.html)\n",
    "- Pode ter como referência este notebook: [Recognizing hand-written digits](https://scikit-learn.org/stable/auto_examples/classification/plot_digits_classification.html)"
   ]
  },
  {
   "cell_type": "code",
   "execution_count": 1,
   "metadata": {},
   "outputs": [],
   "source": [
    "# TODO: Importar de todos os módulos necessários para esta célula\n",
    "\n",
    "from sklearn.datasets import load_digits\n",
    "import matplotlib.pyplot as plt\n",
    "import numpy as np\n",
    "from sklearn.model_selection import train_test_split\n",
    "from sklearn.svm import SVC\n",
    "from time import time\n",
    "from sklearn.metrics import accuracy_score\n",
    "from sklearn import metrics\n"
   ]
  },
  {
   "cell_type": "markdown",
   "metadata": {},
   "source": [
    "## Carregar o dataset Digits\n",
    "\n",
    "Representar graficamente alguns dos exemplos e as suas classes ou números associados:"
   ]
  },
  {
   "cell_type": "code",
   "execution_count": 3,
   "metadata": {},
   "outputs": [
    {
     "name": "stdout",
     "output_type": "stream",
     "text": [
      "Nº de dígitos: 1797\n",
      "Tamanho do dígito: (8, 8)\n"
     ]
    },
    {
     "data": {
      "text/plain": [
       "<Figure size 640x480 with 0 Axes>"
      ]
     },
     "metadata": {},
     "output_type": "display_data"
    },
    {
     "data": {
      "image/png": "[encoded data removed]",
      "text/plain": [
       "<Figure size 480x480 with 1 Axes>"
      ]
     },
     "metadata": {},
     "output_type": "display_data"
    }
   ],
   "source": [
    "# TODO: Carregar o dataset Digits como arrays X e Y e representar alguns dos exemplos\n",
    "\n",
    "digits = load_digits()\n",
    "print(\"Nº de dígitos:\", digits.data.shape[0])\n",
    "print(\"Tamanho do dígito:\", digits.images[0].shape)\n",
    "plt.gray()\n",
    "plt.matshow(digits.images[3])\n",
    "plt.show()"
   ]
  },
  {
   "cell_type": "code",
   "execution_count": 5,
   "metadata": {},
   "outputs": [
    {
     "name": "stdout",
     "output_type": "stream",
     "text": [
      "Tamanho do Dataset: (1797, 64)\n"
     ]
    },
    {
     "data": {
      "text/plain": [
       "array([0, 1, 2, ..., 8, 9, 8])"
      ]
     },
     "execution_count": 5,
     "metadata": {},
     "output_type": "execute_result"
    }
   ],
   "source": [
    "X, Y = load_digits(return_X_y=True)\n",
    "print(\"Tamanho do Dataset:\", X.shape)\n",
    "Y"
   ]
  },
  {
   "cell_type": "markdown",
   "metadata": {},
   "source": [
    "## Pré-processar os dados\n",
    "\n",
    "Pré-processar os dados com métodos de Scikit-learn, do mesmo modo que fez no exercício de Scikit-learn de regressão linear:\n",
    "\n",
    "- Reordená-los aleatoriamente. \n",
    "- Normalizar, se necessário.\n",
    "- Dividi-los em subconjuntos de formação e testes.\n",
    "\n",
    "Nesta ocasião, mais uma vez, faremos a validação cruzada por K-fold."
   ]
  },
  {
   "cell_type": "code",
   "execution_count": 7,
   "metadata": {},
   "outputs": [
    {
     "data": {
      "text/plain": [
       "array([[ 0.,  0.,  0.,  5., 11.,  1.,  0.,  0.,  0.,  0.,  0., 14., 14.,\n",
       "         2.,  0.,  0.,  0.,  0.,  5., 16.,  5.,  0.,  0.,  0.,  0.,  0.,\n",
       "         8., 15.,  2.,  0.,  0.,  0.,  0.,  0., 10., 13.,  0.,  0.,  0.,\n",
       "         0.,  0.,  0., 14., 16., 16.,  8.,  0.,  0.,  0.,  0.,  6., 16.,\n",
       "         9., 15.,  6.,  0.,  0.,  0.,  0.,  6., 14., 16.,  8.,  0.],\n",
       "       [ 0.,  0.,  2., 12., 10.,  0.,  0.,  0.,  0.,  0., 11., 14., 14.,\n",
       "         9.,  0.,  0.,  0.,  3., 15.,  1., 10.,  9.,  0.,  0.,  0.,  2.,\n",
       "         7.,  0., 10.,  8.,  0.,  0.,  0.,  0.,  0.,  2., 16.,  2.,  0.,\n",
       "         0.,  0.,  0.,  0., 10., 16.,  6.,  0.,  0.,  0.,  0.,  7., 16.,\n",
       "        13., 14., 16.,  4.,  0.,  0.,  4., 15.,  0.,  0.,  5.,  4.],\n",
       "       [ 0.,  0.,  0.,  7., 12.,  0.,  0.,  0.,  0.,  0.,  4., 16.,  8.,\n",
       "         0.,  0.,  0.,  0.,  0., 12., 11.,  0.,  0.,  0.,  0.,  0.,  0.,\n",
       "        15., 10.,  8.,  6.,  1.,  0.,  0.,  0., 15., 16.,  8., 10.,  8.,\n",
       "         0.,  0.,  0., 14.,  7.,  0.,  0., 12.,  0.,  0.,  0.,  8., 11.,\n",
       "         0.,  5., 16.,  2.,  0.,  0.,  0.,  9., 14., 14.,  5.,  0.],\n",
       "       [ 0.,  2.,  8., 15., 16., 10.,  0.,  0.,  0., 11., 16., 10.,  4.,\n",
       "        15.,  1.,  0.,  0., 12., 13.,  0.,  0., 13.,  5.,  0.,  0., 11.,\n",
       "        13.,  0.,  0., 15.,  7.,  0.,  0.,  8., 16.,  0.,  0., 15.,  6.,\n",
       "         0.,  0.,  6., 16.,  1.,  5., 16.,  2.,  0.,  0.,  2., 16.,  6.,\n",
       "        15., 12.,  0.,  0.,  0.,  0.,  7., 16., 14.,  1.,  0.,  0.],\n",
       "       [ 0.,  0.,  7., 14., 15.,  7.,  0.,  0.,  0.,  6., 16.,  8.,  7.,\n",
       "        16.,  4.,  0.,  0., 11.,  6.,  1., 10., 14.,  1.,  0.,  0.,  1.,\n",
       "         0.,  4., 16.,  6.,  0.,  0.,  0.,  0.,  0.,  2., 11., 13.,  1.,\n",
       "         0.,  0.,  0.,  0.,  0.,  0., 11.,  7.,  0.,  0.,  0.,  3.,  4.,\n",
       "         8., 14.,  3.,  0.,  0.,  0., 10., 13., 12.,  4.,  0.,  0.]])"
      ]
     },
     "execution_count": 7,
     "metadata": {},
     "output_type": "execute_result"
    }
   ],
   "source": [
    "# TODO: Reordenar os dados aleatoriamenteº\n",
    "\n",
    "indices = np.arange(len(X))\n",
    "np.random.shuffle(indices)\n",
    "\n",
    "X = X[indices]\n",
    "Y = Y[indices]\n",
    "X[:5]"
   ]
  },
  {
   "cell_type": "code",
   "execution_count": null,
   "metadata": {},
   "outputs": [],
   "source": [
    "# TODO: Normalizar, se necessário"
   ]
  },
  {
   "cell_type": "code",
   "execution_count": 9,
   "metadata": {},
   "outputs": [],
   "source": [
    "# TODO: Dividi-los em subconjuntos de formação e testesº\n",
    "\n",
    "X_train, X_test, y_train, y_test = train_test_split(X, Y, test_size=0.25, random_state=42)"
   ]
  },
  {
   "cell_type": "markdown",
   "metadata": {},
   "source": [
    "## Formar um modelo de classificação por SVM inicial\n",
    "\n",
    "Para comprovar o funcionamento do nosso classificador SVC, vamos formar um modelo inicial sobre o subset de formação e validá-lo sobre o subset de teste.\n",
    "\n",
    "Recordar usar a função [decision_function_shape](https://scikit-learn.org/stable/modules/svm.html#multi-class-classification)  para usar o esquema “um contra o resto” (“ovr”).\n",
    "\n",
    "Usar os valores por defeito de *C* e *gamma* para não influir sobre a sua regularização:"
   ]
  },
  {
   "cell_type": "code",
   "execution_count": 11,
   "metadata": {},
   "outputs": [
    {
     "name": "stdout",
     "output_type": "stream",
     "text": [
      "done in 0.070s\n"
     ]
    }
   ],
   "source": [
    "# TODO: Formar um modelo de SVC sem modificar os parâmetros de regularização sobre o subset de formação\n",
    "\n",
    "model = SVC(decision_function_shape='ovr')\n",
    "t0 = time()\n",
    "model.fit(X_train, y_train)\n",
    "print(\"done in %0.3fs\" % (time() - t0))"
   ]
  },
  {
   "cell_type": "markdown",
   "metadata": {},
   "source": [
    "Para avaliar o modelo, podemos utilizar uma matriz de confusão. Nesta matriz representamos, para cada uma das classes (10 neste caso), quantos exemplos foram previstos corretamente, em quantos falhámos e que classes previmos para os mesmos.\n",
    "\n",
    "Pode representar a matriz de confusão com a função [sklearn.metrics.plot_confusion_matrix](https://scikit-learn.org/stable/modules/generated/sklearn.metrics.plot_confusion_matrix.html) neste exemplo: [Recognizing hand-written digits](https://scikit-learn.org/stable/auto_examples/classification/plot_digits_classification.html)"
   ]
  },
  {
   "cell_type": "code",
   "execution_count": 13,
   "metadata": {},
   "outputs": [
    {
     "name": "stdout",
     "output_type": "stream",
     "text": [
      "done in 0.067s\n"
     ]
    }
   ],
   "source": [
    "# TODO: Avaliar o modelo com o seu score () no subset de teste\n",
    "t1 = time()\n",
    "y_test_pred = model.predict(X_test)\n",
    "print(\"done in %0.3fs\" % (time() - t1))"
   ]
  },
  {
   "cell_type": "code",
   "execution_count": 15,
   "metadata": {},
   "outputs": [
    {
     "data": {
      "text/plain": [
       "0.9911111111111112"
      ]
     },
     "execution_count": 15,
     "metadata": {},
     "output_type": "execute_result"
    }
   ],
   "source": [
    "accuracy_score(y_test, y_test_pred)"
   ]
  },
  {
   "cell_type": "code",
   "execution_count": 17,
   "metadata": {},
   "outputs": [
    {
     "data": {
      "image/png": "[encoded data removed]",
      "text/plain": [
       "<Figure size 640x480 with 2 Axes>"
      ]
     },
     "metadata": {},
     "output_type": "display_data"
    }
   ],
   "source": [
    "# TODO: Representar graficamente a matriz de confusão do modelo\n",
    "\n",
    "disp = metrics.ConfusionMatrixDisplay.from_predictions(y_test, y_test_pred)\n",
    "disp.figure_.suptitle(\"Confusion Matrix\")\n",
    "\n",
    "plt.show()"
   ]
  },
  {
   "cell_type": "markdown",
   "metadata": {},
   "source": [
    "### Concluimos que treinar o Dataset Digits com o modelo SVC, com o kernel RBF (radial basis function) e com C e gamma com os valores de defeito, é uma ótima decisão porque finalizou com um accuracy de 0.99 e como visualizado na matriz confusão obtivemos excelentes resultados."
   ]
  }
 ],
 "metadata": {
  "environment": {
   "name": "common-cpu.m54",
   "type": "gcloud",
   "uri": "gcr.io/deeplearning-platform-release/base-cpu:m54"
  },
  "kernelspec": {
   "display_name": "Python 3 (ipykernel)",
   "language": "python",
   "name": "python3"
  },
  "language_info": {
   "codemirror_mode": {
    "name": "ipython",
    "version": 3
   },
   "file_extension": ".py",
   "mimetype": "text/x-python",
   "name": "python",
   "nbconvert_exporter": "python",
   "pygments_lexer": "ipython3",
   "version": "3.12.4"
  }
 },
 "nbformat": 4,
 "nbformat_minor": 4
}
