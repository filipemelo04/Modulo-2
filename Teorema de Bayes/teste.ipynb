{
 "cells": [
  {
   "cell_type": "markdown",
   "id": "534c2472-1a79-46e9-b176-400e04637530",
   "metadata": {},
   "source": [
    "# Prática de Teorema de Naive Bayes"
   ]
  },
  {
   "cell_type": "markdown",
   "id": "769d6fea-b43a-4761-9a9a-f8a2771d116a",
   "metadata": {},
   "source": [
    "## Mushroom Dataset"
   ]
  },
  {
   "cell_type": "markdown",
   "id": "05e25a5b-d364-499b-be81-581dfae0d441",
   "metadata": {},
   "source": [
    "### Download Dataset"
   ]
  },
  {
   "cell_type": "code",
   "execution_count": 2,
   "id": "a1bed0c4-fde2-49c6-9ad9-87ebc02bc2f5",
   "metadata": {},
   "outputs": [
    {
     "name": "stdout",
     "output_type": "stream",
     "text": [
      "Warning: Looks like you're using an outdated `kagglehub` version (installed: 0.3.9), please consider upgrading to the latest version (0.3.11).\n",
      "Path to dataset files: C:\\Users\\SBUtilizador\\.cache\\kagglehub\\datasets\\uciml\\mushroom-classification\\versions\\1\n"
     ]
    }
   ],
   "source": [
    "import kagglehub\n",
    "\n",
    "# Download latest version\n",
    "path = kagglehub.dataset_download(\"uciml/mushroom-classification\")\n",
    "\n",
    "print(\"Path to dataset files:\", path)"
   ]
  },
  {
   "cell_type": "markdown",
   "id": "9dcd1508-def5-4488-a570-e4a2b8b353ae",
   "metadata": {},
   "source": [
    "### Importar Dataset"
   ]
  },
  {
   "cell_type": "code",
   "execution_count": 2,
   "id": "0994014d-f041-4601-a9c9-4d00398ceede",
   "metadata": {},
   "outputs": [],
   "source": [
    "import pandas as pd\n",
    "\n",
    "dataset_mushroom = pd.read_csv('mushrooms.csv', sep=',', header=None, names=['class', 'cap-shape', 'cap-surface', 'cap-color', 'bruises', 'odor', 'gill-attachment', 'gill-spacing', 'gill-size', 'gill-color', 'stalk-shape', 'stalk-root', 'stalk-surface-above-ring', 'stalk-surface-below-ring', 'stalk-color-above-ring', 'stalk-color-below-ring', 'veil-type', 'veil-color', 'ring-number', 'ring-type', 'spore-print-color', 'population', 'habitat'])\n",
    "dataset_mushroom = dataset_mushroom.iloc[1:]"
   ]
  },
  {
   "cell_type": "markdown",
   "id": "28ac150d-3d15-4b1c-8143-9a1b24c67744",
   "metadata": {},
   "source": [
    "### Visualizar dimensão e primeiras 5 linhas do Dataset"
   ]
  },
  {
   "cell_type": "code",
   "execution_count": 25,
   "id": "7f939446-2d64-4737-89e6-bd1f5890b9a7",
   "metadata": {},
   "outputs": [
    {
     "name": "stdout",
     "output_type": "stream",
     "text": [
      "(8124, 23)\n"
     ]
    },
    {
     "data": {
      "text/html": [
       "<div>\n",
       "<style scoped>\n",
       "    .dataframe tbody tr th:only-of-type {\n",
       "        vertical-align: middle;\n",
       "    }\n",
       "\n",
       "    .dataframe tbody tr th {\n",
       "        vertical-align: top;\n",
       "    }\n",
       "\n",
       "    .dataframe thead th {\n",
       "        text-align: right;\n",
       "    }\n",
       "</style>\n",
       "<table border=\"1\" class=\"dataframe\">\n",
       "  <thead>\n",
       "    <tr style=\"text-align: right;\">\n",
       "      <th></th>\n",
       "      <th>class</th>\n",
       "      <th>cap-shape</th>\n",
       "      <th>cap-surface</th>\n",
       "      <th>cap-color</th>\n",
       "      <th>bruises</th>\n",
       "      <th>odor</th>\n",
       "      <th>gill-attachment</th>\n",
       "      <th>gill-spacing</th>\n",
       "      <th>gill-size</th>\n",
       "      <th>gill-color</th>\n",
       "      <th>...</th>\n",
       "      <th>stalk-surface-below-ring</th>\n",
       "      <th>stalk-color-above-ring</th>\n",
       "      <th>stalk-color-below-ring</th>\n",
       "      <th>veil-type</th>\n",
       "      <th>veil-color</th>\n",
       "      <th>ring-number</th>\n",
       "      <th>ring-type</th>\n",
       "      <th>spore-print-color</th>\n",
       "      <th>population</th>\n",
       "      <th>habitat</th>\n",
       "    </tr>\n",
       "  </thead>\n",
       "  <tbody>\n",
       "    <tr>\n",
       "      <th>1</th>\n",
       "      <td>p</td>\n",
       "      <td>x</td>\n",
       "      <td>s</td>\n",
       "      <td>n</td>\n",
       "      <td>t</td>\n",
       "      <td>p</td>\n",
       "      <td>f</td>\n",
       "      <td>c</td>\n",
       "      <td>n</td>\n",
       "      <td>k</td>\n",
       "      <td>...</td>\n",
       "      <td>s</td>\n",
       "      <td>w</td>\n",
       "      <td>w</td>\n",
       "      <td>p</td>\n",
       "      <td>w</td>\n",
       "      <td>o</td>\n",
       "      <td>p</td>\n",
       "      <td>k</td>\n",
       "      <td>s</td>\n",
       "      <td>u</td>\n",
       "    </tr>\n",
       "    <tr>\n",
       "      <th>2</th>\n",
       "      <td>e</td>\n",
       "      <td>x</td>\n",
       "      <td>s</td>\n",
       "      <td>y</td>\n",
       "      <td>t</td>\n",
       "      <td>a</td>\n",
       "      <td>f</td>\n",
       "      <td>c</td>\n",
       "      <td>b</td>\n",
       "      <td>k</td>\n",
       "      <td>...</td>\n",
       "      <td>s</td>\n",
       "      <td>w</td>\n",
       "      <td>w</td>\n",
       "      <td>p</td>\n",
       "      <td>w</td>\n",
       "      <td>o</td>\n",
       "      <td>p</td>\n",
       "      <td>n</td>\n",
       "      <td>n</td>\n",
       "      <td>g</td>\n",
       "    </tr>\n",
       "    <tr>\n",
       "      <th>3</th>\n",
       "      <td>e</td>\n",
       "      <td>b</td>\n",
       "      <td>s</td>\n",
       "      <td>w</td>\n",
       "      <td>t</td>\n",
       "      <td>l</td>\n",
       "      <td>f</td>\n",
       "      <td>c</td>\n",
       "      <td>b</td>\n",
       "      <td>n</td>\n",
       "      <td>...</td>\n",
       "      <td>s</td>\n",
       "      <td>w</td>\n",
       "      <td>w</td>\n",
       "      <td>p</td>\n",
       "      <td>w</td>\n",
       "      <td>o</td>\n",
       "      <td>p</td>\n",
       "      <td>n</td>\n",
       "      <td>n</td>\n",
       "      <td>m</td>\n",
       "    </tr>\n",
       "    <tr>\n",
       "      <th>4</th>\n",
       "      <td>p</td>\n",
       "      <td>x</td>\n",
       "      <td>y</td>\n",
       "      <td>w</td>\n",
       "      <td>t</td>\n",
       "      <td>p</td>\n",
       "      <td>f</td>\n",
       "      <td>c</td>\n",
       "      <td>n</td>\n",
       "      <td>n</td>\n",
       "      <td>...</td>\n",
       "      <td>s</td>\n",
       "      <td>w</td>\n",
       "      <td>w</td>\n",
       "      <td>p</td>\n",
       "      <td>w</td>\n",
       "      <td>o</td>\n",
       "      <td>p</td>\n",
       "      <td>k</td>\n",
       "      <td>s</td>\n",
       "      <td>u</td>\n",
       "    </tr>\n",
       "    <tr>\n",
       "      <th>5</th>\n",
       "      <td>e</td>\n",
       "      <td>x</td>\n",
       "      <td>s</td>\n",
       "      <td>g</td>\n",
       "      <td>f</td>\n",
       "      <td>n</td>\n",
       "      <td>f</td>\n",
       "      <td>w</td>\n",
       "      <td>b</td>\n",
       "      <td>k</td>\n",
       "      <td>...</td>\n",
       "      <td>s</td>\n",
       "      <td>w</td>\n",
       "      <td>w</td>\n",
       "      <td>p</td>\n",
       "      <td>w</td>\n",
       "      <td>o</td>\n",
       "      <td>e</td>\n",
       "      <td>n</td>\n",
       "      <td>a</td>\n",
       "      <td>g</td>\n",
       "    </tr>\n",
       "  </tbody>\n",
       "</table>\n",
       "<p>5 rows × 23 columns</p>\n",
       "</div>"
      ],
      "text/plain": [
       "  class cap-shape cap-surface cap-color bruises odor gill-attachment  \\\n",
       "1     p         x           s         n       t    p               f   \n",
       "2     e         x           s         y       t    a               f   \n",
       "3     e         b           s         w       t    l               f   \n",
       "4     p         x           y         w       t    p               f   \n",
       "5     e         x           s         g       f    n               f   \n",
       "\n",
       "  gill-spacing gill-size gill-color  ... stalk-surface-below-ring  \\\n",
       "1            c         n          k  ...                        s   \n",
       "2            c         b          k  ...                        s   \n",
       "3            c         b          n  ...                        s   \n",
       "4            c         n          n  ...                        s   \n",
       "5            w         b          k  ...                        s   \n",
       "\n",
       "  stalk-color-above-ring stalk-color-below-ring veil-type veil-color  \\\n",
       "1                      w                      w         p          w   \n",
       "2                      w                      w         p          w   \n",
       "3                      w                      w         p          w   \n",
       "4                      w                      w         p          w   \n",
       "5                      w                      w         p          w   \n",
       "\n",
       "  ring-number ring-type spore-print-color population habitat  \n",
       "1           o         p                 k          s       u  \n",
       "2           o         p                 n          n       g  \n",
       "3           o         p                 n          n       m  \n",
       "4           o         p                 k          s       u  \n",
       "5           o         e                 n          a       g  \n",
       "\n",
       "[5 rows x 23 columns]"
      ]
     },
     "execution_count": 25,
     "metadata": {},
     "output_type": "execute_result"
    }
   ],
   "source": [
    "print(dataset_mushroom.shape)\n",
    "dataset_mushroom.head()"
   ]
  },
  {
   "cell_type": "markdown",
   "id": "ffde93a8-0254-4fc1-8fab-11758d8217f7",
   "metadata": {},
   "source": [
    "### Verificar se não existem valores nulos por coluna"
   ]
  },
  {
   "cell_type": "code",
   "execution_count": 26,
   "id": "00a6713a-160a-4510-86c1-5b404ae06a2a",
   "metadata": {},
   "outputs": [
    {
     "data": {
      "text/plain": [
       "class                       0\n",
       "cap-shape                   0\n",
       "cap-surface                 0\n",
       "cap-color                   0\n",
       "bruises                     0\n",
       "odor                        0\n",
       "gill-attachment             0\n",
       "gill-spacing                0\n",
       "gill-size                   0\n",
       "gill-color                  0\n",
       "stalk-shape                 0\n",
       "stalk-root                  0\n",
       "stalk-surface-above-ring    0\n",
       "stalk-surface-below-ring    0\n",
       "stalk-color-above-ring      0\n",
       "stalk-color-below-ring      0\n",
       "veil-type                   0\n",
       "veil-color                  0\n",
       "ring-number                 0\n",
       "ring-type                   0\n",
       "spore-print-color           0\n",
       "population                  0\n",
       "habitat                     0\n",
       "dtype: int64"
      ]
     },
     "execution_count": 26,
     "metadata": {},
     "output_type": "execute_result"
    }
   ],
   "source": [
    "dataset_mushroom.isnull().sum()"
   ]
  },
  {
   "cell_type": "markdown",
   "id": "92cbcc2b-219d-40b6-b53e-567918735132",
   "metadata": {},
   "source": [
    "### Verificar quantos valores diferentes tem cada coluna"
   ]
  },
  {
   "cell_type": "code",
   "execution_count": 27,
   "id": "78b1cafe-75ed-450b-8639-674d8013371a",
   "metadata": {},
   "outputs": [
    {
     "data": {
      "text/plain": [
       "class                        2\n",
       "cap-shape                    6\n",
       "cap-surface                  4\n",
       "cap-color                   10\n",
       "bruises                      2\n",
       "odor                         9\n",
       "gill-attachment              2\n",
       "gill-spacing                 2\n",
       "gill-size                    2\n",
       "gill-color                  12\n",
       "stalk-shape                  2\n",
       "stalk-root                   5\n",
       "stalk-surface-above-ring     4\n",
       "stalk-surface-below-ring     4\n",
       "stalk-color-above-ring       9\n",
       "stalk-color-below-ring       9\n",
       "veil-type                    1\n",
       "veil-color                   4\n",
       "ring-number                  3\n",
       "ring-type                    5\n",
       "spore-print-color            9\n",
       "population                   6\n",
       "habitat                      7\n",
       "dtype: int64"
      ]
     },
     "execution_count": 27,
     "metadata": {},
     "output_type": "execute_result"
    }
   ],
   "source": [
    "dataset_mushroom.nunique()"
   ]
  },
  {
   "cell_type": "markdown",
   "id": "40083fb4-0046-4acc-97b0-cc35a2d0de8f",
   "metadata": {},
   "source": [
    "### Separar dataset em X e Y"
   ]
  },
  {
   "cell_type": "code",
   "execution_count": 7,
   "id": "657f7eec-dac4-4dad-b709-a538f85d1806",
   "metadata": {},
   "outputs": [
    {
     "name": "stdout",
     "output_type": "stream",
     "text": [
      "     cap-shape cap-surface cap-color bruises odor gill-attachment  \\\n",
      "1            x           s         n       t    p               f   \n",
      "2            x           s         y       t    a               f   \n",
      "3            b           s         w       t    l               f   \n",
      "4            x           y         w       t    p               f   \n",
      "5            x           s         g       f    n               f   \n",
      "...        ...         ...       ...     ...  ...             ...   \n",
      "8120         k           s         n       f    n               a   \n",
      "8121         x           s         n       f    n               a   \n",
      "8122         f           s         n       f    n               a   \n",
      "8123         k           y         n       f    y               f   \n",
      "8124         x           s         n       f    n               a   \n",
      "\n",
      "     gill-spacing gill-size gill-color stalk-shape  ...  \\\n",
      "1               c         n          k           e  ...   \n",
      "2               c         b          k           e  ...   \n",
      "3               c         b          n           e  ...   \n",
      "4               c         n          n           e  ...   \n",
      "5               w         b          k           t  ...   \n",
      "...           ...       ...        ...         ...  ...   \n",
      "8120            c         b          y           e  ...   \n",
      "8121            c         b          y           e  ...   \n",
      "8122            c         b          n           e  ...   \n",
      "8123            c         n          b           t  ...   \n",
      "8124            c         b          y           e  ...   \n",
      "\n",
      "     stalk-surface-below-ring stalk-color-above-ring stalk-color-below-ring  \\\n",
      "1                           s                      w                      w   \n",
      "2                           s                      w                      w   \n",
      "3                           s                      w                      w   \n",
      "4                           s                      w                      w   \n",
      "5                           s                      w                      w   \n",
      "...                       ...                    ...                    ...   \n",
      "8120                        s                      o                      o   \n",
      "8121                        s                      o                      o   \n",
      "8122                        s                      o                      o   \n",
      "8123                        k                      w                      w   \n",
      "8124                        s                      o                      o   \n",
      "\n",
      "     veil-type veil-color ring-number ring-type spore-print-color population  \\\n",
      "1            p          w           o         p                 k          s   \n",
      "2            p          w           o         p                 n          n   \n",
      "3            p          w           o         p                 n          n   \n",
      "4            p          w           o         p                 k          s   \n",
      "5            p          w           o         e                 n          a   \n",
      "...        ...        ...         ...       ...               ...        ...   \n",
      "8120         p          o           o         p                 b          c   \n",
      "8121         p          n           o         p                 b          v   \n",
      "8122         p          o           o         p                 b          c   \n",
      "8123         p          w           o         e                 w          v   \n",
      "8124         p          o           o         p                 o          c   \n",
      "\n",
      "     habitat  \n",
      "1          u  \n",
      "2          g  \n",
      "3          m  \n",
      "4          u  \n",
      "5          g  \n",
      "...      ...  \n",
      "8120       l  \n",
      "8121       l  \n",
      "8122       l  \n",
      "8123       l  \n",
      "8124       l  \n",
      "\n",
      "[8124 rows x 22 columns]\n",
      "1       p\n",
      "2       e\n",
      "3       e\n",
      "4       p\n",
      "5       e\n",
      "       ..\n",
      "8120    e\n",
      "8121    e\n",
      "8122    e\n",
      "8123    p\n",
      "8124    e\n",
      "Name: class, Length: 8124, dtype: object\n"
     ]
    }
   ],
   "source": [
    "x_mushroom = dataset_mushroom.iloc[:, 1:]\n",
    "y_mushroom = dataset_mushroom.iloc[:, 0]\n",
    "\n",
    "print(x_mushroom)\n",
    "print(y_mushroom)"
   ]
  },
  {
   "cell_type": "markdown",
   "id": "985a1edb-5d05-4783-ad86-7362584d3c27",
   "metadata": {},
   "source": [
    "### Codificar as features e o target"
   ]
  },
  {
   "cell_type": "code",
   "execution_count": 8,
   "id": "33d25a52-52bd-4b52-8c1c-3daa5a85d3e9",
   "metadata": {
    "scrolled": true
   },
   "outputs": [
    {
     "name": "stdout",
     "output_type": "stream",
     "text": [
      "      cap-shape  cap-surface  cap-color  bruises  odor  gill-attachment  \\\n",
      "1             5            2          4        1     6                1   \n",
      "2             5            2          9        1     0                1   \n",
      "3             0            2          8        1     3                1   \n",
      "4             5            3          8        1     6                1   \n",
      "5             5            2          3        0     5                1   \n",
      "...         ...          ...        ...      ...   ...              ...   \n",
      "8120          3            2          4        0     5                0   \n",
      "8121          5            2          4        0     5                0   \n",
      "8122          2            2          4        0     5                0   \n",
      "8123          3            3          4        0     8                1   \n",
      "8124          5            2          4        0     5                0   \n",
      "\n",
      "      gill-spacing  gill-size  gill-color  stalk-shape  ...  \\\n",
      "1                0          1           4            0  ...   \n",
      "2                0          0           4            0  ...   \n",
      "3                0          0           5            0  ...   \n",
      "4                0          1           5            0  ...   \n",
      "5                1          0           4            1  ...   \n",
      "...            ...        ...         ...          ...  ...   \n",
      "8120             0          0          11            0  ...   \n",
      "8121             0          0          11            0  ...   \n",
      "8122             0          0           5            0  ...   \n",
      "8123             0          1           0            1  ...   \n",
      "8124             0          0          11            0  ...   \n",
      "\n",
      "      stalk-surface-below-ring  stalk-color-above-ring  \\\n",
      "1                            2                       7   \n",
      "2                            2                       7   \n",
      "3                            2                       7   \n",
      "4                            2                       7   \n",
      "5                            2                       7   \n",
      "...                        ...                     ...   \n",
      "8120                         2                       5   \n",
      "8121                         2                       5   \n",
      "8122                         2                       5   \n",
      "8123                         1                       7   \n",
      "8124                         2                       5   \n",
      "\n",
      "      stalk-color-below-ring  veil-type  veil-color  ring-number  ring-type  \\\n",
      "1                          7          0           2            1          4   \n",
      "2                          7          0           2            1          4   \n",
      "3                          7          0           2            1          4   \n",
      "4                          7          0           2            1          4   \n",
      "5                          7          0           2            1          0   \n",
      "...                      ...        ...         ...          ...        ...   \n",
      "8120                       5          0           1            1          4   \n",
      "8121                       5          0           0            1          4   \n",
      "8122                       5          0           1            1          4   \n",
      "8123                       7          0           2            1          0   \n",
      "8124                       5          0           1            1          4   \n",
      "\n",
      "      spore-print-color  population  habitat  \n",
      "1                     2           3        5  \n",
      "2                     3           2        1  \n",
      "3                     3           2        3  \n",
      "4                     2           3        5  \n",
      "5                     3           0        1  \n",
      "...                 ...         ...      ...  \n",
      "8120                  0           1        2  \n",
      "8121                  0           4        2  \n",
      "8122                  0           1        2  \n",
      "8123                  7           4        2  \n",
      "8124                  4           1        2  \n",
      "\n",
      "[8124 rows x 22 columns]\n",
      "[1 0 0 ... 0 1 0]\n"
     ]
    }
   ],
   "source": [
    "from sklearn.preprocessing import LabelEncoder\n",
    "\n",
    "le_mushroom = LabelEncoder()\n",
    "x_mushroom_encoded = x_mushroom.apply(le_mushroom.fit_transform)\n",
    "y_mushroom_encoded = le_mushroom.fit_transform(y_mushroom)\n",
    "\n",
    "print(x_mushroom_encoded)\n",
    "print(y_mushroom_encoded)"
   ]
  },
  {
   "cell_type": "code",
   "execution_count": 10,
   "id": "3ca3355e-b3d2-4cb1-8491-478aac6b6ee6",
   "metadata": {},
   "outputs": [
    {
     "name": "stdout",
     "output_type": "stream",
     "text": [
      "                           count                 mean                  std  \\\n",
      "cap-shape                 8124.0    3.348104382077794   1.6043290877115428   \n",
      "cap-surface               8124.0     1.82767109798129   1.2298725242272937   \n",
      "cap-color                 8124.0    4.504677498769079       2.545820941521   \n",
      "bruises                   8124.0   0.4155588380108321   0.4928484444287059   \n",
      "odor                      8124.0    4.144756277695716   2.1037290837439513   \n",
      "gill-attachment           8124.0   0.9741506646971935  0.15869545408862348   \n",
      "gill-spacing              8124.0  0.16149679960610536     0.36801121444867   \n",
      "gill-size                 8124.0  0.30920728705071393   0.4621952359773051   \n",
      "gill-color                8124.0     4.81068439192516   3.5403589714225214   \n",
      "stalk-shape               8124.0   0.5672082717872969  0.49549295549034134   \n",
      "stalk-root                8124.0   1.1097981290004924   1.0611060679879225   \n",
      "stalk-surface-above-ring  8124.0   1.5750861644510095   0.6214593111785275   \n",
      "stalk-surface-below-ring  8124.0    1.603643525356967   0.6759741491415381   \n",
      "stalk-color-above-ring    8124.0    5.816346627277204   1.9017472922284768   \n",
      "stalk-color-below-ring    8124.0    5.794682422451994   1.9072914601868984   \n",
      "veil-type                 8124.0                  0.0                  0.0   \n",
      "veil-color                8124.0    1.965534219596258  0.24266909614468815   \n",
      "ring-number               8124.0    1.069423929098966   0.2710644217109579   \n",
      "ring-type                 8124.0    2.291974396848843   1.8016720020685888   \n",
      "spore-print-color         8124.0   3.5967503692762186   2.3826632384911317   \n",
      "population                8124.0   3.6440177252584935   1.2520818198487005   \n",
      "habitat                   8124.0   1.5086164451009354   1.7199754373864165   \n",
      "\n",
      "                          min  25%  50%  75%   max  \n",
      "cap-shape                 0.0  2.0  3.0  5.0   5.0  \n",
      "cap-surface               0.0  0.0  2.0  3.0   3.0  \n",
      "cap-color                 0.0  3.0  4.0  8.0   9.0  \n",
      "bruises                   0.0  0.0  0.0  1.0   1.0  \n",
      "odor                      0.0  2.0  5.0  5.0   8.0  \n",
      "gill-attachment           0.0  1.0  1.0  1.0   1.0  \n",
      "gill-spacing              0.0  0.0  0.0  0.0   1.0  \n",
      "gill-size                 0.0  0.0  0.0  1.0   1.0  \n",
      "gill-color                0.0  2.0  5.0  7.0  11.0  \n",
      "stalk-shape               0.0  0.0  1.0  1.0   1.0  \n",
      "stalk-root                0.0  0.0  1.0  1.0   4.0  \n",
      "stalk-surface-above-ring  0.0  1.0  2.0  2.0   3.0  \n",
      "stalk-surface-below-ring  0.0  1.0  2.0  2.0   3.0  \n",
      "stalk-color-above-ring    0.0  6.0  7.0  7.0   8.0  \n",
      "stalk-color-below-ring    0.0  6.0  7.0  7.0   8.0  \n",
      "veil-type                 0.0  0.0  0.0  0.0   0.0  \n",
      "veil-color                0.0  2.0  2.0  2.0   3.0  \n",
      "ring-number               0.0  1.0  1.0  1.0   2.0  \n",
      "ring-type                 0.0  0.0  2.0  4.0   4.0  \n",
      "spore-print-color         0.0  2.0  3.0  7.0   8.0  \n",
      "population                0.0  3.0  4.0  4.0   5.0  \n",
      "habitat                   0.0  0.0  1.0  2.0   6.0  \n"
     ]
    },
    {
     "name": "stderr",
     "output_type": "stream",
     "text": [
      "C:\\Users\\SBUtilizador\\AppData\\Local\\Temp\\ipykernel_2644\\1705020667.py:1: FutureWarning: DataFrame.applymap has been deprecated. Use DataFrame.map instead.\n",
      "  print(x_mushroom_encoded.describe().applymap('{:}'.format).T)\n"
     ]
    }
   ],
   "source": [
    "print(x_mushroom_encoded.describe().applymap('{:}'.format).T)"
   ]
  },
  {
   "cell_type": "markdown",
   "id": "fc1eff0e-9d34-4304-9b2b-14c9ccce7669",
   "metadata": {},
   "source": [
    "### Dividir Dataset em Treino e Teste"
   ]
  },
  {
   "cell_type": "code",
   "execution_count": 30,
   "id": "0377b356-51a7-4a86-aa5a-8130221e8517",
   "metadata": {},
   "outputs": [],
   "source": [
    "from sklearn.model_selection import train_test_split\n",
    "\n",
    "x_train, x_test, y_train, y_test = train_test_split(x_mushroom_encoded, y_mushroom_encoded, test_size=0.33, random_state=42)"
   ]
  },
  {
   "cell_type": "markdown",
   "id": "9fd49d9d-5192-4b2b-a412-7f3c72a3e9ee",
   "metadata": {},
   "source": [
    "### Treinar Dataset, fazer previsões e calcular $R^2$ utilizado os vários modelos de Naive Bayes"
   ]
  },
  {
   "cell_type": "markdown",
   "id": "bcad9bda-13e0-467c-843b-d5fd282eb8fb",
   "metadata": {},
   "source": [
    "#### MultinomialNB"
   ]
  },
  {
   "cell_type": "code",
   "execution_count": 31,
   "id": "15f326b4-f901-4fb9-9084-ce615d8239d3",
   "metadata": {},
   "outputs": [],
   "source": [
    "from sklearn.naive_bayes import MultinomialNB\n",
    "from sklearn.metrics import accuracy_score\n",
    "\n",
    "MultiNB = MultinomialNB()\n",
    "MultiNB.fit(x_train, y_train)\n",
    "\n",
    "y_predict_Multi = MultiNB.predict(x_test)"
   ]
  },
  {
   "cell_type": "markdown",
   "id": "949af048-51f7-4a86-9384-1244b8aa2dcc",
   "metadata": {},
   "source": [
    "##### Accuracy"
   ]
  },
  {
   "cell_type": "code",
   "execution_count": 32,
   "id": "34a2291c-ee7a-45bb-99a9-859bea9fde02",
   "metadata": {},
   "outputs": [
    {
     "name": "stdout",
     "output_type": "stream",
     "text": [
      "Accuracy: 0.8008205893323387\n"
     ]
    }
   ],
   "source": [
    "accuracy_Multi = accuracy_score(y_test, y_predict_Multi)\n",
    "print(\"Accuracy:\", accuracy_Multi)"
   ]
  },
  {
   "cell_type": "markdown",
   "id": "dde32758-b960-44b5-8f6c-c34395eaf0dc",
   "metadata": {},
   "source": [
    "##### Matriz Confusão"
   ]
  },
  {
   "cell_type": "code",
   "execution_count": 33,
   "id": "8ec38817-ebd7-4352-846b-37d873e61162",
   "metadata": {},
   "outputs": [
    {
     "data": {
      "image/png": "[encoded data removed]",
      "text/plain": [
       "<Figure size 640x480 with 2 Axes>"
      ]
     },
     "metadata": {},
     "output_type": "display_data"
    }
   ],
   "source": [
    "from sklearn.metrics import confusion_matrix\n",
    "import seaborn as sns\n",
    "import matplotlib.pyplot as plt\n",
    "\n",
    "conf_matrix = confusion_matrix(y_test, y_predict_Multi)\n",
    "\n",
    "sns.heatmap(conf_matrix, annot=True, fmt=\"d\", cmap=\"Blues\", xticklabels=[\"Positivo\", \"Negativo\"], yticklabels=[\"Positivo\", \"Negativo\"])\n",
    "plt.xlabel(\"Previsto\")\n",
    "plt.ylabel(\"Real\")\n",
    "plt.title(\"Matriz de Confusão\")\n",
    "plt.show()"
   ]
  },
  {
   "cell_type": "markdown",
   "id": "4f8d814e-4eca-4b84-8f80-2c44daf67b83",
   "metadata": {},
   "source": [
    "#### GaussianNB"
   ]
  },
  {
   "cell_type": "code",
   "execution_count": 34,
   "id": "52bf57b9-be3e-449e-94f6-3f30961e8b7d",
   "metadata": {},
   "outputs": [],
   "source": [
    "from sklearn.naive_bayes import GaussianNB\n",
    "\n",
    "gNB = GaussianNB()\n",
    "gNB.fit(x_train, y_train)\n",
    "\n",
    "y_predict_Gauss = gNB.predict(x_test)"
   ]
  },
  {
   "cell_type": "markdown",
   "id": "87f5ea9f-f59a-4281-924e-5d65a878c91e",
   "metadata": {},
   "source": [
    "##### Accuracy"
   ]
  },
  {
   "cell_type": "code",
   "execution_count": 35,
   "id": "886f510c-102b-4c3e-8cb8-a92bf9a050be",
   "metadata": {},
   "outputs": [
    {
     "name": "stdout",
     "output_type": "stream",
     "text": [
      "Accuracy: 0.9261469600895188\n"
     ]
    }
   ],
   "source": [
    "accuracy_Gauss = accuracy_score(y_test, y_predict_Gauss)\n",
    "print(\"Accuracy:\", accuracy_Gauss)"
   ]
  },
  {
   "cell_type": "markdown",
   "id": "c132e24a-8bb4-4341-835a-e0efd0ff8092",
   "metadata": {},
   "source": [
    "##### Matriz Confusão"
   ]
  },
  {
   "cell_type": "code",
   "execution_count": 36,
   "id": "11f39dad-da35-444d-8f38-f94aa255217c",
   "metadata": {},
   "outputs": [
    {
     "data": {
      "image/png": "[encoded data removed]",
      "text/plain": [
       "<Figure size 640x480 with 2 Axes>"
      ]
     },
     "metadata": {},
     "output_type": "display_data"
    }
   ],
   "source": [
    "from sklearn.metrics import confusion_matrix\n",
    "import seaborn as sns\n",
    "import matplotlib.pyplot as plt\n",
    "\n",
    "conf_matrix = confusion_matrix(y_test, y_predict_Gauss)\n",
    "\n",
    "sns.heatmap(conf_matrix, annot=True, fmt=\"d\", cmap=\"Blues\", xticklabels=[\"Positivo\", \"Negativo\"], yticklabels=[\"Positivo\", \"Negativo\"])\n",
    "plt.xlabel(\"Previsto\")\n",
    "plt.ylabel(\"Real\")\n",
    "plt.title(\"Matriz de Confusão\")\n",
    "plt.show()"
   ]
  },
  {
   "cell_type": "markdown",
   "id": "4e32bb80-73e5-4227-bf47-4736f8aafe82",
   "metadata": {},
   "source": [
    "#### ComplementNB"
   ]
  },
  {
   "cell_type": "code",
   "execution_count": 37,
   "id": "7821776f-a412-408f-ba50-6cf2b53af5ca",
   "metadata": {},
   "outputs": [],
   "source": [
    "from sklearn.naive_bayes import ComplementNB\n",
    "\n",
    "cNB = ComplementNB()\n",
    "cNB.fit(x_train, y_train)\n",
    "\n",
    "y_predict_Complem = cNB.predict(x_test)"
   ]
  },
  {
   "cell_type": "markdown",
   "id": "ea5f67fd-2460-4274-b500-c39075abc9d6",
   "metadata": {},
   "source": [
    "##### Accuracy"
   ]
  },
  {
   "cell_type": "code",
   "execution_count": 38,
   "id": "b8639cf6-6123-4954-a18e-db5eff6ef046",
   "metadata": {},
   "outputs": [
    {
     "name": "stdout",
     "output_type": "stream",
     "text": [
      "Accuracy: 0.8049235359940321\n"
     ]
    }
   ],
   "source": [
    "accuracy_Complem = accuracy_score(y_test, y_predict_Complem)\n",
    "print(\"Accuracy:\", accuracy_Complem)"
   ]
  },
  {
   "cell_type": "markdown",
   "id": "060b6301-ddbb-4cee-be6f-6e5dfaa9504c",
   "metadata": {},
   "source": [
    "##### Matriz Confusão"
   ]
  },
  {
   "cell_type": "code",
   "execution_count": 39,
   "id": "38fed06f-ac3b-47c9-b439-f69e6c5feae0",
   "metadata": {},
   "outputs": [
    {
     "data": {
      "image/png": "[encoded data removed]",
      "text/plain": [
       "<Figure size 640x480 with 2 Axes>"
      ]
     },
     "metadata": {},
     "output_type": "display_data"
    }
   ],
   "source": [
    "from sklearn.metrics import confusion_matrix\n",
    "import seaborn as sns\n",
    "import matplotlib.pyplot as plt\n",
    "\n",
    "conf_matrix = confusion_matrix(y_test, y_predict_Complem)\n",
    "\n",
    "sns.heatmap(conf_matrix, annot=True, fmt=\"d\", cmap=\"Blues\", xticklabels=[\"Positivo\", \"Negativo\"], yticklabels=[\"Positivo\", \"Negativo\"])\n",
    "plt.xlabel(\"Previsto\")\n",
    "plt.ylabel(\"Real\")\n",
    "plt.title(\"Matriz de Confusão\")\n",
    "plt.show()"
   ]
  },
  {
   "cell_type": "markdown",
   "id": "57d53358-c2c8-4012-b375-a1c51721f455",
   "metadata": {},
   "source": [
    "#### BernoulliNB"
   ]
  },
  {
   "cell_type": "code",
   "execution_count": 40,
   "id": "3134488a-bcbd-4ee5-b632-9417c37e3203",
   "metadata": {},
   "outputs": [],
   "source": [
    "from sklearn.naive_bayes import BernoulliNB\n",
    "\n",
    "bNB = BernoulliNB()\n",
    "bNB.fit(x_train, y_train)\n",
    "\n",
    "y_predict_Bernou = bNB.predict(x_test)"
   ]
  },
  {
   "cell_type": "markdown",
   "id": "5d36ee1c-40c7-4101-96b7-ca0ca4d0c5e9",
   "metadata": {},
   "source": [
    "##### Accuracy"
   ]
  },
  {
   "cell_type": "code",
   "execution_count": 41,
   "id": "eadf8a0c-474d-4ffe-b071-4fc4a0c56393",
   "metadata": {},
   "outputs": [
    {
     "name": "stdout",
     "output_type": "stream",
     "text": [
      "Accuracy: 0.84520701230884\n"
     ]
    }
   ],
   "source": [
    "accuracy_Bernou = accuracy_score(y_test, y_predict_Bernou)\n",
    "print(\"Accuracy:\", accuracy_Bernou)"
   ]
  },
  {
   "cell_type": "markdown",
   "id": "67eec001-cd52-4cbd-8e68-ec2759a8ec4f",
   "metadata": {},
   "source": [
    "##### Matriz Confusão"
   ]
  },
  {
   "cell_type": "code",
   "execution_count": 42,
   "id": "6335fd62-9e3f-4bfd-acb9-b950c0543168",
   "metadata": {},
   "outputs": [
    {
     "data": {
      "image/png": "[encoded data removed]",
      "text/plain": [
       "<Figure size 640x480 with 2 Axes>"
      ]
     },
     "metadata": {},
     "output_type": "display_data"
    }
   ],
   "source": [
    "from sklearn.metrics import confusion_matrix\n",
    "import seaborn as sns\n",
    "import matplotlib.pyplot as plt\n",
    "\n",
    "conf_matrix = confusion_matrix(y_test, y_predict_Bernou)\n",
    "\n",
    "sns.heatmap(conf_matrix, annot=True, fmt=\"d\", cmap=\"Blues\", xticklabels=[\"Positivo\", \"Negativo\"], yticklabels=[\"Positivo\", \"Negativo\"])\n",
    "plt.xlabel(\"Previsto\")\n",
    "plt.ylabel(\"Real\")\n",
    "plt.title(\"Matriz de Confusão\")\n",
    "plt.show()"
   ]
  },
  {
   "cell_type": "markdown",
   "id": "d80268ff-b243-4e2e-9788-9cb79ec172f7",
   "metadata": {},
   "source": [
    "### Comparação de resultados"
   ]
  },
  {
   "cell_type": "code",
   "execution_count": 43,
   "id": "8eb2dc03-d33e-4158-bcdf-82f050e6c74d",
   "metadata": {},
   "outputs": [
    {
     "name": "stdout",
     "output_type": "stream",
     "text": [
      "Multinomial Accuracy: 0.8008205893323387\n",
      "Gaussian Accuracy: 0.9261469600895188\n",
      "Complement Accuracy: 0.8049235359940321\n",
      "Bernoulli Accuracy: 0.84520701230884\n"
     ]
    }
   ],
   "source": [
    "print(\"Multinomial Accuracy:\", accuracy_Multi)\n",
    "print(\"Gaussian Accuracy:\", accuracy_Gauss)\n",
    "print(\"Complement Accuracy:\", accuracy_Complem)\n",
    "print(\"Bernoulli Accuracy:\", accuracy_Bernou)"
   ]
  },
  {
   "cell_type": "markdown",
   "id": "08bc44fc-0f58-449c-a037-698899d71922",
   "metadata": {},
   "source": [
    "## Breast Cancer Wisconsin (Diagnostic) Dataset"
   ]
  },
  {
   "cell_type": "markdown",
   "id": "06eec7c0-05b6-4547-85d8-50255a8a9591",
   "metadata": {},
   "source": [
    "### Download do Dataset"
   ]
  },
  {
   "cell_type": "code",
   "execution_count": 23,
   "id": "621e2b69-da84-4da3-ae1f-e1558a187980",
   "metadata": {},
   "outputs": [
    {
     "name": "stdout",
     "output_type": "stream",
     "text": [
      "Warning: Looks like you're using an outdated `kagglehub` version (installed: 0.3.9), please consider upgrading to the latest version (0.3.11).\n",
      "Path to dataset files: C:\\Users\\SBUtilizador\\.cache\\kagglehub\\datasets\\uciml\\breast-cancer-wisconsin-data\\versions\\2\n"
     ]
    }
   ],
   "source": [
    "import kagglehub\n",
    "\n",
    "# Download latest version\n",
    "path = kagglehub.dataset_download(\"uciml/breast-cancer-wisconsin-data\")\n",
    "\n",
    "print(\"Path to dataset files:\", path)"
   ]
  },
  {
   "cell_type": "markdown",
   "id": "850440b3-ce0d-49d8-82b0-547ed13e70a7",
   "metadata": {},
   "source": [
    "### Importar Dataset"
   ]
  },
  {
   "cell_type": "code",
   "execution_count": 1,
   "id": "15633c7a-a24c-44df-a503-374fe08f856e",
   "metadata": {},
   "outputs": [
    {
     "ename": "NameError",
     "evalue": "name 'pd' is not defined",
     "output_type": "error",
     "traceback": [
      "\u001b[1;31m---------------------------------------------------------------------------\u001b[0m",
      "\u001b[1;31mNameError\u001b[0m                                 Traceback (most recent call last)",
      "Cell \u001b[1;32mIn[1], line 1\u001b[0m\n\u001b[1;32m----> 1\u001b[0m df_bcw \u001b[38;5;241m=\u001b[39m pd\u001b[38;5;241m.\u001b[39mread_csv(\u001b[38;5;124m'\u001b[39m\u001b[38;5;124mbreast-cancer-wisconsin-data/data.csv\u001b[39m\u001b[38;5;124m'\u001b[39m)\n",
      "\u001b[1;31mNameError\u001b[0m: name 'pd' is not defined"
     ]
    }
   ],
   "source": [
    "df_bcw = pd.read_csv('breast-cancer-wisconsin-data/data.csv')#, sep=',', header=None, names=[\"id\",\"diagnosis\",\"radius_mean\",\"texture_mean\",\"perimeter_mean\",\"area_mean\",\"smoothness_mean\",\"compactness_mean\",\"concavity_mean\",\"concave\"])"
   ]
  },
  {
   "cell_type": "markdown",
   "id": "27155ec0-9041-4346-9553-efc2a7689b47",
   "metadata": {},
   "source": [
    "### Verificar se não existe valores nulos"
   ]
  },
  {
   "cell_type": "code",
   "execution_count": 45,
   "id": "2c0c6611-112e-414d-a4be-2dd66db46005",
   "metadata": {},
   "outputs": [
    {
     "data": {
      "text/plain": [
       "id                           0\n",
       "diagnosis                    0\n",
       "radius_mean                  0\n",
       "texture_mean                 0\n",
       "perimeter_mean               0\n",
       "area_mean                    0\n",
       "smoothness_mean              0\n",
       "compactness_mean             0\n",
       "concavity_mean               0\n",
       "concave points_mean          0\n",
       "symmetry_mean                0\n",
       "fractal_dimension_mean       0\n",
       "radius_se                    0\n",
       "texture_se                   0\n",
       "perimeter_se                 0\n",
       "area_se                      0\n",
       "smoothness_se                0\n",
       "compactness_se               0\n",
       "concavity_se                 0\n",
       "concave points_se            0\n",
       "symmetry_se                  0\n",
       "fractal_dimension_se         0\n",
       "radius_worst                 0\n",
       "texture_worst                0\n",
       "perimeter_worst              0\n",
       "area_worst                   0\n",
       "smoothness_worst             0\n",
       "compactness_worst            0\n",
       "concavity_worst              0\n",
       "concave points_worst         0\n",
       "symmetry_worst               0\n",
       "fractal_dimension_worst      0\n",
       "Unnamed: 32                569\n",
       "dtype: int64"
      ]
     },
     "execution_count": 45,
     "metadata": {},
     "output_type": "execute_result"
    }
   ],
   "source": [
    "df_bcw.isnull().sum()"
   ]
  },
  {
   "cell_type": "markdown",
   "id": "892e9246-6f86-4e3e-a349-2205ebb69dbb",
   "metadata": {},
   "source": [
    "### Perceber quantidade diferente de dados presente em cada coluna"
   ]
  },
  {
   "cell_type": "code",
   "execution_count": 46,
   "id": "b62b8c4a-6da6-4e3b-893e-a1af0b9e9a6b",
   "metadata": {},
   "outputs": [
    {
     "data": {
      "text/plain": [
       "id                         569\n",
       "diagnosis                    2\n",
       "radius_mean                456\n",
       "texture_mean               479\n",
       "perimeter_mean             522\n",
       "area_mean                  539\n",
       "smoothness_mean            474\n",
       "compactness_mean           537\n",
       "concavity_mean             537\n",
       "concave points_mean        542\n",
       "symmetry_mean              432\n",
       "fractal_dimension_mean     499\n",
       "radius_se                  540\n",
       "texture_se                 519\n",
       "perimeter_se               533\n",
       "area_se                    528\n",
       "smoothness_se              547\n",
       "compactness_se             541\n",
       "concavity_se               533\n",
       "concave points_se          507\n",
       "symmetry_se                498\n",
       "fractal_dimension_se       545\n",
       "radius_worst               457\n",
       "texture_worst              511\n",
       "perimeter_worst            514\n",
       "area_worst                 544\n",
       "smoothness_worst           411\n",
       "compactness_worst          529\n",
       "concavity_worst            539\n",
       "concave points_worst       492\n",
       "symmetry_worst             500\n",
       "fractal_dimension_worst    535\n",
       "Unnamed: 32                  0\n",
       "dtype: int64"
      ]
     },
     "execution_count": 46,
     "metadata": {},
     "output_type": "execute_result"
    }
   ],
   "source": [
    "df_bcw.nunique()"
   ]
  },
  {
   "cell_type": "markdown",
   "id": "2819415f-e478-4b83-aba3-f4386b3a0f4d",
   "metadata": {},
   "source": [
    "### Dimensão do Dataset"
   ]
  },
  {
   "cell_type": "code",
   "execution_count": 47,
   "id": "b74023f4-0ce2-46ec-b78e-d4f5d0238b6f",
   "metadata": {},
   "outputs": [
    {
     "data": {
      "text/plain": [
       "(569, 33)"
      ]
     },
     "execution_count": 47,
     "metadata": {},
     "output_type": "execute_result"
    }
   ],
   "source": [
    "df_bcw.shape"
   ]
  },
  {
   "cell_type": "markdown",
   "id": "e53e1e17-4cd0-47dc-a912-e8fa0c21b101",
   "metadata": {},
   "source": [
    "### Visulaizar 5 primeiras linhas do Dataset"
   ]
  },
  {
   "cell_type": "code",
   "execution_count": 48,
   "id": "663b24e0-3f79-4d02-8ed0-11993a36e0f1",
   "metadata": {},
   "outputs": [
    {
     "data": {
      "text/html": [
       "<div>\n",
       "<style scoped>\n",
       "    .dataframe tbody tr th:only-of-type {\n",
       "        vertical-align: middle;\n",
       "    }\n",
       "\n",
       "    .dataframe tbody tr th {\n",
       "        vertical-align: top;\n",
       "    }\n",
       "\n",
       "    .dataframe thead th {\n",
       "        text-align: right;\n",
       "    }\n",
       "</style>\n",
       "<table border=\"1\" class=\"dataframe\">\n",
       "  <thead>\n",
       "    <tr style=\"text-align: right;\">\n",
       "      <th></th>\n",
       "      <th>id</th>\n",
       "      <th>diagnosis</th>\n",
       "      <th>radius_mean</th>\n",
       "      <th>texture_mean</th>\n",
       "      <th>perimeter_mean</th>\n",
       "      <th>area_mean</th>\n",
       "      <th>smoothness_mean</th>\n",
       "      <th>compactness_mean</th>\n",
       "      <th>concavity_mean</th>\n",
       "      <th>concave points_mean</th>\n",
       "      <th>...</th>\n",
       "      <th>texture_worst</th>\n",
       "      <th>perimeter_worst</th>\n",
       "      <th>area_worst</th>\n",
       "      <th>smoothness_worst</th>\n",
       "      <th>compactness_worst</th>\n",
       "      <th>concavity_worst</th>\n",
       "      <th>concave points_worst</th>\n",
       "      <th>symmetry_worst</th>\n",
       "      <th>fractal_dimension_worst</th>\n",
       "      <th>Unnamed: 32</th>\n",
       "    </tr>\n",
       "  </thead>\n",
       "  <tbody>\n",
       "    <tr>\n",
       "      <th>0</th>\n",
       "      <td>842302</td>\n",
       "      <td>M</td>\n",
       "      <td>17.99</td>\n",
       "      <td>10.38</td>\n",
       "      <td>122.80</td>\n",
       "      <td>1001.0</td>\n",
       "      <td>0.11840</td>\n",
       "      <td>0.27760</td>\n",
       "      <td>0.3001</td>\n",
       "      <td>0.14710</td>\n",
       "      <td>...</td>\n",
       "      <td>17.33</td>\n",
       "      <td>184.60</td>\n",
       "      <td>2019.0</td>\n",
       "      <td>0.1622</td>\n",
       "      <td>0.6656</td>\n",
       "      <td>0.7119</td>\n",
       "      <td>0.2654</td>\n",
       "      <td>0.4601</td>\n",
       "      <td>0.11890</td>\n",
       "      <td>NaN</td>\n",
       "    </tr>\n",
       "    <tr>\n",
       "      <th>1</th>\n",
       "      <td>842517</td>\n",
       "      <td>M</td>\n",
       "      <td>20.57</td>\n",
       "      <td>17.77</td>\n",
       "      <td>132.90</td>\n",
       "      <td>1326.0</td>\n",
       "      <td>0.08474</td>\n",
       "      <td>0.07864</td>\n",
       "      <td>0.0869</td>\n",
       "      <td>0.07017</td>\n",
       "      <td>...</td>\n",
       "      <td>23.41</td>\n",
       "      <td>158.80</td>\n",
       "      <td>1956.0</td>\n",
       "      <td>0.1238</td>\n",
       "      <td>0.1866</td>\n",
       "      <td>0.2416</td>\n",
       "      <td>0.1860</td>\n",
       "      <td>0.2750</td>\n",
       "      <td>0.08902</td>\n",
       "      <td>NaN</td>\n",
       "    </tr>\n",
       "    <tr>\n",
       "      <th>2</th>\n",
       "      <td>84300903</td>\n",
       "      <td>M</td>\n",
       "      <td>19.69</td>\n",
       "      <td>21.25</td>\n",
       "      <td>130.00</td>\n",
       "      <td>1203.0</td>\n",
       "      <td>0.10960</td>\n",
       "      <td>0.15990</td>\n",
       "      <td>0.1974</td>\n",
       "      <td>0.12790</td>\n",
       "      <td>...</td>\n",
       "      <td>25.53</td>\n",
       "      <td>152.50</td>\n",
       "      <td>1709.0</td>\n",
       "      <td>0.1444</td>\n",
       "      <td>0.4245</td>\n",
       "      <td>0.4504</td>\n",
       "      <td>0.2430</td>\n",
       "      <td>0.3613</td>\n",
       "      <td>0.08758</td>\n",
       "      <td>NaN</td>\n",
       "    </tr>\n",
       "    <tr>\n",
       "      <th>3</th>\n",
       "      <td>84348301</td>\n",
       "      <td>M</td>\n",
       "      <td>11.42</td>\n",
       "      <td>20.38</td>\n",
       "      <td>77.58</td>\n",
       "      <td>386.1</td>\n",
       "      <td>0.14250</td>\n",
       "      <td>0.28390</td>\n",
       "      <td>0.2414</td>\n",
       "      <td>0.10520</td>\n",
       "      <td>...</td>\n",
       "      <td>26.50</td>\n",
       "      <td>98.87</td>\n",
       "      <td>567.7</td>\n",
       "      <td>0.2098</td>\n",
       "      <td>0.8663</td>\n",
       "      <td>0.6869</td>\n",
       "      <td>0.2575</td>\n",
       "      <td>0.6638</td>\n",
       "      <td>0.17300</td>\n",
       "      <td>NaN</td>\n",
       "    </tr>\n",
       "    <tr>\n",
       "      <th>4</th>\n",
       "      <td>84358402</td>\n",
       "      <td>M</td>\n",
       "      <td>20.29</td>\n",
       "      <td>14.34</td>\n",
       "      <td>135.10</td>\n",
       "      <td>1297.0</td>\n",
       "      <td>0.10030</td>\n",
       "      <td>0.13280</td>\n",
       "      <td>0.1980</td>\n",
       "      <td>0.10430</td>\n",
       "      <td>...</td>\n",
       "      <td>16.67</td>\n",
       "      <td>152.20</td>\n",
       "      <td>1575.0</td>\n",
       "      <td>0.1374</td>\n",
       "      <td>0.2050</td>\n",
       "      <td>0.4000</td>\n",
       "      <td>0.1625</td>\n",
       "      <td>0.2364</td>\n",
       "      <td>0.07678</td>\n",
       "      <td>NaN</td>\n",
       "    </tr>\n",
       "  </tbody>\n",
       "</table>\n",
       "<p>5 rows × 33 columns</p>\n",
       "</div>"
      ],
      "text/plain": [
       "         id diagnosis  radius_mean  texture_mean  perimeter_mean  area_mean  \\\n",
       "0    842302         M        17.99         10.38          122.80     1001.0   \n",
       "1    842517         M        20.57         17.77          132.90     1326.0   \n",
       "2  84300903         M        19.69         21.25          130.00     1203.0   \n",
       "3  84348301         M        11.42         20.38           77.58      386.1   \n",
       "4  84358402         M        20.29         14.34          135.10     1297.0   \n",
       "\n",
       "   smoothness_mean  compactness_mean  concavity_mean  concave points_mean  \\\n",
       "0          0.11840           0.27760          0.3001              0.14710   \n",
       "1          0.08474           0.07864          0.0869              0.07017   \n",
       "2          0.10960           0.15990          0.1974              0.12790   \n",
       "3          0.14250           0.28390          0.2414              0.10520   \n",
       "4          0.10030           0.13280          0.1980              0.10430   \n",
       "\n",
       "   ...  texture_worst  perimeter_worst  area_worst  smoothness_worst  \\\n",
       "0  ...          17.33           184.60      2019.0            0.1622   \n",
       "1  ...          23.41           158.80      1956.0            0.1238   \n",
       "2  ...          25.53           152.50      1709.0            0.1444   \n",
       "3  ...          26.50            98.87       567.7            0.2098   \n",
       "4  ...          16.67           152.20      1575.0            0.1374   \n",
       "\n",
       "   compactness_worst  concavity_worst  concave points_worst  symmetry_worst  \\\n",
       "0             0.6656           0.7119                0.2654          0.4601   \n",
       "1             0.1866           0.2416                0.1860          0.2750   \n",
       "2             0.4245           0.4504                0.2430          0.3613   \n",
       "3             0.8663           0.6869                0.2575          0.6638   \n",
       "4             0.2050           0.4000                0.1625          0.2364   \n",
       "\n",
       "   fractal_dimension_worst  Unnamed: 32  \n",
       "0                  0.11890          NaN  \n",
       "1                  0.08902          NaN  \n",
       "2                  0.08758          NaN  \n",
       "3                  0.17300          NaN  \n",
       "4                  0.07678          NaN  \n",
       "\n",
       "[5 rows x 33 columns]"
      ]
     },
     "execution_count": 48,
     "metadata": {},
     "output_type": "execute_result"
    }
   ],
   "source": [
    "df_bcw.head()"
   ]
  },
  {
   "cell_type": "markdown",
   "id": "d5e013f9-925f-489c-864a-b0c1ab99b6c6",
   "metadata": {},
   "source": [
    "### Eliminar coluna \"id\" e \"Unnamed: 32\" do Dataset"
   ]
  },
  {
   "cell_type": "code",
   "execution_count": 49,
   "id": "8f55e1a8-42be-4aa8-8bd6-3e952289a8ce",
   "metadata": {},
   "outputs": [
    {
     "data": {
      "text/html": [
       "<div>\n",
       "<style scoped>\n",
       "    .dataframe tbody tr th:only-of-type {\n",
       "        vertical-align: middle;\n",
       "    }\n",
       "\n",
       "    .dataframe tbody tr th {\n",
       "        vertical-align: top;\n",
       "    }\n",
       "\n",
       "    .dataframe thead th {\n",
       "        text-align: right;\n",
       "    }\n",
       "</style>\n",
       "<table border=\"1\" class=\"dataframe\">\n",
       "  <thead>\n",
       "    <tr style=\"text-align: right;\">\n",
       "      <th></th>\n",
       "      <th>diagnosis</th>\n",
       "      <th>radius_mean</th>\n",
       "      <th>texture_mean</th>\n",
       "      <th>perimeter_mean</th>\n",
       "      <th>area_mean</th>\n",
       "      <th>smoothness_mean</th>\n",
       "      <th>compactness_mean</th>\n",
       "      <th>concavity_mean</th>\n",
       "      <th>concave points_mean</th>\n",
       "      <th>symmetry_mean</th>\n",
       "      <th>...</th>\n",
       "      <th>radius_worst</th>\n",
       "      <th>texture_worst</th>\n",
       "      <th>perimeter_worst</th>\n",
       "      <th>area_worst</th>\n",
       "      <th>smoothness_worst</th>\n",
       "      <th>compactness_worst</th>\n",
       "      <th>concavity_worst</th>\n",
       "      <th>concave points_worst</th>\n",
       "      <th>symmetry_worst</th>\n",
       "      <th>fractal_dimension_worst</th>\n",
       "    </tr>\n",
       "  </thead>\n",
       "  <tbody>\n",
       "    <tr>\n",
       "      <th>0</th>\n",
       "      <td>M</td>\n",
       "      <td>17.99</td>\n",
       "      <td>10.38</td>\n",
       "      <td>122.80</td>\n",
       "      <td>1001.0</td>\n",
       "      <td>0.11840</td>\n",
       "      <td>0.27760</td>\n",
       "      <td>0.3001</td>\n",
       "      <td>0.14710</td>\n",
       "      <td>0.2419</td>\n",
       "      <td>...</td>\n",
       "      <td>25.38</td>\n",
       "      <td>17.33</td>\n",
       "      <td>184.60</td>\n",
       "      <td>2019.0</td>\n",
       "      <td>0.1622</td>\n",
       "      <td>0.6656</td>\n",
       "      <td>0.7119</td>\n",
       "      <td>0.2654</td>\n",
       "      <td>0.4601</td>\n",
       "      <td>0.11890</td>\n",
       "    </tr>\n",
       "    <tr>\n",
       "      <th>1</th>\n",
       "      <td>M</td>\n",
       "      <td>20.57</td>\n",
       "      <td>17.77</td>\n",
       "      <td>132.90</td>\n",
       "      <td>1326.0</td>\n",
       "      <td>0.08474</td>\n",
       "      <td>0.07864</td>\n",
       "      <td>0.0869</td>\n",
       "      <td>0.07017</td>\n",
       "      <td>0.1812</td>\n",
       "      <td>...</td>\n",
       "      <td>24.99</td>\n",
       "      <td>23.41</td>\n",
       "      <td>158.80</td>\n",
       "      <td>1956.0</td>\n",
       "      <td>0.1238</td>\n",
       "      <td>0.1866</td>\n",
       "      <td>0.2416</td>\n",
       "      <td>0.1860</td>\n",
       "      <td>0.2750</td>\n",
       "      <td>0.08902</td>\n",
       "    </tr>\n",
       "    <tr>\n",
       "      <th>2</th>\n",
       "      <td>M</td>\n",
       "      <td>19.69</td>\n",
       "      <td>21.25</td>\n",
       "      <td>130.00</td>\n",
       "      <td>1203.0</td>\n",
       "      <td>0.10960</td>\n",
       "      <td>0.15990</td>\n",
       "      <td>0.1974</td>\n",
       "      <td>0.12790</td>\n",
       "      <td>0.2069</td>\n",
       "      <td>...</td>\n",
       "      <td>23.57</td>\n",
       "      <td>25.53</td>\n",
       "      <td>152.50</td>\n",
       "      <td>1709.0</td>\n",
       "      <td>0.1444</td>\n",
       "      <td>0.4245</td>\n",
       "      <td>0.4504</td>\n",
       "      <td>0.2430</td>\n",
       "      <td>0.3613</td>\n",
       "      <td>0.08758</td>\n",
       "    </tr>\n",
       "    <tr>\n",
       "      <th>3</th>\n",
       "      <td>M</td>\n",
       "      <td>11.42</td>\n",
       "      <td>20.38</td>\n",
       "      <td>77.58</td>\n",
       "      <td>386.1</td>\n",
       "      <td>0.14250</td>\n",
       "      <td>0.28390</td>\n",
       "      <td>0.2414</td>\n",
       "      <td>0.10520</td>\n",
       "      <td>0.2597</td>\n",
       "      <td>...</td>\n",
       "      <td>14.91</td>\n",
       "      <td>26.50</td>\n",
       "      <td>98.87</td>\n",
       "      <td>567.7</td>\n",
       "      <td>0.2098</td>\n",
       "      <td>0.8663</td>\n",
       "      <td>0.6869</td>\n",
       "      <td>0.2575</td>\n",
       "      <td>0.6638</td>\n",
       "      <td>0.17300</td>\n",
       "    </tr>\n",
       "    <tr>\n",
       "      <th>4</th>\n",
       "      <td>M</td>\n",
       "      <td>20.29</td>\n",
       "      <td>14.34</td>\n",
       "      <td>135.10</td>\n",
       "      <td>1297.0</td>\n",
       "      <td>0.10030</td>\n",
       "      <td>0.13280</td>\n",
       "      <td>0.1980</td>\n",
       "      <td>0.10430</td>\n",
       "      <td>0.1809</td>\n",
       "      <td>...</td>\n",
       "      <td>22.54</td>\n",
       "      <td>16.67</td>\n",
       "      <td>152.20</td>\n",
       "      <td>1575.0</td>\n",
       "      <td>0.1374</td>\n",
       "      <td>0.2050</td>\n",
       "      <td>0.4000</td>\n",
       "      <td>0.1625</td>\n",
       "      <td>0.2364</td>\n",
       "      <td>0.07678</td>\n",
       "    </tr>\n",
       "  </tbody>\n",
       "</table>\n",
       "<p>5 rows × 31 columns</p>\n",
       "</div>"
      ],
      "text/plain": [
       "  diagnosis  radius_mean  texture_mean  perimeter_mean  area_mean  \\\n",
       "0         M        17.99         10.38          122.80     1001.0   \n",
       "1         M        20.57         17.77          132.90     1326.0   \n",
       "2         M        19.69         21.25          130.00     1203.0   \n",
       "3         M        11.42         20.38           77.58      386.1   \n",
       "4         M        20.29         14.34          135.10     1297.0   \n",
       "\n",
       "   smoothness_mean  compactness_mean  concavity_mean  concave points_mean  \\\n",
       "0          0.11840           0.27760          0.3001              0.14710   \n",
       "1          0.08474           0.07864          0.0869              0.07017   \n",
       "2          0.10960           0.15990          0.1974              0.12790   \n",
       "3          0.14250           0.28390          0.2414              0.10520   \n",
       "4          0.10030           0.13280          0.1980              0.10430   \n",
       "\n",
       "   symmetry_mean  ...  radius_worst  texture_worst  perimeter_worst  \\\n",
       "0         0.2419  ...         25.38          17.33           184.60   \n",
       "1         0.1812  ...         24.99          23.41           158.80   \n",
       "2         0.2069  ...         23.57          25.53           152.50   \n",
       "3         0.2597  ...         14.91          26.50            98.87   \n",
       "4         0.1809  ...         22.54          16.67           152.20   \n",
       "\n",
       "   area_worst  smoothness_worst  compactness_worst  concavity_worst  \\\n",
       "0      2019.0            0.1622             0.6656           0.7119   \n",
       "1      1956.0            0.1238             0.1866           0.2416   \n",
       "2      1709.0            0.1444             0.4245           0.4504   \n",
       "3       567.7            0.2098             0.8663           0.6869   \n",
       "4      1575.0            0.1374             0.2050           0.4000   \n",
       "\n",
       "   concave points_worst  symmetry_worst  fractal_dimension_worst  \n",
       "0                0.2654          0.4601                  0.11890  \n",
       "1                0.1860          0.2750                  0.08902  \n",
       "2                0.2430          0.3613                  0.08758  \n",
       "3                0.2575          0.6638                  0.17300  \n",
       "4                0.1625          0.2364                  0.07678  \n",
       "\n",
       "[5 rows x 31 columns]"
      ]
     },
     "execution_count": 49,
     "metadata": {},
     "output_type": "execute_result"
    }
   ],
   "source": [
    "df_bcw.drop(columns=['id', 'Unnamed: 32'], axis=1, inplace=True)\n",
    "df_bcw.head()"
   ]
  },
  {
   "cell_type": "markdown",
   "id": "9d7c49fa-35b5-4519-9a06-942eef410d37",
   "metadata": {},
   "source": [
    "### Alterar valor de Y de M e B para 0 e 1 respetivamente"
   ]
  },
  {
   "cell_type": "code",
   "execution_count": 51,
   "id": "3f477fac-f747-458e-8869-379afe847230",
   "metadata": {},
   "outputs": [
    {
     "name": "stderr",
     "output_type": "stream",
     "text": [
      "C:\\Users\\SBUtilizador\\AppData\\Local\\Temp\\ipykernel_12332\\2577212.py:1: FutureWarning: A value is trying to be set on a copy of a DataFrame or Series through chained assignment using an inplace method.\n",
      "The behavior will change in pandas 3.0. This inplace method will never work because the intermediate object on which we are setting values always behaves as a copy.\n",
      "\n",
      "For example, when doing 'df[col].method(value, inplace=True)', try using 'df.method({col: value}, inplace=True)' or df[col] = df[col].method(value) instead, to perform the operation inplace on the original object.\n",
      "\n",
      "\n",
      "  df_bcw['diagnosis'].replace(['M', 'B'], [0, 1], inplace=True)\n",
      "C:\\Users\\SBUtilizador\\AppData\\Local\\Temp\\ipykernel_12332\\2577212.py:1: FutureWarning: Downcasting behavior in `replace` is deprecated and will be removed in a future version. To retain the old behavior, explicitly call `result.infer_objects(copy=False)`. To opt-in to the future behavior, set `pd.set_option('future.no_silent_downcasting', True)`\n",
      "  df_bcw['diagnosis'].replace(['M', 'B'], [0, 1], inplace=True)\n"
     ]
    },
    {
     "data": {
      "text/html": [
       "<div>\n",
       "<style scoped>\n",
       "    .dataframe tbody tr th:only-of-type {\n",
       "        vertical-align: middle;\n",
       "    }\n",
       "\n",
       "    .dataframe tbody tr th {\n",
       "        vertical-align: top;\n",
       "    }\n",
       "\n",
       "    .dataframe thead th {\n",
       "        text-align: right;\n",
       "    }\n",
       "</style>\n",
       "<table border=\"1\" class=\"dataframe\">\n",
       "  <thead>\n",
       "    <tr style=\"text-align: right;\">\n",
       "      <th></th>\n",
       "      <th>diagnosis</th>\n",
       "      <th>radius_mean</th>\n",
       "      <th>texture_mean</th>\n",
       "      <th>perimeter_mean</th>\n",
       "      <th>area_mean</th>\n",
       "      <th>smoothness_mean</th>\n",
       "      <th>compactness_mean</th>\n",
       "      <th>concavity_mean</th>\n",
       "      <th>concave points_mean</th>\n",
       "      <th>symmetry_mean</th>\n",
       "      <th>...</th>\n",
       "      <th>radius_worst</th>\n",
       "      <th>texture_worst</th>\n",
       "      <th>perimeter_worst</th>\n",
       "      <th>area_worst</th>\n",
       "      <th>smoothness_worst</th>\n",
       "      <th>compactness_worst</th>\n",
       "      <th>concavity_worst</th>\n",
       "      <th>concave points_worst</th>\n",
       "      <th>symmetry_worst</th>\n",
       "      <th>fractal_dimension_worst</th>\n",
       "    </tr>\n",
       "  </thead>\n",
       "  <tbody>\n",
       "    <tr>\n",
       "      <th>0</th>\n",
       "      <td>0</td>\n",
       "      <td>17.99</td>\n",
       "      <td>10.38</td>\n",
       "      <td>122.80</td>\n",
       "      <td>1001.0</td>\n",
       "      <td>0.11840</td>\n",
       "      <td>0.27760</td>\n",
       "      <td>0.3001</td>\n",
       "      <td>0.14710</td>\n",
       "      <td>0.2419</td>\n",
       "      <td>...</td>\n",
       "      <td>25.38</td>\n",
       "      <td>17.33</td>\n",
       "      <td>184.60</td>\n",
       "      <td>2019.0</td>\n",
       "      <td>0.1622</td>\n",
       "      <td>0.6656</td>\n",
       "      <td>0.7119</td>\n",
       "      <td>0.2654</td>\n",
       "      <td>0.4601</td>\n",
       "      <td>0.11890</td>\n",
       "    </tr>\n",
       "    <tr>\n",
       "      <th>1</th>\n",
       "      <td>0</td>\n",
       "      <td>20.57</td>\n",
       "      <td>17.77</td>\n",
       "      <td>132.90</td>\n",
       "      <td>1326.0</td>\n",
       "      <td>0.08474</td>\n",
       "      <td>0.07864</td>\n",
       "      <td>0.0869</td>\n",
       "      <td>0.07017</td>\n",
       "      <td>0.1812</td>\n",
       "      <td>...</td>\n",
       "      <td>24.99</td>\n",
       "      <td>23.41</td>\n",
       "      <td>158.80</td>\n",
       "      <td>1956.0</td>\n",
       "      <td>0.1238</td>\n",
       "      <td>0.1866</td>\n",
       "      <td>0.2416</td>\n",
       "      <td>0.1860</td>\n",
       "      <td>0.2750</td>\n",
       "      <td>0.08902</td>\n",
       "    </tr>\n",
       "    <tr>\n",
       "      <th>2</th>\n",
       "      <td>0</td>\n",
       "      <td>19.69</td>\n",
       "      <td>21.25</td>\n",
       "      <td>130.00</td>\n",
       "      <td>1203.0</td>\n",
       "      <td>0.10960</td>\n",
       "      <td>0.15990</td>\n",
       "      <td>0.1974</td>\n",
       "      <td>0.12790</td>\n",
       "      <td>0.2069</td>\n",
       "      <td>...</td>\n",
       "      <td>23.57</td>\n",
       "      <td>25.53</td>\n",
       "      <td>152.50</td>\n",
       "      <td>1709.0</td>\n",
       "      <td>0.1444</td>\n",
       "      <td>0.4245</td>\n",
       "      <td>0.4504</td>\n",
       "      <td>0.2430</td>\n",
       "      <td>0.3613</td>\n",
       "      <td>0.08758</td>\n",
       "    </tr>\n",
       "    <tr>\n",
       "      <th>3</th>\n",
       "      <td>0</td>\n",
       "      <td>11.42</td>\n",
       "      <td>20.38</td>\n",
       "      <td>77.58</td>\n",
       "      <td>386.1</td>\n",
       "      <td>0.14250</td>\n",
       "      <td>0.28390</td>\n",
       "      <td>0.2414</td>\n",
       "      <td>0.10520</td>\n",
       "      <td>0.2597</td>\n",
       "      <td>...</td>\n",
       "      <td>14.91</td>\n",
       "      <td>26.50</td>\n",
       "      <td>98.87</td>\n",
       "      <td>567.7</td>\n",
       "      <td>0.2098</td>\n",
       "      <td>0.8663</td>\n",
       "      <td>0.6869</td>\n",
       "      <td>0.2575</td>\n",
       "      <td>0.6638</td>\n",
       "      <td>0.17300</td>\n",
       "    </tr>\n",
       "    <tr>\n",
       "      <th>4</th>\n",
       "      <td>0</td>\n",
       "      <td>20.29</td>\n",
       "      <td>14.34</td>\n",
       "      <td>135.10</td>\n",
       "      <td>1297.0</td>\n",
       "      <td>0.10030</td>\n",
       "      <td>0.13280</td>\n",
       "      <td>0.1980</td>\n",
       "      <td>0.10430</td>\n",
       "      <td>0.1809</td>\n",
       "      <td>...</td>\n",
       "      <td>22.54</td>\n",
       "      <td>16.67</td>\n",
       "      <td>152.20</td>\n",
       "      <td>1575.0</td>\n",
       "      <td>0.1374</td>\n",
       "      <td>0.2050</td>\n",
       "      <td>0.4000</td>\n",
       "      <td>0.1625</td>\n",
       "      <td>0.2364</td>\n",
       "      <td>0.07678</td>\n",
       "    </tr>\n",
       "  </tbody>\n",
       "</table>\n",
       "<p>5 rows × 31 columns</p>\n",
       "</div>"
      ],
      "text/plain": [
       "   diagnosis  radius_mean  texture_mean  perimeter_mean  area_mean  \\\n",
       "0          0        17.99         10.38          122.80     1001.0   \n",
       "1          0        20.57         17.77          132.90     1326.0   \n",
       "2          0        19.69         21.25          130.00     1203.0   \n",
       "3          0        11.42         20.38           77.58      386.1   \n",
       "4          0        20.29         14.34          135.10     1297.0   \n",
       "\n",
       "   smoothness_mean  compactness_mean  concavity_mean  concave points_mean  \\\n",
       "0          0.11840           0.27760          0.3001              0.14710   \n",
       "1          0.08474           0.07864          0.0869              0.07017   \n",
       "2          0.10960           0.15990          0.1974              0.12790   \n",
       "3          0.14250           0.28390          0.2414              0.10520   \n",
       "4          0.10030           0.13280          0.1980              0.10430   \n",
       "\n",
       "   symmetry_mean  ...  radius_worst  texture_worst  perimeter_worst  \\\n",
       "0         0.2419  ...         25.38          17.33           184.60   \n",
       "1         0.1812  ...         24.99          23.41           158.80   \n",
       "2         0.2069  ...         23.57          25.53           152.50   \n",
       "3         0.2597  ...         14.91          26.50            98.87   \n",
       "4         0.1809  ...         22.54          16.67           152.20   \n",
       "\n",
       "   area_worst  smoothness_worst  compactness_worst  concavity_worst  \\\n",
       "0      2019.0            0.1622             0.6656           0.7119   \n",
       "1      1956.0            0.1238             0.1866           0.2416   \n",
       "2      1709.0            0.1444             0.4245           0.4504   \n",
       "3       567.7            0.2098             0.8663           0.6869   \n",
       "4      1575.0            0.1374             0.2050           0.4000   \n",
       "\n",
       "   concave points_worst  symmetry_worst  fractal_dimension_worst  \n",
       "0                0.2654          0.4601                  0.11890  \n",
       "1                0.1860          0.2750                  0.08902  \n",
       "2                0.2430          0.3613                  0.08758  \n",
       "3                0.2575          0.6638                  0.17300  \n",
       "4                0.1625          0.2364                  0.07678  \n",
       "\n",
       "[5 rows x 31 columns]"
      ]
     },
     "execution_count": 51,
     "metadata": {},
     "output_type": "execute_result"
    }
   ],
   "source": [
    "df_bcw['diagnosis'].replace(['M', 'B'], [0, 1], inplace=True)\n",
    "df_bcw.head()"
   ]
  },
  {
   "cell_type": "markdown",
   "id": "0e67f97c-3ad0-4b3e-805f-14f66359736d",
   "metadata": {},
   "source": [
    "### Visualizar Informações do Dataset"
   ]
  },
  {
   "cell_type": "code",
   "execution_count": 52,
   "id": "8019fa2d-0cca-4138-9393-5263cbcbdaf3",
   "metadata": {},
   "outputs": [
    {
     "name": "stdout",
     "output_type": "stream",
     "text": [
      "<class 'pandas.core.frame.DataFrame'>\n",
      "RangeIndex: 569 entries, 0 to 568\n",
      "Data columns (total 31 columns):\n",
      " #   Column                   Non-Null Count  Dtype  \n",
      "---  ------                   --------------  -----  \n",
      " 0   diagnosis                569 non-null    int64  \n",
      " 1   radius_mean              569 non-null    float64\n",
      " 2   texture_mean             569 non-null    float64\n",
      " 3   perimeter_mean           569 non-null    float64\n",
      " 4   area_mean                569 non-null    float64\n",
      " 5   smoothness_mean          569 non-null    float64\n",
      " 6   compactness_mean         569 non-null    float64\n",
      " 7   concavity_mean           569 non-null    float64\n",
      " 8   concave points_mean      569 non-null    float64\n",
      " 9   symmetry_mean            569 non-null    float64\n",
      " 10  fractal_dimension_mean   569 non-null    float64\n",
      " 11  radius_se                569 non-null    float64\n",
      " 12  texture_se               569 non-null    float64\n",
      " 13  perimeter_se             569 non-null    float64\n",
      " 14  area_se                  569 non-null    float64\n",
      " 15  smoothness_se            569 non-null    float64\n",
      " 16  compactness_se           569 non-null    float64\n",
      " 17  concavity_se             569 non-null    float64\n",
      " 18  concave points_se        569 non-null    float64\n",
      " 19  symmetry_se              569 non-null    float64\n",
      " 20  fractal_dimension_se     569 non-null    float64\n",
      " 21  radius_worst             569 non-null    float64\n",
      " 22  texture_worst            569 non-null    float64\n",
      " 23  perimeter_worst          569 non-null    float64\n",
      " 24  area_worst               569 non-null    float64\n",
      " 25  smoothness_worst         569 non-null    float64\n",
      " 26  compactness_worst        569 non-null    float64\n",
      " 27  concavity_worst          569 non-null    float64\n",
      " 28  concave points_worst     569 non-null    float64\n",
      " 29  symmetry_worst           569 non-null    float64\n",
      " 30  fractal_dimension_worst  569 non-null    float64\n",
      "dtypes: float64(30), int64(1)\n",
      "memory usage: 137.9 KB\n"
     ]
    }
   ],
   "source": [
    "df_bcw.info()"
   ]
  },
  {
   "cell_type": "code",
   "execution_count": 53,
   "id": "7c9d5d53-e567-415c-92c0-b7fd2addde19",
   "metadata": {},
   "outputs": [
    {
     "data": {
      "text/plain": [
       "diagnosis                    2\n",
       "radius_mean                456\n",
       "texture_mean               479\n",
       "perimeter_mean             522\n",
       "area_mean                  539\n",
       "smoothness_mean            474\n",
       "compactness_mean           537\n",
       "concavity_mean             537\n",
       "concave points_mean        542\n",
       "symmetry_mean              432\n",
       "fractal_dimension_mean     499\n",
       "radius_se                  540\n",
       "texture_se                 519\n",
       "perimeter_se               533\n",
       "area_se                    528\n",
       "smoothness_se              547\n",
       "compactness_se             541\n",
       "concavity_se               533\n",
       "concave points_se          507\n",
       "symmetry_se                498\n",
       "fractal_dimension_se       545\n",
       "radius_worst               457\n",
       "texture_worst              511\n",
       "perimeter_worst            514\n",
       "area_worst                 544\n",
       "smoothness_worst           411\n",
       "compactness_worst          529\n",
       "concavity_worst            539\n",
       "concave points_worst       492\n",
       "symmetry_worst             500\n",
       "fractal_dimension_worst    535\n",
       "dtype: int64"
      ]
     },
     "execution_count": 53,
     "metadata": {},
     "output_type": "execute_result"
    }
   ],
   "source": [
    "df_bcw.nunique()"
   ]
  },
  {
   "cell_type": "markdown",
   "id": "b0874cf7-3938-4a49-bfc5-e87f08264028",
   "metadata": {},
   "source": [
    "### Visualizar Dados Estatísticos do Dataset"
   ]
  },
  {
   "cell_type": "code",
   "execution_count": 54,
   "id": "b3596c26-a067-41aa-9536-55402a3c9f3a",
   "metadata": {},
   "outputs": [
    {
     "data": {
      "text/html": [
       "<div>\n",
       "<style scoped>\n",
       "    .dataframe tbody tr th:only-of-type {\n",
       "        vertical-align: middle;\n",
       "    }\n",
       "\n",
       "    .dataframe tbody tr th {\n",
       "        vertical-align: top;\n",
       "    }\n",
       "\n",
       "    .dataframe thead th {\n",
       "        text-align: right;\n",
       "    }\n",
       "</style>\n",
       "<table border=\"1\" class=\"dataframe\">\n",
       "  <thead>\n",
       "    <tr style=\"text-align: right;\">\n",
       "      <th></th>\n",
       "      <th>diagnosis</th>\n",
       "      <th>radius_mean</th>\n",
       "      <th>texture_mean</th>\n",
       "      <th>perimeter_mean</th>\n",
       "      <th>area_mean</th>\n",
       "      <th>smoothness_mean</th>\n",
       "      <th>compactness_mean</th>\n",
       "      <th>concavity_mean</th>\n",
       "      <th>concave points_mean</th>\n",
       "      <th>symmetry_mean</th>\n",
       "      <th>...</th>\n",
       "      <th>radius_worst</th>\n",
       "      <th>texture_worst</th>\n",
       "      <th>perimeter_worst</th>\n",
       "      <th>area_worst</th>\n",
       "      <th>smoothness_worst</th>\n",
       "      <th>compactness_worst</th>\n",
       "      <th>concavity_worst</th>\n",
       "      <th>concave points_worst</th>\n",
       "      <th>symmetry_worst</th>\n",
       "      <th>fractal_dimension_worst</th>\n",
       "    </tr>\n",
       "  </thead>\n",
       "  <tbody>\n",
       "    <tr>\n",
       "      <th>count</th>\n",
       "      <td>569.000000</td>\n",
       "      <td>569.000000</td>\n",
       "      <td>569.000000</td>\n",
       "      <td>569.000000</td>\n",
       "      <td>569.000000</td>\n",
       "      <td>569.000000</td>\n",
       "      <td>569.000000</td>\n",
       "      <td>569.000000</td>\n",
       "      <td>569.000000</td>\n",
       "      <td>569.000000</td>\n",
       "      <td>...</td>\n",
       "      <td>569.000000</td>\n",
       "      <td>569.000000</td>\n",
       "      <td>569.000000</td>\n",
       "      <td>569.000000</td>\n",
       "      <td>569.000000</td>\n",
       "      <td>569.000000</td>\n",
       "      <td>569.000000</td>\n",
       "      <td>569.000000</td>\n",
       "      <td>569.000000</td>\n",
       "      <td>569.000000</td>\n",
       "    </tr>\n",
       "    <tr>\n",
       "      <th>mean</th>\n",
       "      <td>0.627417</td>\n",
       "      <td>14.127292</td>\n",
       "      <td>19.289649</td>\n",
       "      <td>91.969033</td>\n",
       "      <td>654.889104</td>\n",
       "      <td>0.096360</td>\n",
       "      <td>0.104341</td>\n",
       "      <td>0.088799</td>\n",
       "      <td>0.048919</td>\n",
       "      <td>0.181162</td>\n",
       "      <td>...</td>\n",
       "      <td>16.269190</td>\n",
       "      <td>25.677223</td>\n",
       "      <td>107.261213</td>\n",
       "      <td>880.583128</td>\n",
       "      <td>0.132369</td>\n",
       "      <td>0.254265</td>\n",
       "      <td>0.272188</td>\n",
       "      <td>0.114606</td>\n",
       "      <td>0.290076</td>\n",
       "      <td>0.083946</td>\n",
       "    </tr>\n",
       "    <tr>\n",
       "      <th>std</th>\n",
       "      <td>0.483918</td>\n",
       "      <td>3.524049</td>\n",
       "      <td>4.301036</td>\n",
       "      <td>24.298981</td>\n",
       "      <td>351.914129</td>\n",
       "      <td>0.014064</td>\n",
       "      <td>0.052813</td>\n",
       "      <td>0.079720</td>\n",
       "      <td>0.038803</td>\n",
       "      <td>0.027414</td>\n",
       "      <td>...</td>\n",
       "      <td>4.833242</td>\n",
       "      <td>6.146258</td>\n",
       "      <td>33.602542</td>\n",
       "      <td>569.356993</td>\n",
       "      <td>0.022832</td>\n",
       "      <td>0.157336</td>\n",
       "      <td>0.208624</td>\n",
       "      <td>0.065732</td>\n",
       "      <td>0.061867</td>\n",
       "      <td>0.018061</td>\n",
       "    </tr>\n",
       "    <tr>\n",
       "      <th>min</th>\n",
       "      <td>0.000000</td>\n",
       "      <td>6.981000</td>\n",
       "      <td>9.710000</td>\n",
       "      <td>43.790000</td>\n",
       "      <td>143.500000</td>\n",
       "      <td>0.052630</td>\n",
       "      <td>0.019380</td>\n",
       "      <td>0.000000</td>\n",
       "      <td>0.000000</td>\n",
       "      <td>0.106000</td>\n",
       "      <td>...</td>\n",
       "      <td>7.930000</td>\n",
       "      <td>12.020000</td>\n",
       "      <td>50.410000</td>\n",
       "      <td>185.200000</td>\n",
       "      <td>0.071170</td>\n",
       "      <td>0.027290</td>\n",
       "      <td>0.000000</td>\n",
       "      <td>0.000000</td>\n",
       "      <td>0.156500</td>\n",
       "      <td>0.055040</td>\n",
       "    </tr>\n",
       "    <tr>\n",
       "      <th>25%</th>\n",
       "      <td>0.000000</td>\n",
       "      <td>11.700000</td>\n",
       "      <td>16.170000</td>\n",
       "      <td>75.170000</td>\n",
       "      <td>420.300000</td>\n",
       "      <td>0.086370</td>\n",
       "      <td>0.064920</td>\n",
       "      <td>0.029560</td>\n",
       "      <td>0.020310</td>\n",
       "      <td>0.161900</td>\n",
       "      <td>...</td>\n",
       "      <td>13.010000</td>\n",
       "      <td>21.080000</td>\n",
       "      <td>84.110000</td>\n",
       "      <td>515.300000</td>\n",
       "      <td>0.116600</td>\n",
       "      <td>0.147200</td>\n",
       "      <td>0.114500</td>\n",
       "      <td>0.064930</td>\n",
       "      <td>0.250400</td>\n",
       "      <td>0.071460</td>\n",
       "    </tr>\n",
       "    <tr>\n",
       "      <th>50%</th>\n",
       "      <td>1.000000</td>\n",
       "      <td>13.370000</td>\n",
       "      <td>18.840000</td>\n",
       "      <td>86.240000</td>\n",
       "      <td>551.100000</td>\n",
       "      <td>0.095870</td>\n",
       "      <td>0.092630</td>\n",
       "      <td>0.061540</td>\n",
       "      <td>0.033500</td>\n",
       "      <td>0.179200</td>\n",
       "      <td>...</td>\n",
       "      <td>14.970000</td>\n",
       "      <td>25.410000</td>\n",
       "      <td>97.660000</td>\n",
       "      <td>686.500000</td>\n",
       "      <td>0.131300</td>\n",
       "      <td>0.211900</td>\n",
       "      <td>0.226700</td>\n",
       "      <td>0.099930</td>\n",
       "      <td>0.282200</td>\n",
       "      <td>0.080040</td>\n",
       "    </tr>\n",
       "    <tr>\n",
       "      <th>75%</th>\n",
       "      <td>1.000000</td>\n",
       "      <td>15.780000</td>\n",
       "      <td>21.800000</td>\n",
       "      <td>104.100000</td>\n",
       "      <td>782.700000</td>\n",
       "      <td>0.105300</td>\n",
       "      <td>0.130400</td>\n",
       "      <td>0.130700</td>\n",
       "      <td>0.074000</td>\n",
       "      <td>0.195700</td>\n",
       "      <td>...</td>\n",
       "      <td>18.790000</td>\n",
       "      <td>29.720000</td>\n",
       "      <td>125.400000</td>\n",
       "      <td>1084.000000</td>\n",
       "      <td>0.146000</td>\n",
       "      <td>0.339100</td>\n",
       "      <td>0.382900</td>\n",
       "      <td>0.161400</td>\n",
       "      <td>0.317900</td>\n",
       "      <td>0.092080</td>\n",
       "    </tr>\n",
       "    <tr>\n",
       "      <th>max</th>\n",
       "      <td>1.000000</td>\n",
       "      <td>28.110000</td>\n",
       "      <td>39.280000</td>\n",
       "      <td>188.500000</td>\n",
       "      <td>2501.000000</td>\n",
       "      <td>0.163400</td>\n",
       "      <td>0.345400</td>\n",
       "      <td>0.426800</td>\n",
       "      <td>0.201200</td>\n",
       "      <td>0.304000</td>\n",
       "      <td>...</td>\n",
       "      <td>36.040000</td>\n",
       "      <td>49.540000</td>\n",
       "      <td>251.200000</td>\n",
       "      <td>4254.000000</td>\n",
       "      <td>0.222600</td>\n",
       "      <td>1.058000</td>\n",
       "      <td>1.252000</td>\n",
       "      <td>0.291000</td>\n",
       "      <td>0.663800</td>\n",
       "      <td>0.207500</td>\n",
       "    </tr>\n",
       "  </tbody>\n",
       "</table>\n",
       "<p>8 rows × 31 columns</p>\n",
       "</div>"
      ],
      "text/plain": [
       "        diagnosis  radius_mean  texture_mean  perimeter_mean    area_mean  \\\n",
       "count  569.000000   569.000000    569.000000      569.000000   569.000000   \n",
       "mean     0.627417    14.127292     19.289649       91.969033   654.889104   \n",
       "std      0.483918     3.524049      4.301036       24.298981   351.914129   \n",
       "min      0.000000     6.981000      9.710000       43.790000   143.500000   \n",
       "25%      0.000000    11.700000     16.170000       75.170000   420.300000   \n",
       "50%      1.000000    13.370000     18.840000       86.240000   551.100000   \n",
       "75%      1.000000    15.780000     21.800000      104.100000   782.700000   \n",
       "max      1.000000    28.110000     39.280000      188.500000  2501.000000   \n",
       "\n",
       "       smoothness_mean  compactness_mean  concavity_mean  concave points_mean  \\\n",
       "count       569.000000        569.000000      569.000000           569.000000   \n",
       "mean          0.096360          0.104341        0.088799             0.048919   \n",
       "std           0.014064          0.052813        0.079720             0.038803   \n",
       "min           0.052630          0.019380        0.000000             0.000000   \n",
       "25%           0.086370          0.064920        0.029560             0.020310   \n",
       "50%           0.095870          0.092630        0.061540             0.033500   \n",
       "75%           0.105300          0.130400        0.130700             0.074000   \n",
       "max           0.163400          0.345400        0.426800             0.201200   \n",
       "\n",
       "       symmetry_mean  ...  radius_worst  texture_worst  perimeter_worst  \\\n",
       "count     569.000000  ...    569.000000     569.000000       569.000000   \n",
       "mean        0.181162  ...     16.269190      25.677223       107.261213   \n",
       "std         0.027414  ...      4.833242       6.146258        33.602542   \n",
       "min         0.106000  ...      7.930000      12.020000        50.410000   \n",
       "25%         0.161900  ...     13.010000      21.080000        84.110000   \n",
       "50%         0.179200  ...     14.970000      25.410000        97.660000   \n",
       "75%         0.195700  ...     18.790000      29.720000       125.400000   \n",
       "max         0.304000  ...     36.040000      49.540000       251.200000   \n",
       "\n",
       "        area_worst  smoothness_worst  compactness_worst  concavity_worst  \\\n",
       "count   569.000000        569.000000         569.000000       569.000000   \n",
       "mean    880.583128          0.132369           0.254265         0.272188   \n",
       "std     569.356993          0.022832           0.157336         0.208624   \n",
       "min     185.200000          0.071170           0.027290         0.000000   \n",
       "25%     515.300000          0.116600           0.147200         0.114500   \n",
       "50%     686.500000          0.131300           0.211900         0.226700   \n",
       "75%    1084.000000          0.146000           0.339100         0.382900   \n",
       "max    4254.000000          0.222600           1.058000         1.252000   \n",
       "\n",
       "       concave points_worst  symmetry_worst  fractal_dimension_worst  \n",
       "count            569.000000      569.000000               569.000000  \n",
       "mean               0.114606        0.290076                 0.083946  \n",
       "std                0.065732        0.061867                 0.018061  \n",
       "min                0.000000        0.156500                 0.055040  \n",
       "25%                0.064930        0.250400                 0.071460  \n",
       "50%                0.099930        0.282200                 0.080040  \n",
       "75%                0.161400        0.317900                 0.092080  \n",
       "max                0.291000        0.663800                 0.207500  \n",
       "\n",
       "[8 rows x 31 columns]"
      ]
     },
     "execution_count": 54,
     "metadata": {},
     "output_type": "execute_result"
    }
   ],
   "source": [
    "df_bcw.describe()"
   ]
  },
  {
   "cell_type": "markdown",
   "id": "dae43ca5-5049-45c6-a5ed-8e1d0d578aa4",
   "metadata": {},
   "source": [
    "### Separar Dataset em X e Y"
   ]
  },
  {
   "cell_type": "code",
   "execution_count": 55,
   "id": "6491f085-ba08-4626-993f-8fb3e35cb26b",
   "metadata": {},
   "outputs": [
    {
     "name": "stdout",
     "output_type": "stream",
     "text": [
      "(569, 30) (569,)\n"
     ]
    }
   ],
   "source": [
    "x_bcw = df_bcw.iloc[:, 1:]\n",
    "y_bcw = df_bcw[\"diagnosis\"]\n",
    "print(x_bcw.shape, y_bcw.shape)"
   ]
  },
  {
   "cell_type": "code",
   "execution_count": 56,
   "id": "f699a16f-c699-4df2-a657-ba5f211a3131",
   "metadata": {},
   "outputs": [
    {
     "name": "stdout",
     "output_type": "stream",
     "text": [
      "   radius_mean  texture_mean  perimeter_mean  area_mean  smoothness_mean  \\\n",
      "0        17.99         10.38          122.80     1001.0          0.11840   \n",
      "1        20.57         17.77          132.90     1326.0          0.08474   \n",
      "2        19.69         21.25          130.00     1203.0          0.10960   \n",
      "3        11.42         20.38           77.58      386.1          0.14250   \n",
      "4        20.29         14.34          135.10     1297.0          0.10030   \n",
      "\n",
      "   compactness_mean  concavity_mean  concave points_mean  symmetry_mean  \\\n",
      "0           0.27760          0.3001              0.14710         0.2419   \n",
      "1           0.07864          0.0869              0.07017         0.1812   \n",
      "2           0.15990          0.1974              0.12790         0.2069   \n",
      "3           0.28390          0.2414              0.10520         0.2597   \n",
      "4           0.13280          0.1980              0.10430         0.1809   \n",
      "\n",
      "   fractal_dimension_mean  ...  radius_worst  texture_worst  perimeter_worst  \\\n",
      "0                 0.07871  ...         25.38          17.33           184.60   \n",
      "1                 0.05667  ...         24.99          23.41           158.80   \n",
      "2                 0.05999  ...         23.57          25.53           152.50   \n",
      "3                 0.09744  ...         14.91          26.50            98.87   \n",
      "4                 0.05883  ...         22.54          16.67           152.20   \n",
      "\n",
      "   area_worst  smoothness_worst  compactness_worst  concavity_worst  \\\n",
      "0      2019.0            0.1622             0.6656           0.7119   \n",
      "1      1956.0            0.1238             0.1866           0.2416   \n",
      "2      1709.0            0.1444             0.4245           0.4504   \n",
      "3       567.7            0.2098             0.8663           0.6869   \n",
      "4      1575.0            0.1374             0.2050           0.4000   \n",
      "\n",
      "   concave points_worst  symmetry_worst  fractal_dimension_worst  \n",
      "0                0.2654          0.4601                  0.11890  \n",
      "1                0.1860          0.2750                  0.08902  \n",
      "2                0.2430          0.3613                  0.08758  \n",
      "3                0.2575          0.6638                  0.17300  \n",
      "4                0.1625          0.2364                  0.07678  \n",
      "\n",
      "[5 rows x 30 columns]\n",
      "564    0\n",
      "565    0\n",
      "566    0\n",
      "567    0\n",
      "568    1\n",
      "Name: diagnosis, dtype: int64\n"
     ]
    }
   ],
   "source": [
    "print(x_bcw.head())\n",
    "print(y_bcw.tail())"
   ]
  },
  {
   "cell_type": "markdown",
   "id": "16a31853-a671-410f-be17-fbc2279ff495",
   "metadata": {},
   "source": [
    "### Treinar o dataset com o modelo Gaussian Naive Bayes, fazer previsões e calcular $R^2$"
   ]
  },
  {
   "cell_type": "code",
   "execution_count": 57,
   "id": "14765d30-037d-4122-b41d-b103350e0717",
   "metadata": {},
   "outputs": [],
   "source": [
    "from sklearn.model_selection import train_test_split\n",
    "\n",
    "x_train_bcw, x_test_bcw, y_train_bcw, y_test_bcw = train_test_split(x_bcw, y_bcw, test_size=0.33, random_state=42)"
   ]
  },
  {
   "cell_type": "markdown",
   "id": "60093fad-fc86-4fe0-8cd6-402590983753",
   "metadata": {},
   "source": [
    "### Treinar Dataset, fazer previsões e calcular $R^2$ utilizado os vários modelos de Naive Bayes"
   ]
  },
  {
   "cell_type": "markdown",
   "id": "b1aa690d-9ee7-4146-bb0f-ffe87ab1f29b",
   "metadata": {},
   "source": [
    "#### MultinomialNB"
   ]
  },
  {
   "cell_type": "code",
   "execution_count": 63,
   "id": "e7555ce4-3756-4e2d-863a-014438785c36",
   "metadata": {},
   "outputs": [],
   "source": [
    "from sklearn.naive_bayes import MultinomialNB\n",
    "from sklearn.metrics import accuracy_score\n",
    "\n",
    "multinomial_bcw = MultinomialNB()\n",
    "multinomial_bcw.fit(x_train_bcw, y_train_bcw)\n",
    "\n",
    "y_predict_bcw_multi = multinomial_bcw.predict(x_test_bcw)"
   ]
  },
  {
   "cell_type": "markdown",
   "id": "27e9ae82-e939-42a8-b67a-f26f8793c63a",
   "metadata": {},
   "source": [
    "#### Accuracy"
   ]
  },
  {
   "cell_type": "code",
   "execution_count": 65,
   "id": "98ce157a-cf4b-46dd-b17b-4a1f63d1cb2b",
   "metadata": {},
   "outputs": [
    {
     "name": "stdout",
     "output_type": "stream",
     "text": [
      "Accuracy: 0.9202127659574468\n"
     ]
    }
   ],
   "source": [
    "acc_multi = accuracy_score(y_test_bcw, y_predict_bcw_multi)\n",
    "print(\"Accuracy:\", acc_multi)"
   ]
  },
  {
   "cell_type": "markdown",
   "id": "f36ba137-c82c-43fd-9562-a124499fcfaf",
   "metadata": {},
   "source": [
    "#### Matriz Confusão"
   ]
  },
  {
   "cell_type": "code",
   "execution_count": 66,
   "id": "6121dc92-160b-4d8c-a05e-dc9dbce6a3aa",
   "metadata": {},
   "outputs": [
    {
     "data": {
      "image/png": "[encoded data removed]",
      "text/plain": [
       "<Figure size 640x480 with 2 Axes>"
      ]
     },
     "metadata": {},
     "output_type": "display_data"
    }
   ],
   "source": [
    "from sklearn.metrics import confusion_matrix\n",
    "import seaborn as sns\n",
    "import matplotlib.pyplot as plt\n",
    "\n",
    "conf_matrix = confusion_matrix(y_test_bcw, y_predict_bcw_multi)\n",
    "\n",
    "sns.heatmap(conf_matrix, annot=True, fmt=\"d\", cmap=\"Blues\", xticklabels=[\"Positivo\", \"Negativo\"], yticklabels=[\"Positivo\", \"Negativo\"])\n",
    "plt.xlabel(\"Previsto\")\n",
    "plt.ylabel(\"Real\")\n",
    "plt.title(\"Matriz de Confusão\")\n",
    "plt.show()"
   ]
  },
  {
   "cell_type": "markdown",
   "id": "d2e8367f-25c6-4100-a25f-03fa36d5a466",
   "metadata": {},
   "source": [
    "#### GaussianNB"
   ]
  },
  {
   "cell_type": "code",
   "execution_count": 68,
   "id": "c111ec7d-a2ae-4199-9d1f-cfd663dcf172",
   "metadata": {},
   "outputs": [],
   "source": [
    "from sklearn.naive_bayes import GaussianNB\n",
    "\n",
    "gaussian_bcw = GaussianNB()\n",
    "gaussian_bcw.fit(x_train_bcw, y_train_bcw)\n",
    "y_predict_bcw_gauss = gaussian_bcw.predict(x_test_bcw)"
   ]
  },
  {
   "cell_type": "markdown",
   "id": "741bc04f-e7a5-436f-b865-6520f7858ace",
   "metadata": {},
   "source": [
    "#### Accuracy"
   ]
  },
  {
   "cell_type": "code",
   "execution_count": 69,
   "id": "15ae54ab-18e6-4f0d-bdaa-790624a57c75",
   "metadata": {},
   "outputs": [
    {
     "name": "stdout",
     "output_type": "stream",
     "text": [
      "Accuracy: 0.9414893617021277\n"
     ]
    }
   ],
   "source": [
    "acc_gauss = accuracy_score(y_test_bcw, y_predict_bcw_gauss)\n",
    "print(\"Accuracy:\", acc_gauss)"
   ]
  },
  {
   "cell_type": "markdown",
   "id": "37f75ab3-39e8-4779-8115-79a46cff4060",
   "metadata": {},
   "source": [
    "#### Matriz Confusão"
   ]
  },
  {
   "cell_type": "code",
   "execution_count": 76,
   "id": "7c9821bb-18c8-4cef-b42c-cee31f59e48b",
   "metadata": {},
   "outputs": [
    {
     "data": {
      "image/png": "[encoded data removed]",
      "text/plain": [
       "<Figure size 640x480 with 2 Axes>"
      ]
     },
     "metadata": {},
     "output_type": "display_data"
    }
   ],
   "source": [
    "from sklearn.metrics import confusion_matrix\n",
    "import seaborn as sns\n",
    "import matplotlib.pyplot as plt\n",
    "\n",
    "conf_matrix = confusion_matrix(y_test_bcw, y_predict_bcw_gauss)\n",
    "\n",
    "sns.heatmap(conf_matrix, annot=True, fmt=\"d\", cmap=\"Blues\", xticklabels=[\"Negativo\", \"Positivo\"], yticklabels=[\"Negativo\", \"Positivo\"])\n",
    "plt.xlabel(\"Previsto\")\n",
    "plt.ylabel(\"Real\")\n",
    "plt.title(\"Matriz de Confusão\")\n",
    "plt.show()"
   ]
  },
  {
   "cell_type": "markdown",
   "id": "10765047-271c-409e-827d-207d269592aa",
   "metadata": {},
   "source": [
    "#### ComplementNB"
   ]
  },
  {
   "cell_type": "code",
   "execution_count": 80,
   "id": "95203f0f-80b5-454f-bf82-a986c1488fc3",
   "metadata": {},
   "outputs": [],
   "source": [
    "from sklearn.naive_bayes import ComplementNB\n",
    "\n",
    "complement_bcw = ComplementNB()\n",
    "complement_bcw.fit(x_train_bcw, y_train_bcw)\n",
    "\n",
    "y_predict_bcw_comple = complement_bcw.predict(x_test_bcw)"
   ]
  },
  {
   "cell_type": "markdown",
   "id": "75695439-7350-45ea-9b74-b43fb2c5d241",
   "metadata": {},
   "source": [
    "#### Accuracy"
   ]
  },
  {
   "cell_type": "code",
   "execution_count": 81,
   "id": "d555705f-d53f-49ab-96f4-db47ea3ef929",
   "metadata": {},
   "outputs": [
    {
     "name": "stdout",
     "output_type": "stream",
     "text": [
      "Accuracy: 0.9148936170212766\n"
     ]
    }
   ],
   "source": [
    "acc_comple = accuracy_score(y_test_bcw, y_predict_bcw_comple)\n",
    "print(\"Accuracy:\", acc_comple)"
   ]
  },
  {
   "cell_type": "markdown",
   "id": "1100d0c0-b1e0-4a0e-98ed-99050a471be2",
   "metadata": {},
   "source": [
    "#### Matriz Confusão"
   ]
  },
  {
   "cell_type": "code",
   "execution_count": 82,
   "id": "21961494-9e40-483d-a86d-ffe8a4711c22",
   "metadata": {},
   "outputs": [
    {
     "data": {
      "image/png": "[encoded data removed]",
      "text/plain": [
       "<Figure size 640x480 with 2 Axes>"
      ]
     },
     "metadata": {},
     "output_type": "display_data"
    }
   ],
   "source": [
    "from sklearn.metrics import confusion_matrix\n",
    "import seaborn as sns\n",
    "import matplotlib.pyplot as plt\n",
    "\n",
    "conf_matrix = confusion_matrix(y_test_bcw, y_predict_bcw_comple)\n",
    "\n",
    "sns.heatmap(conf_matrix, annot=True, fmt=\"d\", cmap=\"Blues\", xticklabels=[\"Negativo\", \"Positivo\"], yticklabels=[\"Negativo\", \"Positivo\"])\n",
    "plt.xlabel(\"Previsto\")\n",
    "plt.ylabel(\"Real\")\n",
    "plt.title(\"Matriz de Confusão\")\n",
    "plt.show()"
   ]
  },
  {
   "cell_type": "markdown",
   "id": "751333e7-3b62-44f8-bd86-a04c104f0394",
   "metadata": {},
   "source": [
    "#### BernoulliNB"
   ]
  },
  {
   "cell_type": "code",
   "execution_count": 90,
   "id": "80434804-75cf-4221-8381-c490a90a42cb",
   "metadata": {},
   "outputs": [],
   "source": [
    "from sklearn.naive_bayes import BernoulliNB\n",
    "\n",
    "bernoulli_bcw = BernoulliNB()\n",
    "bernoulli_bcw.fit(x_train_bcw, y_train_bcw)\n",
    "\n",
    "y_predict_bcw_bernou = bernoulli_bcw.predict(x_test_bcw)"
   ]
  },
  {
   "cell_type": "markdown",
   "id": "fd373250-096f-41db-bc08-542aeb0c1edd",
   "metadata": {},
   "source": [
    "#### Accuracy"
   ]
  },
  {
   "cell_type": "code",
   "execution_count": 91,
   "id": "5be5a7cf-4d42-47fa-a65e-fa210d63cd86",
   "metadata": {},
   "outputs": [
    {
     "name": "stdout",
     "output_type": "stream",
     "text": [
      "Accuracy: 0.6436170212765957\n"
     ]
    }
   ],
   "source": [
    "acc_bernou = accuracy_score(y_test_bcw, y_predict_bcw_bernou)\n",
    "print(\"Accuracy:\", acc_bernou)"
   ]
  },
  {
   "cell_type": "markdown",
   "id": "924e4ce2-11f3-4839-8a5c-0182cce9e662",
   "metadata": {},
   "source": [
    "#### Matriz Confusão"
   ]
  },
  {
   "cell_type": "code",
   "execution_count": 92,
   "id": "0adb7866-057b-4b12-a283-64fcbb9d9ff6",
   "metadata": {},
   "outputs": [
    {
     "data": {
      "image/png": "[encoded data removed]",
      "text/plain": [
       "<Figure size 640x480 with 2 Axes>"
      ]
     },
     "metadata": {},
     "output_type": "display_data"
    }
   ],
   "source": [
    "from sklearn.metrics import confusion_matrix\n",
    "import seaborn as sns\n",
    "import matplotlib.pyplot as plt\n",
    "\n",
    "conf_matrix = confusion_matrix(y_test_bcw, y_predict_bcw_bernou)\n",
    "\n",
    "sns.heatmap(conf_matrix, annot=True, fmt=\"d\", cmap=\"Blues\", xticklabels=[\"Negativo\", \"Positivo\"], yticklabels=[\"Negativo\", \"Positivo\"])\n",
    "plt.xlabel(\"Previsto\")\n",
    "plt.ylabel(\"Real\")\n",
    "plt.title(\"Matriz de Confusão\")\n",
    "plt.show()"
   ]
  },
  {
   "cell_type": "markdown",
   "id": "6cc4acfe-4d4c-4512-a263-4b8ec92d0eca",
   "metadata": {},
   "source": [
    "### Visualização dos Scores"
   ]
  },
  {
   "cell_type": "code",
   "execution_count": 93,
   "id": "eb091410-2a23-4ac0-ae89-991614c59f57",
   "metadata": {},
   "outputs": [
    {
     "name": "stdout",
     "output_type": "stream",
     "text": [
      "Multinomial Accuracy: 0.6436170212765957\n",
      "Gaussian Accuracy: 0.9414893617021277\n",
      "Complement Accuracy: 0.9148936170212766\n",
      "Bernoulli Accuracy: 0.6436170212765957\n"
     ]
    }
   ],
   "source": [
    "print(\"Multinomial Accuracy:\", acc_multi)\n",
    "print(\"Gaussian Accuracy:\", acc_gauss)\n",
    "print(\"Complement Accuracy:\", acc_comple)\n",
    "print(\"Bernoulli Accuracy:\", acc_bernou)"
   ]
  },
  {
   "cell_type": "code",
   "execution_count": 22,
   "id": "8fd6a9e1-9551-4ff7-9ca7-74331f8b247e",
   "metadata": {},
   "outputs": [
    {
     "name": "stdout",
     "output_type": "stream",
     "text": [
      "Warning: Looks like you're using an outdated `kagglehub` version (installed: 0.3.9), please consider upgrading to the latest version (0.3.10).\n",
      "Downloading from https://www.kaggle.com/api/v1/datasets/download/emineyetm/fake-news-detection-datasets?dataset_version_number=1...\n"
     ]
    },
    {
     "name": "stderr",
     "output_type": "stream",
     "text": [
      "100%|█████████████████████████████████████████████████████████████████████████████| 41.0M/41.0M [00:07<00:00, 5.58MB/s]"
     ]
    },
    {
     "name": "stdout",
     "output_type": "stream",
     "text": [
      "Extracting files...\n"
     ]
    },
    {
     "name": "stderr",
     "output_type": "stream",
     "text": [
      "\n"
     ]
    },
    {
     "name": "stdout",
     "output_type": "stream",
     "text": [
      "Path to dataset files: C:\\Users\\SBUtilizador\\.cache\\kagglehub\\datasets\\emineyetm\\fake-news-detection-datasets\\versions\\1\n"
     ]
    }
   ],
   "source": [
    "import kagglehub\n",
    "\n",
    "# Download latest version\n",
    "path = kagglehub.dataset_download(\"emineyetm/fake-news-detection-datasets\")\n",
    "\n",
    "print(\"Path to dataset files:\", path)"
   ]
  },
  {
   "cell_type": "code",
   "execution_count": 11,
   "id": "93e17ed1-7e5e-4de0-8e77-e6951c74f601",
   "metadata": {},
   "outputs": [],
   "source": [
    "import pandas as pd\n",
    "from sklearn.model_selection import train_test_split\n",
    "from sklearn.feature_extraction.text import CountVectorizer\n",
    "from sklearn.naive_bayes import MultinomialNB\n",
    "from sklearn.metrics import classification_report"
   ]
  },
  {
   "cell_type": "markdown",
   "id": "6f5527af-620f-4f84-b5d5-6aa11da1644e",
   "metadata": {},
   "source": [
    "### Importar Dataset de Fake News e True News"
   ]
  },
  {
   "cell_type": "code",
   "execution_count": null,
   "id": "06c63d9a-9e61-4a87-8f0a-6dcae7d87f6c",
   "metadata": {},
   "outputs": [],
   "source": [
    "dataset_fake = pd.read_csv('FakeNews _dataset/Fake.csv', sep=',', header=None, names=['title','text','subject','date'])\n",
    "dataset_true = pd.read_csv('FakeNews _dataset/True.csv', sep=',', header=None, names=['title','text','subject','date'])"
   ]
  },
  {
   "cell_type": "markdown",
   "id": "e2b16e17-4a05-4c8a-bbaf-6aa656036a45",
   "metadata": {},
   "source": [
    "### Eliminar coluna Subject e Date e 1ª linha"
   ]
  },
  {
   "cell_type": "code",
   "execution_count": null,
   "id": "83a8e87d-e52f-4e59-8f8d-dc2b93a4d5c6",
   "metadata": {},
   "outputs": [],
   "source": [
    "dataset_text_fake = pd.DataFrame({'Texto':dataset_fake.iloc[1:, 1]})\n",
    "dataset_text_true = pd.DataFrame({'Texto':dataset_true.iloc[1:, 1]})"
   ]
  },
  {
   "cell_type": "markdown",
   "id": "0783168d-e2cd-4d53-a5ae-24456624b526",
   "metadata": {},
   "source": [
    "### Vizualizar dados"
   ]
  },
  {
   "cell_type": "code",
   "execution_count": 145,
   "id": "95b052f3-91e9-4d47-8873-3a7dfb9f42bc",
   "metadata": {},
   "outputs": [
    {
     "data": {
      "text/html": [
       "<div>\n",
       "<style scoped>\n",
       "    .dataframe tbody tr th:only-of-type {\n",
       "        vertical-align: middle;\n",
       "    }\n",
       "\n",
       "    .dataframe tbody tr th {\n",
       "        vertical-align: top;\n",
       "    }\n",
       "\n",
       "    .dataframe thead th {\n",
       "        text-align: right;\n",
       "    }\n",
       "</style>\n",
       "<table border=\"1\" class=\"dataframe\">\n",
       "  <thead>\n",
       "    <tr style=\"text-align: right;\">\n",
       "      <th></th>\n",
       "      <th>Texto</th>\n",
       "      <th>Fake or Not Fake News</th>\n",
       "    </tr>\n",
       "  </thead>\n",
       "  <tbody>\n",
       "    <tr>\n",
       "      <th>1</th>\n",
       "      <td>Donald Trump jus...</td>\n",
       "      <td>0</td>\n",
       "    </tr>\n",
       "    <tr>\n",
       "      <th>2</th>\n",
       "      <td>House Intelligen...</td>\n",
       "      <td>0</td>\n",
       "    </tr>\n",
       "    <tr>\n",
       "      <th>3</th>\n",
       "      <td>On Friday, it wa...</td>\n",
       "      <td>0</td>\n",
       "    </tr>\n",
       "    <tr>\n",
       "      <th>4</th>\n",
       "      <td>On Christmas day...</td>\n",
       "      <td>0</td>\n",
       "    </tr>\n",
       "    <tr>\n",
       "      <th>5</th>\n",
       "      <td>Pope Francis use...</td>\n",
       "      <td>0</td>\n",
       "    </tr>\n",
       "  </tbody>\n",
       "</table>\n",
       "</div>"
      ],
      "text/plain": [
       "                 Texto  Fake or Not Fake News\n",
       "1  Donald Trump jus...                    0  \n",
       "2  House Intelligen...                    0  \n",
       "3  On Friday, it wa...                    0  \n",
       "4  On Christmas day...                    0  \n",
       "5  Pope Francis use...                    0  "
      ]
     },
     "execution_count": 145,
     "metadata": {},
     "output_type": "execute_result"
    }
   ],
   "source": [
    "dataset_text_fake.head()"
   ]
  },
  {
   "cell_type": "markdown",
   "id": "df754eb7-8ff7-4134-a30e-2964b5522526",
   "metadata": {},
   "source": [
    "### Acrescentar coluna de 0's ao Fake Dataset e 1's ao True Dataset"
   ]
  },
  {
   "cell_type": "code",
   "execution_count": 146,
   "id": "aabffe92-4d2a-45ff-8561-6ddb338ece6d",
   "metadata": {},
   "outputs": [],
   "source": [
    "dataset_text_fake[\"Fake or Not Fake News\"] = 0\n",
    "dataset_text_true[\"Fake or Not Fake News\"] = 1"
   ]
  },
  {
   "cell_type": "markdown",
   "id": "aa293d28-d6a8-4d57-ae7e-56e0c95581de",
   "metadata": {},
   "source": [
    "### Vizualizar dados"
   ]
  },
  {
   "cell_type": "code",
   "execution_count": 149,
   "id": "8737f9ac-1f2d-42e7-ab20-bceef856c5f2",
   "metadata": {},
   "outputs": [
    {
     "name": "stdout",
     "output_type": "stream",
     "text": [
      "Dimensao: (23481, 2)\n"
     ]
    },
    {
     "data": {
      "text/html": [
       "<div>\n",
       "<style scoped>\n",
       "    .dataframe tbody tr th:only-of-type {\n",
       "        vertical-align: middle;\n",
       "    }\n",
       "\n",
       "    .dataframe tbody tr th {\n",
       "        vertical-align: top;\n",
       "    }\n",
       "\n",
       "    .dataframe thead th {\n",
       "        text-align: right;\n",
       "    }\n",
       "</style>\n",
       "<table border=\"1\" class=\"dataframe\">\n",
       "  <thead>\n",
       "    <tr style=\"text-align: right;\">\n",
       "      <th></th>\n",
       "      <th>Texto</th>\n",
       "      <th>Fake or Not Fake News</th>\n",
       "    </tr>\n",
       "  </thead>\n",
       "  <tbody>\n",
       "    <tr>\n",
       "      <th>1</th>\n",
       "      <td>Donald Trump just couldn t wish all Americans ...</td>\n",
       "      <td>0</td>\n",
       "    </tr>\n",
       "    <tr>\n",
       "      <th>2</th>\n",
       "      <td>House Intelligence Committee Chairman Devin Nu...</td>\n",
       "      <td>0</td>\n",
       "    </tr>\n",
       "    <tr>\n",
       "      <th>3</th>\n",
       "      <td>On Friday, it was revealed that former Milwauk...</td>\n",
       "      <td>0</td>\n",
       "    </tr>\n",
       "    <tr>\n",
       "      <th>4</th>\n",
       "      <td>On Christmas day, Donald Trump announced that ...</td>\n",
       "      <td>0</td>\n",
       "    </tr>\n",
       "    <tr>\n",
       "      <th>5</th>\n",
       "      <td>Pope Francis used his annual Christmas Day mes...</td>\n",
       "      <td>0</td>\n",
       "    </tr>\n",
       "  </tbody>\n",
       "</table>\n",
       "</div>"
      ],
      "text/plain": [
       "                                               Texto  Fake or Not Fake News\n",
       "1  Donald Trump just couldn t wish all Americans ...                      0\n",
       "2  House Intelligence Committee Chairman Devin Nu...                      0\n",
       "3  On Friday, it was revealed that former Milwauk...                      0\n",
       "4  On Christmas day, Donald Trump announced that ...                      0\n",
       "5  Pope Francis used his annual Christmas Day mes...                      0"
      ]
     },
     "execution_count": 149,
     "metadata": {},
     "output_type": "execute_result"
    }
   ],
   "source": [
    "print(\"Dimensao:\", dataset_text_fake.shape)\n",
    "pd.set_option('display.max_colwidth', 50)  # ou um valor grande, como 1000\n",
    "\n",
    "dataset_text_fake.head()"
   ]
  },
  {
   "cell_type": "code",
   "execution_count": 150,
   "id": "500d15a6-8838-4177-bec1-e66e6536d150",
   "metadata": {},
   "outputs": [
    {
     "name": "stdout",
     "output_type": "stream",
     "text": [
      "Dimensao: (21417, 2)\n"
     ]
    },
    {
     "data": {
      "text/html": [
       "<div>\n",
       "<style scoped>\n",
       "    .dataframe tbody tr th:only-of-type {\n",
       "        vertical-align: middle;\n",
       "    }\n",
       "\n",
       "    .dataframe tbody tr th {\n",
       "        vertical-align: top;\n",
       "    }\n",
       "\n",
       "    .dataframe thead th {\n",
       "        text-align: right;\n",
       "    }\n",
       "</style>\n",
       "<table border=\"1\" class=\"dataframe\">\n",
       "  <thead>\n",
       "    <tr style=\"text-align: right;\">\n",
       "      <th></th>\n",
       "      <th>Texto</th>\n",
       "      <th>Fake or Not Fake News</th>\n",
       "    </tr>\n",
       "  </thead>\n",
       "  <tbody>\n",
       "    <tr>\n",
       "      <th>1</th>\n",
       "      <td>WASHINGTON (Reuters) - The head of a conservat...</td>\n",
       "      <td>1</td>\n",
       "    </tr>\n",
       "    <tr>\n",
       "      <th>2</th>\n",
       "      <td>WASHINGTON (Reuters) - Transgender people will...</td>\n",
       "      <td>1</td>\n",
       "    </tr>\n",
       "    <tr>\n",
       "      <th>3</th>\n",
       "      <td>WASHINGTON (Reuters) - The special counsel inv...</td>\n",
       "      <td>1</td>\n",
       "    </tr>\n",
       "    <tr>\n",
       "      <th>4</th>\n",
       "      <td>WASHINGTON (Reuters) - Trump campaign adviser ...</td>\n",
       "      <td>1</td>\n",
       "    </tr>\n",
       "    <tr>\n",
       "      <th>5</th>\n",
       "      <td>SEATTLE/WASHINGTON (Reuters) - President Donal...</td>\n",
       "      <td>1</td>\n",
       "    </tr>\n",
       "  </tbody>\n",
       "</table>\n",
       "</div>"
      ],
      "text/plain": [
       "                                               Texto  Fake or Not Fake News\n",
       "1  WASHINGTON (Reuters) - The head of a conservat...                      1\n",
       "2  WASHINGTON (Reuters) - Transgender people will...                      1\n",
       "3  WASHINGTON (Reuters) - The special counsel inv...                      1\n",
       "4  WASHINGTON (Reuters) - Trump campaign adviser ...                      1\n",
       "5  SEATTLE/WASHINGTON (Reuters) - President Donal...                      1"
      ]
     },
     "execution_count": 150,
     "metadata": {},
     "output_type": "execute_result"
    }
   ],
   "source": [
    "print(\"Dimensao:\", dataset_text_true.shape)\n",
    "dataset_text_true.head()"
   ]
  },
  {
   "cell_type": "markdown",
   "id": "63753a8a-39e3-4645-8ec5-072114af8f75",
   "metadata": {},
   "source": [
    "### Unir Datasets"
   ]
  },
  {
   "cell_type": "code",
   "execution_count": 151,
   "id": "5df822ed-d139-4772-9d12-f1eb4a7df3fe",
   "metadata": {},
   "outputs": [
    {
     "name": "stdout",
     "output_type": "stream",
     "text": [
      "Dimensao: (44898, 2)\n",
      "                                               Texto  Fake or Not Fake News\n",
      "1  Donald Trump just couldn t wish all Americans ...                      0\n",
      "2  House Intelligence Committee Chairman Devin Nu...                      0\n",
      "3  On Friday, it was revealed that former Milwauk...                      0\n",
      "4  On Christmas day, Donald Trump announced that ...                      0\n",
      "5  Pope Francis used his annual Christmas Day mes...                      0\n",
      "                                                   Texto  \\\n",
      "21413  BRUSSELS (Reuters) - NATO allies on Tuesday we...   \n",
      "21414  LONDON (Reuters) - LexisNexis, a provider of l...   \n",
      "21415  MINSK (Reuters) - In the shadow of disused Sov...   \n",
      "21416  MOSCOW (Reuters) - Vatican Secretary of State ...   \n",
      "21417  JAKARTA (Reuters) - Indonesia will buy 11 Sukh...   \n",
      "\n",
      "       Fake or Not Fake News  \n",
      "21413                      1  \n",
      "21414                      1  \n",
      "21415                      1  \n",
      "21416                      1  \n",
      "21417                      1  \n"
     ]
    }
   ],
   "source": [
    "# Concatenar os DataFrames verticalmente\n",
    "dataset_news = pd.concat([dataset_text_fake, dataset_text_true])\n",
    "print(\"Dimensao:\", dataset_news.shape)\n",
    "print(dataset_news.head())\n",
    "print(dataset_news.tail())"
   ]
  },
  {
   "cell_type": "markdown",
   "id": "e757dc24-ee2c-4a94-b6f7-bea1c1070fca",
   "metadata": {},
   "source": [
    "### Separar X do Y"
   ]
  },
  {
   "cell_type": "code",
   "execution_count": 152,
   "id": "65864bed-9067-41e7-9c95-8a81510f8016",
   "metadata": {},
   "outputs": [
    {
     "name": "stdout",
     "output_type": "stream",
     "text": [
      "X: (44898, 1) Y: (44898, 1)\n"
     ]
    }
   ],
   "source": [
    "x_news = pd.DataFrame(dataset_news.iloc[:, 0])\n",
    "y_news = pd.DataFrame(dataset_news.iloc[:, 1])\n",
    "print(\"X:\", x_news.shape, \"Y:\", y_news.shape)"
   ]
  },
  {
   "cell_type": "code",
   "execution_count": 153,
   "id": "1af85bc8-b8cd-4886-87bf-f3fd45961825",
   "metadata": {},
   "outputs": [
    {
     "data": {
      "text/html": [
       "<div>\n",
       "<style scoped>\n",
       "    .dataframe tbody tr th:only-of-type {\n",
       "        vertical-align: middle;\n",
       "    }\n",
       "\n",
       "    .dataframe tbody tr th {\n",
       "        vertical-align: top;\n",
       "    }\n",
       "\n",
       "    .dataframe thead th {\n",
       "        text-align: right;\n",
       "    }\n",
       "</style>\n",
       "<table border=\"1\" class=\"dataframe\">\n",
       "  <thead>\n",
       "    <tr style=\"text-align: right;\">\n",
       "      <th></th>\n",
       "      <th>Texto</th>\n",
       "    </tr>\n",
       "  </thead>\n",
       "  <tbody>\n",
       "    <tr>\n",
       "      <th>1</th>\n",
       "      <td>Donald Trump just couldn t wish all Americans ...</td>\n",
       "    </tr>\n",
       "    <tr>\n",
       "      <th>2</th>\n",
       "      <td>House Intelligence Committee Chairman Devin Nu...</td>\n",
       "    </tr>\n",
       "    <tr>\n",
       "      <th>3</th>\n",
       "      <td>On Friday, it was revealed that former Milwauk...</td>\n",
       "    </tr>\n",
       "    <tr>\n",
       "      <th>4</th>\n",
       "      <td>On Christmas day, Donald Trump announced that ...</td>\n",
       "    </tr>\n",
       "    <tr>\n",
       "      <th>5</th>\n",
       "      <td>Pope Francis used his annual Christmas Day mes...</td>\n",
       "    </tr>\n",
       "  </tbody>\n",
       "</table>\n",
       "</div>"
      ],
      "text/plain": [
       "                                               Texto\n",
       "1  Donald Trump just couldn t wish all Americans ...\n",
       "2  House Intelligence Committee Chairman Devin Nu...\n",
       "3  On Friday, it was revealed that former Milwauk...\n",
       "4  On Christmas day, Donald Trump announced that ...\n",
       "5  Pope Francis used his annual Christmas Day mes..."
      ]
     },
     "execution_count": 153,
     "metadata": {},
     "output_type": "execute_result"
    }
   ],
   "source": [
    "x_news.head()"
   ]
  },
  {
   "cell_type": "markdown",
   "id": "1225a6fc-5418-49eb-8ab0-01890be4ace7",
   "metadata": {},
   "source": [
    "### Colocar texto em minusculas"
   ]
  },
  {
   "cell_type": "code",
   "execution_count": 154,
   "id": "212d6077-4b66-436a-bd32-09f12a1fdfe1",
   "metadata": {},
   "outputs": [
    {
     "data": {
      "text/html": [
       "<div>\n",
       "<style scoped>\n",
       "    .dataframe tbody tr th:only-of-type {\n",
       "        vertical-align: middle;\n",
       "    }\n",
       "\n",
       "    .dataframe tbody tr th {\n",
       "        vertical-align: top;\n",
       "    }\n",
       "\n",
       "    .dataframe thead th {\n",
       "        text-align: right;\n",
       "    }\n",
       "</style>\n",
       "<table border=\"1\" class=\"dataframe\">\n",
       "  <thead>\n",
       "    <tr style=\"text-align: right;\">\n",
       "      <th></th>\n",
       "      <th>Texto</th>\n",
       "    </tr>\n",
       "  </thead>\n",
       "  <tbody>\n",
       "    <tr>\n",
       "      <th>1</th>\n",
       "      <td>donald trump just couldn t wish all americans ...</td>\n",
       "    </tr>\n",
       "    <tr>\n",
       "      <th>2</th>\n",
       "      <td>house intelligence committee chairman devin nu...</td>\n",
       "    </tr>\n",
       "    <tr>\n",
       "      <th>3</th>\n",
       "      <td>on friday, it was revealed that former milwauk...</td>\n",
       "    </tr>\n",
       "    <tr>\n",
       "      <th>4</th>\n",
       "      <td>on christmas day, donald trump announced that ...</td>\n",
       "    </tr>\n",
       "    <tr>\n",
       "      <th>5</th>\n",
       "      <td>pope francis used his annual christmas day mes...</td>\n",
       "    </tr>\n",
       "  </tbody>\n",
       "</table>\n",
       "</div>"
      ],
      "text/plain": [
       "                                               Texto\n",
       "1  donald trump just couldn t wish all americans ...\n",
       "2  house intelligence committee chairman devin nu...\n",
       "3  on friday, it was revealed that former milwauk...\n",
       "4  on christmas day, donald trump announced that ...\n",
       "5  pope francis used his annual christmas day mes..."
      ]
     },
     "execution_count": 154,
     "metadata": {},
     "output_type": "execute_result"
    }
   ],
   "source": [
    "x_news[\"Texto\"] = x_news[\"Texto\"].str.lower()\n",
    "x_news.head()"
   ]
  },
  {
   "cell_type": "code",
   "execution_count": 157,
   "id": "85f03075-c3a7-4f97-8c3f-57154d512659",
   "metadata": {},
   "outputs": [
    {
     "data": {
      "text/html": [
       "<div>\n",
       "<style scoped>\n",
       "    .dataframe tbody tr th:only-of-type {\n",
       "        vertical-align: middle;\n",
       "    }\n",
       "\n",
       "    .dataframe tbody tr th {\n",
       "        vertical-align: top;\n",
       "    }\n",
       "\n",
       "    .dataframe thead th {\n",
       "        text-align: right;\n",
       "    }\n",
       "</style>\n",
       "<table border=\"1\" class=\"dataframe\">\n",
       "  <thead>\n",
       "    <tr style=\"text-align: right;\">\n",
       "      <th></th>\n",
       "      <th>Texto</th>\n",
       "    </tr>\n",
       "  </thead>\n",
       "  <tbody>\n",
       "    <tr>\n",
       "      <th>1</th>\n",
       "      <td>donald trump just couldn t wish all americans ...</td>\n",
       "    </tr>\n",
       "    <tr>\n",
       "      <th>2</th>\n",
       "      <td>house intelligence committee chairman devin nu...</td>\n",
       "    </tr>\n",
       "    <tr>\n",
       "      <th>3</th>\n",
       "      <td>on friday, it was revealed that former milwauk...</td>\n",
       "    </tr>\n",
       "    <tr>\n",
       "      <th>4</th>\n",
       "      <td>on christmas day, donald trump announced that ...</td>\n",
       "    </tr>\n",
       "    <tr>\n",
       "      <th>5</th>\n",
       "      <td>pope francis used his annual christmas day mes...</td>\n",
       "    </tr>\n",
       "  </tbody>\n",
       "</table>\n",
       "</div>"
      ],
      "text/plain": [
       "                                               Texto\n",
       "1  donald trump just couldn t wish all americans ...\n",
       "2  house intelligence committee chairman devin nu...\n",
       "3  on friday, it was revealed that former milwauk...\n",
       "4  on christmas day, donald trump announced that ...\n",
       "5  pope francis used his annual christmas day mes..."
      ]
     },
     "execution_count": 157,
     "metadata": {},
     "output_type": "execute_result"
    }
   ],
   "source": [
    "df = x_news.copy()\n",
    "df = df.iloc[:50]\n",
    "df.head()"
   ]
  },
  {
   "cell_type": "markdown",
   "id": "9120eecc-12be-4cee-b9f4-4d878da494ee",
   "metadata": {},
   "source": [
    "### Eliminar determinantes, pronomes e preposições "
   ]
  },
  {
   "cell_type": "code",
   "execution_count": 70,
   "id": "570346ea-d779-4163-bb75-f362c9ae8352",
   "metadata": {},
   "outputs": [
    {
     "ename": "AttributeError",
     "evalue": "'spacy.tokens.token.Token' object has no attribute 'x_news'",
     "output_type": "error",
     "traceback": [
      "\u001b[1;31m---------------------------------------------------------------------------\u001b[0m",
      "\u001b[1;31mAttributeError\u001b[0m                            Traceback (most recent call last)",
      "Cell \u001b[1;32mIn[70], line 16\u001b[0m\n\u001b[0;32m     13\u001b[0m remove_pos \u001b[38;5;241m=\u001b[39m [\u001b[38;5;124m\"\u001b[39m\u001b[38;5;124mDET\u001b[39m\u001b[38;5;124m\"\u001b[39m, \u001b[38;5;124m\"\u001b[39m\u001b[38;5;124mPRON\u001b[39m\u001b[38;5;124m\"\u001b[39m, \u001b[38;5;124m\"\u001b[39m\u001b[38;5;124mADP\u001b[39m\u001b[38;5;124m\"\u001b[39m]\n\u001b[0;32m     15\u001b[0m \u001b[38;5;66;03m# Filtrar as palavras\u001b[39;00m\n\u001b[1;32m---> 16\u001b[0m filtered_words \u001b[38;5;241m=\u001b[39m [token\u001b[38;5;241m.\u001b[39mx_news \u001b[38;5;28;01mfor\u001b[39;00m token \u001b[38;5;129;01min\u001b[39;00m doc \u001b[38;5;28;01mif\u001b[39;00m token\u001b[38;5;241m.\u001b[39mpos_ \u001b[38;5;129;01mnot\u001b[39;00m \u001b[38;5;129;01min\u001b[39;00m remove_pos]\n\u001b[0;32m     18\u001b[0m \u001b[38;5;66;03m# Resultado\u001b[39;00m\n\u001b[0;32m     19\u001b[0m \u001b[38;5;28mprint\u001b[39m(filtered_words)\n",
      "\u001b[1;31mAttributeError\u001b[0m: 'spacy.tokens.token.Token' object has no attribute 'x_news'"
     ]
    }
   ],
   "source": [
    "import spacy\n",
    "\n",
    "# Carregar o modelo de inglês\n",
    "nlp = spacy.load(\"en_core_web_sm\")\n",
    "\n",
    "# Frase de exemplo\n",
    "text = \"John went to the store with Martin\"\n",
    "\n",
    "# Processar o texto com spaCy\n",
    "doc = nlp(text)\n",
    "\n",
    "# Classes gramaticais que queremos remover: determiners, pronouns, adpositions (prepositions), etc.\n",
    "remove_pos = [\"DET\", \"PRON\", \"ADP\"]\n",
    "\n",
    "# Filtrar as palavras\n",
    "filtered_words = [token.x_news for token in doc if token.pos_ not in remove_pos]\n",
    "\n",
    "# Resultado\n",
    "print(filtered_words)"
   ]
  },
  {
   "cell_type": "code",
   "execution_count": null,
   "id": "15f8d372-7f45-4a25-8397-afdbfef6c8ef",
   "metadata": {},
   "outputs": [],
   "source": []
  },
  {
   "cell_type": "markdown",
   "id": "35702d63-5081-4ba0-af12-89dc623c121a",
   "metadata": {},
   "source": [
    "#### Conclui-se que Gaussian Naive Bayes foi o modelo que obteve melhor accuracy em ambos os datasets, mesmo este sendo ideal para dados continuos "
   ]
  }
 ],
 "metadata": {
  "kernelspec": {
   "display_name": "Python 3 (ipykernel)",
   "language": "python",
   "name": "python3"
  },
  "language_info": {
   "codemirror_mode": {
    "name": "ipython",
    "version": 3
   },
   "file_extension": ".py",
   "mimetype": "text/x-python",
   "name": "python",
   "nbconvert_exporter": "python",
   "pygments_lexer": "ipython3",
   "version": "3.12.3"
  }
 },
 "nbformat": 4,
 "nbformat_minor": 5
}
