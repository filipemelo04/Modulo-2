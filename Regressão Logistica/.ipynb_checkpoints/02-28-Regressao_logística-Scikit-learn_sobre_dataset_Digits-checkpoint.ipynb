{
 "cells": [
  {
   "cell_type": "markdown",
   "metadata": {},
   "source": [
    "# Regressão logística: Scikit-learn sobre dataset Digits por OCR\n",
    "\n",
    "## O que vamos fazer?\n",
    "- Descarregar o dataset de dígitos escritos à mão para o classificar por OCR (“optical character recognition”). \n",
    "- Pré-processar o dataset usando métodos de Scikit-learn.\n",
    "- Formar um modelo de classificação multiclasse por CV com Scikit-learn.\n",
    "\n",
    "OCR é um conjunto de técnicas relacionadas com a aprendizagem mecânica e a aprendizagem profunda ou inteligência artificial que tenta reconhecer os caracteres escritos à mão de forma visual.\n",
    "\n",
    "Como o conjunto de caracteres é relativamente pequeno (10 classes), é um modelo que por vezes podemos resolver por classificação logística ou SVM de uma forma simples.\n",
    "\n",
    "\n",
    "- As características do dataset encontram-se aqui: [Optical recognition of handwritten digits dataset](https://scikit-learn.org/stable/datasets/index.html#digits-dataset)\n",
    "- Pode carregar com esta função: [sklearn.datasets.load_digits](https://scikit-learn.org/stable/modules/generated/sklearn.datasets.load_digits.html)\n",
    "- Pode ter como referência este notebook: [Recognizing hand-written digits](https://scikit-learn.org/stable/auto_examples/classification/plot_digits_classification.html)\n",
    "\n",
    "Repetir os passos do exercício anterior para formar um modelo de ML de OCR sobre este dataset com o método LogisticRegression de Scikit-learn:"
   ]
  },
  {
   "cell_type": "code",
   "execution_count": 1,
   "metadata": {},
   "outputs": [],
   "source": [
    "# TODO: Importar de todos os módulos necessários para esta célula\n",
    "from sklearn.datasets import load_digits\n",
    "import matplotlib.pyplot as plt\n",
    "import numpy as np\n",
    "from sklearn.model_selection import train_test_split\n",
    "from sklearn.linear_model import LogisticRegression\n",
    "from sklearn.preprocessing import StandardScaler\n",
    "from sklearn.preprocessing import MinMaxScaler\n",
    "from sklearn.model_selection import cross_val_score\n"
   ]
  },
  {
   "cell_type": "markdown",
   "metadata": {},
   "source": [
    "## Carregar o dataset Digits\n",
    "\n",
    "Antes de começar a trabalhar com o mesmo, representar graficamente alguns dos exemplos e as suas classes ou números associados:"
   ]
  },
  {
   "cell_type": "code",
   "execution_count": 2,
   "metadata": {},
   "outputs": [
    {
     "data": {
      "text/plain": [
       "<Figure size 640x480 with 0 Axes>"
      ]
     },
     "metadata": {},
     "output_type": "display_data"
    },
    {
     "data": {
      "image/png": "[encoded data removed]",
      "text/plain": [
       "<Figure size 480x480 with 1 Axes>"
      ]
     },
     "metadata": {},
     "output_type": "display_data"
    },
    {
     "data": {
      "text/plain": [
       "(array([ 0.,  0.,  5., 13.,  9.,  1.,  0.,  0.,  0.,  0., 13., 15., 10.,\n",
       "        15.,  5.,  0.,  0.,  3., 15.,  2.,  0., 11.,  8.,  0.,  0.,  4.,\n",
       "        12.,  0.,  0.,  8.,  8.,  0.,  0.,  5.,  8.,  0.,  0.,  9.,  8.,\n",
       "         0.,  0.,  4., 11.,  0.,  1., 12.,  7.,  0.,  0.,  2., 14.,  5.,\n",
       "        10., 12.,  0.,  0.,  0.,  0.,  6., 13., 10.,  0.,  0.,  0.]),\n",
       " 0)"
      ]
     },
     "execution_count": 2,
     "metadata": {},
     "output_type": "execute_result"
    }
   ],
   "source": [
    "# TODO: Carregar o dataset Digits como arrays X e Y e representar alguns dos exemplos\n",
    "\n",
    "X, Y = load_digits(return_X_y=True)\n",
    "digits = load_digits()\n",
    "plt.gray()\n",
    "plt.matshow(digits.images[0])\n",
    "plt.show()\n",
    "X[0], Y[0]"
   ]
  },
  {
   "cell_type": "markdown",
   "metadata": {},
   "source": [
    "### Tamanho do Dataset"
   ]
  },
  {
   "cell_type": "code",
   "execution_count": 3,
   "metadata": {},
   "outputs": [
    {
     "data": {
      "text/plain": [
       "(1797, 64)"
      ]
     },
     "execution_count": 3,
     "metadata": {},
     "output_type": "execute_result"
    }
   ],
   "source": [
    "X.shape"
   ]
  },
  {
   "cell_type": "markdown",
   "metadata": {},
   "source": [
    "## Pré-processar os dados\n",
    "\n",
    "Pré-processar os dados com métodos de Scikit-learn, do mesmo modo que fez no exercício de Scikit-learn de regressão linear:\n",
    "\n",
    "- Reordená-los aleatoriamente. \n",
    "- Normalizar, se necessário.\n",
    "- Dividi-los em subsets de formação e testes.\n",
    "\n",
    "Nesta ocasião, mais uma vez, iremos fazer a validação cruzada por K-fold."
   ]
  },
  {
   "cell_type": "code",
   "execution_count": 4,
   "metadata": {},
   "outputs": [
    {
     "data": {
      "text/plain": [
       "array([[ 0.,  0.,  1., ...,  3.,  0.,  0.],\n",
       "       [ 0.,  0.,  0., ..., 13.,  1.,  0.],\n",
       "       [ 0.,  2., 13., ..., 16., 16.,  3.],\n",
       "       ...,\n",
       "       [ 0.,  0.,  4., ...,  6.,  0.,  0.],\n",
       "       [ 0.,  0., 11., ..., 16., 16.,  5.],\n",
       "       [ 0.,  0.,  2., ..., 12., 13.,  8.]])"
      ]
     },
     "execution_count": 4,
     "metadata": {},
     "output_type": "execute_result"
    }
   ],
   "source": [
    "# TODO: Reordenar os dados aleatoriamente\n",
    "\n",
    "indices = np.arange(len(X))\n",
    "np.random.shuffle(indices)\n",
    "\n",
    "X = X[indices]\n",
    "Y = Y[indices]\n",
    "X"
   ]
  },
  {
   "cell_type": "code",
   "execution_count": 5,
   "metadata": {},
   "outputs": [
    {
     "data": {
      "text/plain": [
       "array([[0.    , 0.    , 0.0625, ..., 0.1875, 0.    , 0.    ],\n",
       "       [0.    , 0.    , 0.    , ..., 0.8125, 0.0625, 0.    ],\n",
       "       [0.    , 0.25  , 0.8125, ..., 1.    , 1.    , 0.1875],\n",
       "       ...,\n",
       "       [0.    , 0.    , 0.25  , ..., 0.375 , 0.    , 0.    ],\n",
       "       [0.    , 0.    , 0.6875, ..., 1.    , 1.    , 0.3125],\n",
       "       [0.    , 0.    , 0.125 , ..., 0.75  , 0.8125, 0.5   ]])"
      ]
     },
     "execution_count": 5,
     "metadata": {},
     "output_type": "execute_result"
    }
   ],
   "source": [
    "# TODO: Normalizar, se necessário\n",
    "\n",
    "scaler = MinMaxScaler()\n",
    "X = scaler.fit_transform(X)\n",
    "X"
   ]
  },
  {
   "cell_type": "code",
   "execution_count": 6,
   "metadata": {},
   "outputs": [
    {
     "data": {
      "text/plain": [
       "((1437, 64), (360, 64))"
      ]
     },
     "execution_count": 6,
     "metadata": {},
     "output_type": "execute_result"
    }
   ],
   "source": [
    "# TODO: Dividi-los em subsets de formação e testes\n",
    "\n",
    "X_train, X_test, y_train, y_test = train_test_split(X, Y, test_size=0.2, random_state=42)\n",
    "X_train.shape, X_test.shape "
   ]
  },
  {
   "cell_type": "markdown",
   "metadata": {},
   "source": [
    "## Formar um modelo inicial\n",
    "- Formar um modelo inicial sobre o subset de formação sem regularização. \n",
    "- Comprovar a adequação do modelo e voltar a formá-lo se necessário.\n",
    "\n",
    "Então, usar [sklearn.linear_model.LogisticRegression](https://scikit-learn.org/stable/modules/generated/sklearn.linear_model.LogisticRegression.html) com esquema OvR (“one-vs-rest”, uma classe contra o resto). \n",
    "\n",
    "Avaliar sobre o subset de teste com o seu método de *score()*:"
   ]
  },
  {
   "cell_type": "code",
   "execution_count": 9,
   "metadata": {},
   "outputs": [
    {
     "name": "stdout",
     "output_type": "stream",
     "text": [
      "Score de treino: 0.9819067501739736\n"
     ]
    }
   ],
   "source": [
    "# TODO: Formar o seu modelo no subset de formação sem regularizar e avaliar sobre o teste\n",
    "\n",
    "clf = LogisticRegression(random_state=42, multi_class='ovr')\n",
    "clf.fit(X_train, y_train)\n",
    "print(\"Score de treino:\", clf.score(X_train, y_train))"
   ]
  },
  {
   "cell_type": "markdown",
   "metadata": {},
   "source": [
    "## Encontrar a regularização ótima através de validação cruzada\n",
    "- Formar um modelo por cada valor de regularização a considerar.\n",
    "- Forma-os e avaliá-los sobre um fold do subset de formação usando K-fold.\n",
    "- Escolher o modelo e a sua regularização ótima.\n",
    "\n",
    "\n",
    "Recordar que o método LogisticRegression usa o parâmetro de regularização L2 *C*:"
   ]
  },
  {
   "cell_type": "code",
   "execution_count": 10,
   "metadata": {},
   "outputs": [
    {
     "name": "stdout",
     "output_type": "stream",
     "text": [
      "Cs: 2.0\n",
      "[0.95833333 0.95277778 0.97493036 0.97214485 0.95543175]\n",
      "Média dos scores: 0.9627236149798823\n",
      "\n",
      "Cs: 10.0\n",
      "[0.95833333 0.95555556 0.96657382 0.97493036 0.95543175]\n",
      "Média dos scores: 0.9621649644073041\n",
      "\n",
      "Cs: 100.0\n",
      "[0.96111111 0.96944444 0.95264624 0.96657382 0.94707521]\n",
      "Média dos scores: 0.9593701640359023\n",
      "\n",
      "Cs: 1000.0\n",
      "[0.95277778 0.95       0.95264624 0.95821727 0.93593315]\n",
      "Média dos scores: 0.9499148870318785\n",
      "\n"
     ]
    },
    {
     "name": "stderr",
     "output_type": "stream",
     "text": [
      "C:\\Users\\SBUtilizador\\anaconda3\\Lib\\site-packages\\sklearn\\linear_model\\_logistic.py:469: ConvergenceWarning: lbfgs failed to converge (status=1):\n",
      "STOP: TOTAL NO. of ITERATIONS REACHED LIMIT.\n",
      "\n",
      "Increase the number of iterations (max_iter) or scale the data as shown in:\n",
      "    https://scikit-learn.org/stable/modules/preprocessing.html\n",
      "Please also refer to the documentation for alternative solver options:\n",
      "    https://scikit-learn.org/stable/modules/linear_model.html#logistic-regression\n",
      "  n_iter_i = _check_optimize_result(\n"
     ]
    },
    {
     "name": "stdout",
     "output_type": "stream",
     "text": [
      "Cs: 10000.0\n",
      "[0.95277778 0.94166667 0.94707521 0.94150418 0.93036212]\n",
      "Média dos scores: 0.9426771897245434\n",
      "\n"
     ]
    },
    {
     "name": "stderr",
     "output_type": "stream",
     "text": [
      "C:\\Users\\SBUtilizador\\anaconda3\\Lib\\site-packages\\sklearn\\linear_model\\_logistic.py:469: ConvergenceWarning: lbfgs failed to converge (status=1):\n",
      "STOP: TOTAL NO. of ITERATIONS REACHED LIMIT.\n",
      "\n",
      "Increase the number of iterations (max_iter) or scale the data as shown in:\n",
      "    https://scikit-learn.org/stable/modules/preprocessing.html\n",
      "Please also refer to the documentation for alternative solver options:\n",
      "    https://scikit-learn.org/stable/modules/linear_model.html#logistic-regression\n",
      "  n_iter_i = _check_optimize_result(\n"
     ]
    },
    {
     "name": "stdout",
     "output_type": "stream",
     "text": [
      "Cs: 99999.99999999999\n",
      "[0.95       0.93333333 0.94707521 0.93314763 0.92200557]\n",
      "Média dos scores: 0.9371123491179201\n",
      "\n"
     ]
    }
   ],
   "source": [
    "# TODO: Formar um modelo diferente por cada C sobre um fold de K-fold diferente\n",
    "\n",
    "lambdas = [0.5, 0.1, 0.01, 0.001, 0.0001, 0.00001]\n",
    "\n",
    "cs = [1/l if l != 0 else 0 for l in lambdas]\n",
    "\n",
    "log_models = [] \n",
    "\n",
    "for c in cs:\n",
    "    model = LogisticRegression(random_state=42, multi_class='ovr', C=c)\n",
    "    scores = cross_val_score(model, X, Y, cv=5, scoring='accuracy')\n",
    "    score = np.mean(scores)\n",
    "    print(\"Cs:\", c)\n",
    "    print(scores)\n",
    "    print(\"Média dos scores:\", score)\n",
    "    print()\n",
    "    log_models.append(round(score, 4))"
   ]
  },
  {
   "cell_type": "markdown",
   "metadata": {},
   "source": [
    "## Avaliar o modelo finalmente sobre o subset de teste\n",
    "\n",
    "- Mostrar os coeficientes e intercept do melhor modelo. \n",
    "- Avaliar o melhor modelo sobre o subset de teste inicial.\n",
    "- Calcular os acertos e falhas no subset de teste e representá-los graficamente.\n",
    "\n",
    "Como este dataset é muito visual, é melhor tentar mostrar visualmente todos os exemplos em que o modelo falhou, e pensar se seria capaz de reconhecer esse número.\n",
    "\n",
    "*Por vezes, mesmo um humano teria dificuldade em decifrar qual é o número baseado na letra da pessoa que escreve 8-)*"
   ]
  },
  {
   "cell_type": "code",
   "execution_count": 13,
   "metadata": {},
   "outputs": [
    {
     "name": "stdout",
     "output_type": "stream",
     "text": [
      "Coeficientes de intercept do modelo formado\n",
      "Intercept: -5.438597647456164   \n",
      "Coeficientes: [ 0.00000000e+00 -3.94253629e-01 -1.79250071e-01  6.31546791e-01\n",
      " -1.72799284e-01 -1.29942277e+00 -6.75361868e-01 -8.98126598e-02\n",
      " -1.07824270e-03 -7.45329035e-01  3.65384354e-01  7.58535709e-01\n",
      "  1.07297033e+00  1.74538391e+00 -1.00233467e-01 -1.16208519e-01\n",
      " -2.96417424e-02  2.91542649e-01  1.05756994e+00 -1.66424622e-01\n",
      " -1.59042735e+00  1.92209061e+00  1.11546370e-01 -4.25084685e-02\n",
      " -3.02260655e-02  5.83479788e-01  5.26426847e-01 -1.42481146e+00\n",
      " -3.36621704e+00  2.46005152e-01  4.19915813e-01 -1.24975287e-04\n",
      "  0.00000000e+00  1.09849183e+00  1.30408385e+00 -1.43438558e+00\n",
      " -3.08426676e+00 -4.49050880e-01  3.74361223e-01  0.00000000e+00\n",
      " -1.42195767e-02 -1.32654970e-01  1.95134968e+00 -1.92518939e+00\n",
      " -1.62784987e+00  8.04317082e-02  4.89507692e-01 -3.63757638e-03\n",
      " -1.75075975e-03 -4.21514894e-01  9.25312946e-01  1.29112300e-01\n",
      "  7.03413813e-01  3.64628417e-01 -7.05085082e-01 -2.60483955e-01\n",
      "  8.05247578e-04 -2.78155874e-01 -6.93208741e-01  8.39054576e-01\n",
      " -7.80637834e-01 -7.33000287e-01 -7.43206361e-01 -2.22236828e-01]\n",
      "\n",
      "Mean Accuracy: 0.96\n"
     ]
    },
    {
     "data": {
      "image/png": "[encoded data removed]",
      "text/plain": [
       "<Figure size 640x480 with 1 Axes>"
      ]
     },
     "metadata": {},
     "output_type": "display_data"
    }
   ],
   "source": [
    "# TODO: Avaliar o melhor modelo sobre o subset de teste inicial e representar as suas falhas graficamente\n",
    "\n",
    "# TODO: Avaliar o melhor modelo sobre o subset de teste inicial\n",
    "model = LogisticRegression(random_state=42, multi_class='ovr', C=cs[0])\n",
    "model.fit(X_train, y_train)\n",
    "\n",
    "# Mostrar os coeficientes e intercept do melhor modelo formado\n",
    "print('Coeficientes de intercept do modelo formado')\n",
    "print(\"Intercept:\", model.intercept_[0], \"  \\nCoeficientes:\", model.coef_[0])  # Mostrar o intercept como o primeiro coeficiente\n",
    "print()  \n",
    "    \n",
    "# Realizar as previsões sobre o subset de teste\n",
    "y_test_pred = model.predict(X_test)\n",
    "\n",
    "# Calcular a métrica de avaliação do modelo de precisão (“accuracy”) média (o seu método score())\n",
    "mean_accuracy = model.score(X_test, y_test)\n",
    "print(\"Mean Accuracy: %.2f\" % mean_accuracy)\n",
    "\n",
    "# Calcular os acertos e falhas no subset de teste e representá-los graficamente\n",
    "results = y_test - y_test_pred\n",
    "\n",
    "# Representar graficamente\n",
    "plt.figure(1)\n",
    "\n",
    "plt.scatter(range(len(results)), results)\n",
    "\n",
    "plt.show()"
   ]
  },
  {
   "cell_type": "code",
   "execution_count": 15,
   "metadata": {},
   "outputs": [
    {
     "data": {
      "text/plain": [
       "array([ 78, 118, 129, 152, 160, 163, 193, 236, 273, 275, 280, 290, 316,\n",
       "       335, 346, 356], dtype=int64)"
      ]
     },
     "execution_count": 15,
     "metadata": {},
     "output_type": "execute_result"
    }
   ],
   "source": [
    "# Encontrar os índices onde os valores são diferentes\n",
    "indices_diferentes = np.where(y_test_pred != y_test)[0]\n",
    "indices_diferentes"
   ]
  },
  {
   "cell_type": "markdown",
   "metadata": {},
   "source": [
    "### Representação dos dígitos avaliados erradamente"
   ]
  },
  {
   "cell_type": "code",
   "execution_count": 31,
   "metadata": {},
   "outputs": [
    {
     "data": {
      "text/plain": [
       "<Figure size 640x480 with 0 Axes>"
      ]
     },
     "metadata": {},
     "output_type": "display_data"
    },
    {
     "data": {
      "image/png": "[encoded data removed]",
      "text/plain": [
       "<Figure size 800x800 with 16 Axes>"
      ]
     },
     "metadata": {},
     "output_type": "display_data"
    }
   ],
   "source": [
    "# Criar uma figura e um conjunto de subgráficos\n",
    "contador=0\n",
    "\n",
    "plt.gray()  \n",
    "fig, axs = plt.subplots(4, 4, figsize=(8, 8))  # grade 4x4\n",
    "\n",
    "for i in range(4):\n",
    "    for j in range(4):\n",
    "        numero = i * 4 + j\n",
    "        ax = axs[i, j]\n",
    "        matrix_image = X_test[indices_diferentes[contador]].reshape(8, 8)\n",
    "        ax.matshow(matrix_image)\n",
    "        ax.axis('off')  # desliga os eixos para visualização limpa\n",
    "        ax.set_title(f'Dígito: {y_test[indices_diferentes[contador]]},  Digito previsto: {y_test_pred[indices_diferentes[contador]]}', fontsize=6)\n",
    "        #ax.set_title(f'{y_test},  {y_test_pred}', fontsize=6)\n",
    "        contador+=1\n",
    "        \n",
    "plt.tight_layout()\n",
    "plt.show()"
   ]
  }
 ],
 "metadata": {
  "environment": {
   "name": "common-cpu.m54",
   "type": "gcloud",
   "uri": "gcr.io/deeplearning-platform-release/base-cpu:m54"
  },
  "kernelspec": {
   "display_name": "Python 3 (ipykernel)",
   "language": "python",
   "name": "python3"
  },
  "language_info": {
   "codemirror_mode": {
    "name": "ipython",
    "version": 3
   },
   "file_extension": ".py",
   "mimetype": "text/x-python",
   "name": "python",
   "nbconvert_exporter": "python",
   "pygments_lexer": "ipython3",
   "version": "3.12.3"
  }
 },
 "nbformat": 4,
 "nbformat_minor": 4
}
